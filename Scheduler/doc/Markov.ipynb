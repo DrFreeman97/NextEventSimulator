{
 "cells": [
  {
   "cell_type": "code",
   "execution_count": 24,
   "metadata": {},
   "outputs": [],
   "source": [
    "import numpy as np \n",
    "import numpy.random as npr"
   ]
  },
  {
   "cell_type": "code",
   "execution_count": 72,
   "metadata": {},
   "outputs": [],
   "source": [
    "generator = npr.default_rng(123456789)\n",
    "def generate_matrix(shape) -> np.array:\n",
    "    matrix = generator.integers(1,1000,shape).astype(np.double)\n",
    "    for i in range(len(matrix)):\n",
    "        sum = 0\n",
    "        for j in range(len(matrix[i])):\n",
    "            sum += matrix[i][j]\n",
    "            pass \n",
    "        for j in range(len(matrix[i])):\n",
    "            matrix[i][j] = matrix[i][j]/sum\n",
    "            pass\n",
    "        pass\n",
    "    return matrix\n",
    "    "
   ]
  },
  {
   "cell_type": "code",
   "execution_count": 75,
   "metadata": {},
   "outputs": [
    {
     "name": "stdout",
     "output_type": "stream",
     "text": [
      "[[0.33966942 0.39090909 0.26942149]\n",
      " [0.53266332 0.38291457 0.08442211]\n",
      " [0.62317073 0.32926829 0.04756098]]\n",
      "[1. 1. 1.]\n",
      "[[0.49149383 0.37117661 0.13732956]\n",
      " [0.43750338 0.38264403 0.1798526 ]\n",
      " [0.41669979 0.38534505 0.19795516]]\n"
     ]
    }
   ],
   "source": [
    "matrix = generate_matrix((3,3))\n",
    "print(matrix)\n",
    "print(np.array([i.sum() for i in [np.array(mat2[k]) for k in range(len(matrix))]]))\n",
    "mat2 = np.zeros(matrix.shape)\n",
    "for i in range(len(mat2)):\n",
    "    for j in range(len(mat2[i])):\n",
    "        sum = 0\n",
    "        for k in range(len(mat2[i])):\n",
    "            sum += matrix[i][k] * matrix[k][j]\n",
    "            pass\n",
    "        mat2[i][j] = sum\n",
    "        sum = 0\n",
    "        pass\n",
    "    pass\n",
    "\n",
    "print(mat2)"
   ]
  },
  {
   "cell_type": "code",
   "execution_count": 20,
   "metadata": {},
   "outputs": [],
   "source": [
    "def birth_death_process(bp,dp,states):\n",
    "    matrix = np.zeros((states,states))\n",
    "    matrix[0][0] = -bp\n",
    "    matrix[0][1] = bp\n",
    "    matrix[1][0] = dp\n",
    "    matrix[states - 1][states - 1] = 1-dp\n",
    "    for i in range(1,states-1):\n",
    "        matrix[i][i] = -(bp-dp)\n",
    "        matrix[i][i+1] = bp\n",
    "        matrix[i+1][i] = dp\n",
    "        pass\n",
    "    return matrix"
   ]
  },
  {
   "cell_type": "code",
   "execution_count": 21,
   "metadata": {},
   "outputs": [
    {
     "name": "stdout",
     "output_type": "stream",
     "text": [
      "[[-0.6  0.6  0.   0.   0.   0.   0.   0.   0.   0. ]\n",
      " [ 0.4 -0.2  0.6  0.   0.   0.   0.   0.   0.   0. ]\n",
      " [ 0.   0.4 -0.2  0.6  0.   0.   0.   0.   0.   0. ]\n",
      " [ 0.   0.   0.4 -0.2  0.6  0.   0.   0.   0.   0. ]\n",
      " [ 0.   0.   0.   0.4 -0.2  0.6  0.   0.   0.   0. ]\n",
      " [ 0.   0.   0.   0.   0.4 -0.2  0.6  0.   0.   0. ]\n",
      " [ 0.   0.   0.   0.   0.   0.4 -0.2  0.6  0.   0. ]\n",
      " [ 0.   0.   0.   0.   0.   0.   0.4 -0.2  0.6  0. ]\n",
      " [ 0.   0.   0.   0.   0.   0.   0.   0.4 -0.2  0.6]\n",
      " [ 0.   0.   0.   0.   0.   0.   0.   0.   0.4  0.6]]\n"
     ]
    }
   ],
   "source": [
    "matrix = birth_death_process(0.6,0.4,10)\n",
    "print(matrix)"
   ]
  },
  {
   "cell_type": "code",
   "execution_count": null,
   "metadata": {},
   "outputs": [],
   "source": []
  }
 ],
 "metadata": {
  "kernelspec": {
   "display_name": ".venv",
   "language": "python",
   "name": "python3"
  },
  "language_info": {
   "codemirror_mode": {
    "name": "ipython",
    "version": 3
   },
   "file_extension": ".py",
   "mimetype": "text/x-python",
   "name": "python",
   "nbconvert_exporter": "python",
   "pygments_lexer": "ipython3",
   "version": "3.11.4"
  }
 },
 "nbformat": 4,
 "nbformat_minor": 2
}
