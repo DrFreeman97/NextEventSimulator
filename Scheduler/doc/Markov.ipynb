{
 "cells": [
  {
   "cell_type": "code",
   "execution_count": 1,
   "metadata": {},
   "outputs": [],
   "source": [
    "import sys \n",
    "sys.path.append(\"./modules/\")\n",
    "from markov import *\n",
    "from mva import *"
   ]
  },
  {
   "cell_type": "code",
   "execution_count": 2,
   "metadata": {},
   "outputs": [],
   "source": [
    "# variables\n",
    "\n",
    "alpha = 0.8\n",
    "beta = 0.2\n",
    "u1 = 15\n",
    "u2 = 75\n",
    "thinkTime = 5000\n",
    "timeSlice = 3\n",
    "Sio1 = 40\n",
    "Sio2 = 180\n",
    "qio1 = 0.65 #route to io1\n",
    "qio2 = 0.25 # route to io2\n",
    "qoutd = 0.1*0.4 #go to delay station\n",
    "qouts = 0.1*0.6 # renter the system"
   ]
  },
  {
   "cell_type": "code",
   "execution_count": 3,
   "metadata": {},
   "outputs": [],
   "source": [
    "matrix = np.array([\n",
    "    [0,1,0,0,0],\n",
    "    [0,0,1,0,0],\n",
    "    [0.004,0.006,0.9,0.065,0.025],\n",
    "    [0,0,1,0,0],\n",
    "    [0,0,1,0,0]],np.dtype('d'))\n",
    "\n",
    "\n",
    "mva = MVA(matrix,[5000,0,2.7,40,180],[StationType.Delay,StationType.LoadIndependent,StationType.LoadIndependent,StationType.LoadIndependent,StationType.LoadIndependent],30)\n",
    "\n",
    "\n",
    "def produce_graph_and_save(dataframe: pd.DataFrame, name:str, yaxis:str, log:bool = False):\n",
    "    fig = plt.line(dataframe,y=[\"CPU\",\"SWAP_IN\",\"IO1\",\"IO2\"], x=\"N\",title=name,log_y=log)\n",
    "    fig.update_yaxes(title_text=yaxis)\n",
    "    #data = fig.to_image(\"png\")\n",
    "    #f = open(\"./Images/{}.png\".format(name),\"+wb\")\n",
    "    #f.write(data)\n",
    "    #f.close()\n",
    "    fig.show()\n",
    "pass\n",
    "\n",
    "mva()\n",
    "\n",
    "utilization = mvaToDataframe(mva.utilizations)\n",
    "throughputs = mvaToDataframe(mva.throughputs)\n",
    "meanWaits = mvaToDataframe(mva.meanwaits)\n",
    "meanClients = mvaToDataframe(mva.meanclients)\n"
   ]
  },
  {
   "cell_type": "code",
   "execution_count": 4,
   "metadata": {},
   "outputs": [
    {
     "data": {
      "application/vnd.plotly.v1+json": {
       "config": {
        "plotlyServerURL": "https://plot.ly"
       },
       "data": [
        {
         "hovertemplate": "variable=CPU<br>N=%{x}<br>value=%{y}<extra></extra>",
         "legendgroup": "CPU",
         "line": {
          "color": "#636efa",
          "dash": "solid"
         },
         "marker": {
          "symbol": "circle"
         },
         "mode": "lines",
         "name": "CPU",
         "orientation": "v",
         "showlegend": true,
         "type": "scatter",
         "x": [
          0,
          1,
          2,
          3,
          4,
          5,
          6,
          7,
          8,
          9,
          10,
          11,
          12,
          13,
          14,
          15,
          16,
          17,
          18,
          19,
          20,
          21,
          22,
          23,
          24,
          25,
          26,
          27,
          28,
          29
         ],
         "xaxis": "x",
         "y": [
          0,
          0.09060402696865717,
          0.1744692848774239,
          0.2508144220263419,
          0.31896581981351263,
          0.3784483237008548,
          0.42907256696122376,
          0.47099532712716846,
          0.5047305514611625,
          0.5311008693289273,
          0.5511388784931406,
          0.5659644356565499,
          0.5766693689953925,
          0.5842329150843113,
          0.5894763183935835,
          0.5930519915515446,
          0.5954560815766546,
          0.5970528738335843,
          0.5981023631150697,
          0.5987858865052564,
          0.5992275518620183,
          0.5995109766918515,
          0.5996917613950286,
          0.5998064669856982,
          0.5998789073043839,
          0.5999244672950432,
          0.5999530166221202,
          0.5999708482264937,
          0.599981953179272,
          0.5999888508747597
         ],
         "yaxis": "y"
        },
        {
         "hovertemplate": "variable=SWAP_IN<br>N=%{x}<br>value=%{y}<extra></extra>",
         "legendgroup": "SWAP_IN",
         "line": {
          "color": "#EF553B",
          "dash": "solid"
         },
         "marker": {
          "symbol": "circle"
         },
         "mode": "lines",
         "name": "SWAP_IN",
         "orientation": "v",
         "showlegend": true,
         "type": "scatter",
         "x": [
          0,
          1,
          2,
          3,
          4,
          5,
          6,
          7,
          8,
          9,
          10,
          11,
          12,
          13,
          14,
          15,
          16,
          17,
          18,
          19,
          20,
          21,
          22,
          23,
          24,
          25,
          26,
          27,
          28,
          29
         ],
         "xaxis": "x",
         "y": [
          0,
          0,
          0,
          0,
          0,
          0,
          0,
          0,
          0,
          0,
          0,
          0,
          0,
          0,
          0,
          0,
          0,
          0,
          0,
          0,
          0,
          0,
          0,
          0,
          0,
          0,
          0,
          0,
          0,
          0
         ],
         "yaxis": "y"
        },
        {
         "hovertemplate": "variable=IO1<br>N=%{x}<br>value=%{y}<extra></extra>",
         "legendgroup": "IO1",
         "line": {
          "color": "#00cc96",
          "dash": "solid"
         },
         "marker": {
          "symbol": "circle"
         },
         "mode": "lines",
         "name": "IO1",
         "orientation": "v",
         "showlegend": true,
         "type": "scatter",
         "x": [
          0,
          1,
          2,
          3,
          4,
          5,
          6,
          7,
          8,
          9,
          10,
          11,
          12,
          13,
          14,
          15,
          16,
          17,
          18,
          19,
          20,
          21,
          22,
          23,
          24,
          25,
          26,
          27,
          28,
          29
         ],
         "xaxis": "x",
         "y": [
          0,
          0.08724832226981905,
          0.16800745951872725,
          0.24152499899858482,
          0.30715227094457287,
          0.364431719134816,
          0.4131809904246487,
          0.4535510557713467,
          0.4860368273536092,
          0.5114304667829054,
          0.5307263274603745,
          0.5450027899146341,
          0.5553112442413648,
          0.5625946589939662,
          0.5676438621808872,
          0.5710871029998109,
          0.5734021526537187,
          0.5749398044567533,
          0.5759504237648934,
          0.57660863147399,
          0.5770339388545934,
          0.5773068664685185,
          0.5774809554419557,
          0.57759141267742,
          0.5776611700213425,
          0.5777050426049423,
          0.5777325345495361,
          0.5777497057241188,
          0.5777603993823501,
          0.5777670416076349
         ],
         "yaxis": "y"
        },
        {
         "hovertemplate": "variable=IO2<br>N=%{x}<br>value=%{y}<extra></extra>",
         "legendgroup": "IO2",
         "line": {
          "color": "#ab63fa",
          "dash": "solid"
         },
         "marker": {
          "symbol": "circle"
         },
         "mode": "lines",
         "name": "IO2",
         "orientation": "v",
         "showlegend": true,
         "type": "scatter",
         "x": [
          0,
          1,
          2,
          3,
          4,
          5,
          6,
          7,
          8,
          9,
          10,
          11,
          12,
          13,
          14,
          15,
          16,
          17,
          18,
          19,
          20,
          21,
          22,
          23,
          24,
          25,
          26,
          27,
          28,
          29
         ],
         "xaxis": "x",
         "y": [
          0,
          0.15100671136436153,
          0.29078214098083793,
          0.41802403601832205,
          0.5316096988088421,
          0.6307472051235739,
          0.7151209437511326,
          0.784992210578667,
          0.8412175843755478,
          0.8851681140823736,
          0.9185647959674241,
          0.9432740578655213,
          0.9611156134007133,
          0.9737215235280359,
          0.9824605290290178,
          0.9884199842824176,
          0.9924268009842988,
          0.9950881214081078,
          0.996837270207687,
          0.9979764758561116,
          0.9987125847828289,
          0.9991849594984354,
          0.9994862673365649,
          0.9996774433206976,
          0.9997981771849739,
          0.9998741105026138,
          0.99992169271433,
          0.9999514120549033,
          0.999969920309503,
          0.9999814164686304
         ],
         "yaxis": "y"
        }
       ],
       "layout": {
        "legend": {
         "title": {
          "text": "variable"
         },
         "tracegroupgap": 0
        },
        "template": {
         "data": {
          "bar": [
           {
            "error_x": {
             "color": "#2a3f5f"
            },
            "error_y": {
             "color": "#2a3f5f"
            },
            "marker": {
             "line": {
              "color": "#E5ECF6",
              "width": 0.5
             },
             "pattern": {
              "fillmode": "overlay",
              "size": 10,
              "solidity": 0.2
             }
            },
            "type": "bar"
           }
          ],
          "barpolar": [
           {
            "marker": {
             "line": {
              "color": "#E5ECF6",
              "width": 0.5
             },
             "pattern": {
              "fillmode": "overlay",
              "size": 10,
              "solidity": 0.2
             }
            },
            "type": "barpolar"
           }
          ],
          "carpet": [
           {
            "aaxis": {
             "endlinecolor": "#2a3f5f",
             "gridcolor": "white",
             "linecolor": "white",
             "minorgridcolor": "white",
             "startlinecolor": "#2a3f5f"
            },
            "baxis": {
             "endlinecolor": "#2a3f5f",
             "gridcolor": "white",
             "linecolor": "white",
             "minorgridcolor": "white",
             "startlinecolor": "#2a3f5f"
            },
            "type": "carpet"
           }
          ],
          "choropleth": [
           {
            "colorbar": {
             "outlinewidth": 0,
             "ticks": ""
            },
            "type": "choropleth"
           }
          ],
          "contour": [
           {
            "colorbar": {
             "outlinewidth": 0,
             "ticks": ""
            },
            "colorscale": [
             [
              0,
              "#0d0887"
             ],
             [
              0.1111111111111111,
              "#46039f"
             ],
             [
              0.2222222222222222,
              "#7201a8"
             ],
             [
              0.3333333333333333,
              "#9c179e"
             ],
             [
              0.4444444444444444,
              "#bd3786"
             ],
             [
              0.5555555555555556,
              "#d8576b"
             ],
             [
              0.6666666666666666,
              "#ed7953"
             ],
             [
              0.7777777777777778,
              "#fb9f3a"
             ],
             [
              0.8888888888888888,
              "#fdca26"
             ],
             [
              1,
              "#f0f921"
             ]
            ],
            "type": "contour"
           }
          ],
          "contourcarpet": [
           {
            "colorbar": {
             "outlinewidth": 0,
             "ticks": ""
            },
            "type": "contourcarpet"
           }
          ],
          "heatmap": [
           {
            "colorbar": {
             "outlinewidth": 0,
             "ticks": ""
            },
            "colorscale": [
             [
              0,
              "#0d0887"
             ],
             [
              0.1111111111111111,
              "#46039f"
             ],
             [
              0.2222222222222222,
              "#7201a8"
             ],
             [
              0.3333333333333333,
              "#9c179e"
             ],
             [
              0.4444444444444444,
              "#bd3786"
             ],
             [
              0.5555555555555556,
              "#d8576b"
             ],
             [
              0.6666666666666666,
              "#ed7953"
             ],
             [
              0.7777777777777778,
              "#fb9f3a"
             ],
             [
              0.8888888888888888,
              "#fdca26"
             ],
             [
              1,
              "#f0f921"
             ]
            ],
            "type": "heatmap"
           }
          ],
          "heatmapgl": [
           {
            "colorbar": {
             "outlinewidth": 0,
             "ticks": ""
            },
            "colorscale": [
             [
              0,
              "#0d0887"
             ],
             [
              0.1111111111111111,
              "#46039f"
             ],
             [
              0.2222222222222222,
              "#7201a8"
             ],
             [
              0.3333333333333333,
              "#9c179e"
             ],
             [
              0.4444444444444444,
              "#bd3786"
             ],
             [
              0.5555555555555556,
              "#d8576b"
             ],
             [
              0.6666666666666666,
              "#ed7953"
             ],
             [
              0.7777777777777778,
              "#fb9f3a"
             ],
             [
              0.8888888888888888,
              "#fdca26"
             ],
             [
              1,
              "#f0f921"
             ]
            ],
            "type": "heatmapgl"
           }
          ],
          "histogram": [
           {
            "marker": {
             "pattern": {
              "fillmode": "overlay",
              "size": 10,
              "solidity": 0.2
             }
            },
            "type": "histogram"
           }
          ],
          "histogram2d": [
           {
            "colorbar": {
             "outlinewidth": 0,
             "ticks": ""
            },
            "colorscale": [
             [
              0,
              "#0d0887"
             ],
             [
              0.1111111111111111,
              "#46039f"
             ],
             [
              0.2222222222222222,
              "#7201a8"
             ],
             [
              0.3333333333333333,
              "#9c179e"
             ],
             [
              0.4444444444444444,
              "#bd3786"
             ],
             [
              0.5555555555555556,
              "#d8576b"
             ],
             [
              0.6666666666666666,
              "#ed7953"
             ],
             [
              0.7777777777777778,
              "#fb9f3a"
             ],
             [
              0.8888888888888888,
              "#fdca26"
             ],
             [
              1,
              "#f0f921"
             ]
            ],
            "type": "histogram2d"
           }
          ],
          "histogram2dcontour": [
           {
            "colorbar": {
             "outlinewidth": 0,
             "ticks": ""
            },
            "colorscale": [
             [
              0,
              "#0d0887"
             ],
             [
              0.1111111111111111,
              "#46039f"
             ],
             [
              0.2222222222222222,
              "#7201a8"
             ],
             [
              0.3333333333333333,
              "#9c179e"
             ],
             [
              0.4444444444444444,
              "#bd3786"
             ],
             [
              0.5555555555555556,
              "#d8576b"
             ],
             [
              0.6666666666666666,
              "#ed7953"
             ],
             [
              0.7777777777777778,
              "#fb9f3a"
             ],
             [
              0.8888888888888888,
              "#fdca26"
             ],
             [
              1,
              "#f0f921"
             ]
            ],
            "type": "histogram2dcontour"
           }
          ],
          "mesh3d": [
           {
            "colorbar": {
             "outlinewidth": 0,
             "ticks": ""
            },
            "type": "mesh3d"
           }
          ],
          "parcoords": [
           {
            "line": {
             "colorbar": {
              "outlinewidth": 0,
              "ticks": ""
             }
            },
            "type": "parcoords"
           }
          ],
          "pie": [
           {
            "automargin": true,
            "type": "pie"
           }
          ],
          "scatter": [
           {
            "fillpattern": {
             "fillmode": "overlay",
             "size": 10,
             "solidity": 0.2
            },
            "type": "scatter"
           }
          ],
          "scatter3d": [
           {
            "line": {
             "colorbar": {
              "outlinewidth": 0,
              "ticks": ""
             }
            },
            "marker": {
             "colorbar": {
              "outlinewidth": 0,
              "ticks": ""
             }
            },
            "type": "scatter3d"
           }
          ],
          "scattercarpet": [
           {
            "marker": {
             "colorbar": {
              "outlinewidth": 0,
              "ticks": ""
             }
            },
            "type": "scattercarpet"
           }
          ],
          "scattergeo": [
           {
            "marker": {
             "colorbar": {
              "outlinewidth": 0,
              "ticks": ""
             }
            },
            "type": "scattergeo"
           }
          ],
          "scattergl": [
           {
            "marker": {
             "colorbar": {
              "outlinewidth": 0,
              "ticks": ""
             }
            },
            "type": "scattergl"
           }
          ],
          "scattermapbox": [
           {
            "marker": {
             "colorbar": {
              "outlinewidth": 0,
              "ticks": ""
             }
            },
            "type": "scattermapbox"
           }
          ],
          "scatterpolar": [
           {
            "marker": {
             "colorbar": {
              "outlinewidth": 0,
              "ticks": ""
             }
            },
            "type": "scatterpolar"
           }
          ],
          "scatterpolargl": [
           {
            "marker": {
             "colorbar": {
              "outlinewidth": 0,
              "ticks": ""
             }
            },
            "type": "scatterpolargl"
           }
          ],
          "scatterternary": [
           {
            "marker": {
             "colorbar": {
              "outlinewidth": 0,
              "ticks": ""
             }
            },
            "type": "scatterternary"
           }
          ],
          "surface": [
           {
            "colorbar": {
             "outlinewidth": 0,
             "ticks": ""
            },
            "colorscale": [
             [
              0,
              "#0d0887"
             ],
             [
              0.1111111111111111,
              "#46039f"
             ],
             [
              0.2222222222222222,
              "#7201a8"
             ],
             [
              0.3333333333333333,
              "#9c179e"
             ],
             [
              0.4444444444444444,
              "#bd3786"
             ],
             [
              0.5555555555555556,
              "#d8576b"
             ],
             [
              0.6666666666666666,
              "#ed7953"
             ],
             [
              0.7777777777777778,
              "#fb9f3a"
             ],
             [
              0.8888888888888888,
              "#fdca26"
             ],
             [
              1,
              "#f0f921"
             ]
            ],
            "type": "surface"
           }
          ],
          "table": [
           {
            "cells": {
             "fill": {
              "color": "#EBF0F8"
             },
             "line": {
              "color": "white"
             }
            },
            "header": {
             "fill": {
              "color": "#C8D4E3"
             },
             "line": {
              "color": "white"
             }
            },
            "type": "table"
           }
          ]
         },
         "layout": {
          "annotationdefaults": {
           "arrowcolor": "#2a3f5f",
           "arrowhead": 0,
           "arrowwidth": 1
          },
          "autotypenumbers": "strict",
          "coloraxis": {
           "colorbar": {
            "outlinewidth": 0,
            "ticks": ""
           }
          },
          "colorscale": {
           "diverging": [
            [
             0,
             "#8e0152"
            ],
            [
             0.1,
             "#c51b7d"
            ],
            [
             0.2,
             "#de77ae"
            ],
            [
             0.3,
             "#f1b6da"
            ],
            [
             0.4,
             "#fde0ef"
            ],
            [
             0.5,
             "#f7f7f7"
            ],
            [
             0.6,
             "#e6f5d0"
            ],
            [
             0.7,
             "#b8e186"
            ],
            [
             0.8,
             "#7fbc41"
            ],
            [
             0.9,
             "#4d9221"
            ],
            [
             1,
             "#276419"
            ]
           ],
           "sequential": [
            [
             0,
             "#0d0887"
            ],
            [
             0.1111111111111111,
             "#46039f"
            ],
            [
             0.2222222222222222,
             "#7201a8"
            ],
            [
             0.3333333333333333,
             "#9c179e"
            ],
            [
             0.4444444444444444,
             "#bd3786"
            ],
            [
             0.5555555555555556,
             "#d8576b"
            ],
            [
             0.6666666666666666,
             "#ed7953"
            ],
            [
             0.7777777777777778,
             "#fb9f3a"
            ],
            [
             0.8888888888888888,
             "#fdca26"
            ],
            [
             1,
             "#f0f921"
            ]
           ],
           "sequentialminus": [
            [
             0,
             "#0d0887"
            ],
            [
             0.1111111111111111,
             "#46039f"
            ],
            [
             0.2222222222222222,
             "#7201a8"
            ],
            [
             0.3333333333333333,
             "#9c179e"
            ],
            [
             0.4444444444444444,
             "#bd3786"
            ],
            [
             0.5555555555555556,
             "#d8576b"
            ],
            [
             0.6666666666666666,
             "#ed7953"
            ],
            [
             0.7777777777777778,
             "#fb9f3a"
            ],
            [
             0.8888888888888888,
             "#fdca26"
            ],
            [
             1,
             "#f0f921"
            ]
           ]
          },
          "colorway": [
           "#636efa",
           "#EF553B",
           "#00cc96",
           "#ab63fa",
           "#FFA15A",
           "#19d3f3",
           "#FF6692",
           "#B6E880",
           "#FF97FF",
           "#FECB52"
          ],
          "font": {
           "color": "#2a3f5f"
          },
          "geo": {
           "bgcolor": "white",
           "lakecolor": "white",
           "landcolor": "#E5ECF6",
           "showlakes": true,
           "showland": true,
           "subunitcolor": "white"
          },
          "hoverlabel": {
           "align": "left"
          },
          "hovermode": "closest",
          "mapbox": {
           "style": "light"
          },
          "paper_bgcolor": "white",
          "plot_bgcolor": "#E5ECF6",
          "polar": {
           "angularaxis": {
            "gridcolor": "white",
            "linecolor": "white",
            "ticks": ""
           },
           "bgcolor": "#E5ECF6",
           "radialaxis": {
            "gridcolor": "white",
            "linecolor": "white",
            "ticks": ""
           }
          },
          "scene": {
           "xaxis": {
            "backgroundcolor": "#E5ECF6",
            "gridcolor": "white",
            "gridwidth": 2,
            "linecolor": "white",
            "showbackground": true,
            "ticks": "",
            "zerolinecolor": "white"
           },
           "yaxis": {
            "backgroundcolor": "#E5ECF6",
            "gridcolor": "white",
            "gridwidth": 2,
            "linecolor": "white",
            "showbackground": true,
            "ticks": "",
            "zerolinecolor": "white"
           },
           "zaxis": {
            "backgroundcolor": "#E5ECF6",
            "gridcolor": "white",
            "gridwidth": 2,
            "linecolor": "white",
            "showbackground": true,
            "ticks": "",
            "zerolinecolor": "white"
           }
          },
          "shapedefaults": {
           "line": {
            "color": "#2a3f5f"
           }
          },
          "ternary": {
           "aaxis": {
            "gridcolor": "white",
            "linecolor": "white",
            "ticks": ""
           },
           "baxis": {
            "gridcolor": "white",
            "linecolor": "white",
            "ticks": ""
           },
           "bgcolor": "#E5ECF6",
           "caxis": {
            "gridcolor": "white",
            "linecolor": "white",
            "ticks": ""
           }
          },
          "title": {
           "x": 0.05
          },
          "xaxis": {
           "automargin": true,
           "gridcolor": "white",
           "linecolor": "white",
           "ticks": "",
           "title": {
            "standoff": 15
           },
           "zerolinecolor": "white",
           "zerolinewidth": 2
          },
          "yaxis": {
           "automargin": true,
           "gridcolor": "white",
           "linecolor": "white",
           "ticks": "",
           "title": {
            "standoff": 15
           },
           "zerolinecolor": "white",
           "zerolinewidth": 2
          }
         }
        },
        "title": {
         "text": "Utilizations_markov"
        },
        "xaxis": {
         "anchor": "y",
         "domain": [
          0,
          1
         ],
         "title": {
          "text": "N"
         }
        },
        "yaxis": {
         "anchor": "x",
         "domain": [
          0,
          1
         ],
         "title": {
          "text": "B/T"
         }
        }
       }
      }
     },
     "metadata": {},
     "output_type": "display_data"
    }
   ],
   "source": [
    "produce_graph_and_save(utilization,\"Utilizations_markov\",\"B/T\")"
   ]
  },
  {
   "cell_type": "code",
   "execution_count": 5,
   "metadata": {},
   "outputs": [
    {
     "data": {
      "application/vnd.plotly.v1+json": {
       "config": {
        "plotlyServerURL": "https://plot.ly"
       },
       "data": [
        {
         "hovertemplate": "variable=CPU<br>N=%{x}<br>value=%{y}<extra></extra>",
         "legendgroup": "CPU",
         "line": {
          "color": "#636efa",
          "dash": "solid"
         },
         "marker": {
          "symbol": "circle"
         },
         "mode": "lines",
         "name": "CPU",
         "orientation": "v",
         "showlegend": true,
         "type": "scatter",
         "x": [
          0,
          1,
          2,
          3,
          4,
          5,
          6,
          7,
          8,
          9,
          10,
          11,
          12,
          13,
          14,
          15,
          16,
          17,
          18,
          19,
          20,
          21,
          22,
          23,
          24,
          25,
          26,
          27,
          28,
          29
         ],
         "xaxis": "x",
         "y": [
          0,
          2.7,
          2.9446308728153747,
          3.2137476426080833,
          3.5060542575192657,
          3.8183114705602885,
          4.145033575401286,
          4.47852019633789,
          4.809362084919795,
          5.127431977297975,
          5.423183580567895,
          5.688927316456604,
          5.919730538149493,
          6.113727274057423,
          6.271840707353029,
          6.397101569721472,
          6.493813826080832,
          6.5667809353663955,
          6.620715429296099,
          6.6598655437744005,
          6.687833493634767,
          6.707534091651571,
          6.721240314479925,
          6.730672442949741,
          6.737100858443682,
          6.7414447013626235,
          6.744357621263963,
          6.746297700055702,
          6.747581953490863,
          6.748427399692656
         ],
         "yaxis": "y"
        },
        {
         "hovertemplate": "variable=SWAP_IN<br>N=%{x}<br>value=%{y}<extra></extra>",
         "legendgroup": "SWAP_IN",
         "line": {
          "color": "#EF553B",
          "dash": "solid"
         },
         "marker": {
          "symbol": "circle"
         },
         "mode": "lines",
         "name": "SWAP_IN",
         "orientation": "v",
         "showlegend": true,
         "type": "scatter",
         "x": [
          0,
          1,
          2,
          3,
          4,
          5,
          6,
          7,
          8,
          9,
          10,
          11,
          12,
          13,
          14,
          15,
          16,
          17,
          18,
          19,
          20,
          21,
          22,
          23,
          24,
          25,
          26,
          27,
          28,
          29
         ],
         "xaxis": "x",
         "y": [
          0,
          0,
          0,
          0,
          0,
          0,
          0,
          0,
          0,
          0,
          0,
          0,
          0,
          0,
          0,
          0,
          0,
          0,
          0,
          0,
          0,
          0,
          0,
          0,
          0,
          0,
          0,
          0,
          0,
          0
         ],
         "yaxis": "y"
        },
        {
         "hovertemplate": "variable=IO1<br>N=%{x}<br>value=%{y}<extra></extra>",
         "legendgroup": "IO1",
         "line": {
          "color": "#00cc96",
          "dash": "solid"
         },
         "marker": {
          "symbol": "circle"
         },
         "mode": "lines",
         "name": "IO1",
         "orientation": "v",
         "showlegend": true,
         "type": "scatter",
         "x": [
          0,
          1,
          2,
          3,
          4,
          5,
          6,
          7,
          8,
          9,
          10,
          11,
          12,
          13,
          14,
          15,
          16,
          17,
          18,
          19,
          20,
          21,
          22,
          23,
          24,
          25,
          26,
          27,
          28,
          29
         ],
         "xaxis": "x",
         "y": [
          0,
          40,
          43.48993289079276,
          47.30663313962203,
          51.425734521673625,
          55.79553114332477,
          60.33366133460201,
          64.9287219461762,
          69.44849038857242,
          73.75452393295936,
          77.72031060238437,
          81.24821501508308,
          84.28050385880434,
          86.8019114631218,
          88.83429177961945,
          90.42624047988703,
          91.64125971082292,
          92.54729559008437,
          93.20912402956445,
          93.68383448358216,
          94.01890759281412,
          94.25210057508757,
          94.41238484107944,
          94.52135420358017,
          94.59472250262866,
          94.64369807871267,
          94.676141630852,
          94.69748726576299,
          94.71144540060806,
          94.72052252073496
         ],
         "yaxis": "y"
        },
        {
         "hovertemplate": "variable=IO2<br>N=%{x}<br>value=%{y}<extra></extra>",
         "legendgroup": "IO2",
         "line": {
          "color": "#ab63fa",
          "dash": "solid"
         },
         "marker": {
          "symbol": "circle"
         },
         "mode": "lines",
         "name": "IO2",
         "orientation": "v",
         "showlegend": true,
         "type": "scatter",
         "x": [
          0,
          1,
          2,
          3,
          4,
          5,
          6,
          7,
          8,
          9,
          10,
          11,
          12,
          13,
          14,
          15,
          16,
          17,
          18,
          19,
          20,
          21,
          22,
          23,
          24,
          25,
          26,
          27,
          28,
          29
         ],
         "xaxis": "x",
         "y": [
          0,
          180,
          207.1812080455851,
          240.24459524649166,
          280.42801533652664,
          329.07825277061227,
          387.5651882020127,
          457.15598315210866,
          538.8638857938377,
          633.3017763147132,
          740.578538985512,
          860.2693745610799,
          991.4697837996639,
          1132.9170894248866,
          1283.1457543457486,
          1440.6400566358625,
          1603.9574221366402,
          1771.8103333660883,
          1943.107416120734,
          2116.9618924061047,
          2292.678168905129,
          2469.7265401424047,
          2647.7136129844002,
          2826.3533960179884,
          3005.441736852034,
          3184.835170140305,
          3364.434232841478,
          3544.170773128889,
          3723.9985691539505,
          3903.8865524295793
         ],
         "yaxis": "y"
        }
       ],
       "layout": {
        "legend": {
         "title": {
          "text": "variable"
         },
         "tracegroupgap": 0
        },
        "template": {
         "data": {
          "bar": [
           {
            "error_x": {
             "color": "#2a3f5f"
            },
            "error_y": {
             "color": "#2a3f5f"
            },
            "marker": {
             "line": {
              "color": "#E5ECF6",
              "width": 0.5
             },
             "pattern": {
              "fillmode": "overlay",
              "size": 10,
              "solidity": 0.2
             }
            },
            "type": "bar"
           }
          ],
          "barpolar": [
           {
            "marker": {
             "line": {
              "color": "#E5ECF6",
              "width": 0.5
             },
             "pattern": {
              "fillmode": "overlay",
              "size": 10,
              "solidity": 0.2
             }
            },
            "type": "barpolar"
           }
          ],
          "carpet": [
           {
            "aaxis": {
             "endlinecolor": "#2a3f5f",
             "gridcolor": "white",
             "linecolor": "white",
             "minorgridcolor": "white",
             "startlinecolor": "#2a3f5f"
            },
            "baxis": {
             "endlinecolor": "#2a3f5f",
             "gridcolor": "white",
             "linecolor": "white",
             "minorgridcolor": "white",
             "startlinecolor": "#2a3f5f"
            },
            "type": "carpet"
           }
          ],
          "choropleth": [
           {
            "colorbar": {
             "outlinewidth": 0,
             "ticks": ""
            },
            "type": "choropleth"
           }
          ],
          "contour": [
           {
            "colorbar": {
             "outlinewidth": 0,
             "ticks": ""
            },
            "colorscale": [
             [
              0,
              "#0d0887"
             ],
             [
              0.1111111111111111,
              "#46039f"
             ],
             [
              0.2222222222222222,
              "#7201a8"
             ],
             [
              0.3333333333333333,
              "#9c179e"
             ],
             [
              0.4444444444444444,
              "#bd3786"
             ],
             [
              0.5555555555555556,
              "#d8576b"
             ],
             [
              0.6666666666666666,
              "#ed7953"
             ],
             [
              0.7777777777777778,
              "#fb9f3a"
             ],
             [
              0.8888888888888888,
              "#fdca26"
             ],
             [
              1,
              "#f0f921"
             ]
            ],
            "type": "contour"
           }
          ],
          "contourcarpet": [
           {
            "colorbar": {
             "outlinewidth": 0,
             "ticks": ""
            },
            "type": "contourcarpet"
           }
          ],
          "heatmap": [
           {
            "colorbar": {
             "outlinewidth": 0,
             "ticks": ""
            },
            "colorscale": [
             [
              0,
              "#0d0887"
             ],
             [
              0.1111111111111111,
              "#46039f"
             ],
             [
              0.2222222222222222,
              "#7201a8"
             ],
             [
              0.3333333333333333,
              "#9c179e"
             ],
             [
              0.4444444444444444,
              "#bd3786"
             ],
             [
              0.5555555555555556,
              "#d8576b"
             ],
             [
              0.6666666666666666,
              "#ed7953"
             ],
             [
              0.7777777777777778,
              "#fb9f3a"
             ],
             [
              0.8888888888888888,
              "#fdca26"
             ],
             [
              1,
              "#f0f921"
             ]
            ],
            "type": "heatmap"
           }
          ],
          "heatmapgl": [
           {
            "colorbar": {
             "outlinewidth": 0,
             "ticks": ""
            },
            "colorscale": [
             [
              0,
              "#0d0887"
             ],
             [
              0.1111111111111111,
              "#46039f"
             ],
             [
              0.2222222222222222,
              "#7201a8"
             ],
             [
              0.3333333333333333,
              "#9c179e"
             ],
             [
              0.4444444444444444,
              "#bd3786"
             ],
             [
              0.5555555555555556,
              "#d8576b"
             ],
             [
              0.6666666666666666,
              "#ed7953"
             ],
             [
              0.7777777777777778,
              "#fb9f3a"
             ],
             [
              0.8888888888888888,
              "#fdca26"
             ],
             [
              1,
              "#f0f921"
             ]
            ],
            "type": "heatmapgl"
           }
          ],
          "histogram": [
           {
            "marker": {
             "pattern": {
              "fillmode": "overlay",
              "size": 10,
              "solidity": 0.2
             }
            },
            "type": "histogram"
           }
          ],
          "histogram2d": [
           {
            "colorbar": {
             "outlinewidth": 0,
             "ticks": ""
            },
            "colorscale": [
             [
              0,
              "#0d0887"
             ],
             [
              0.1111111111111111,
              "#46039f"
             ],
             [
              0.2222222222222222,
              "#7201a8"
             ],
             [
              0.3333333333333333,
              "#9c179e"
             ],
             [
              0.4444444444444444,
              "#bd3786"
             ],
             [
              0.5555555555555556,
              "#d8576b"
             ],
             [
              0.6666666666666666,
              "#ed7953"
             ],
             [
              0.7777777777777778,
              "#fb9f3a"
             ],
             [
              0.8888888888888888,
              "#fdca26"
             ],
             [
              1,
              "#f0f921"
             ]
            ],
            "type": "histogram2d"
           }
          ],
          "histogram2dcontour": [
           {
            "colorbar": {
             "outlinewidth": 0,
             "ticks": ""
            },
            "colorscale": [
             [
              0,
              "#0d0887"
             ],
             [
              0.1111111111111111,
              "#46039f"
             ],
             [
              0.2222222222222222,
              "#7201a8"
             ],
             [
              0.3333333333333333,
              "#9c179e"
             ],
             [
              0.4444444444444444,
              "#bd3786"
             ],
             [
              0.5555555555555556,
              "#d8576b"
             ],
             [
              0.6666666666666666,
              "#ed7953"
             ],
             [
              0.7777777777777778,
              "#fb9f3a"
             ],
             [
              0.8888888888888888,
              "#fdca26"
             ],
             [
              1,
              "#f0f921"
             ]
            ],
            "type": "histogram2dcontour"
           }
          ],
          "mesh3d": [
           {
            "colorbar": {
             "outlinewidth": 0,
             "ticks": ""
            },
            "type": "mesh3d"
           }
          ],
          "parcoords": [
           {
            "line": {
             "colorbar": {
              "outlinewidth": 0,
              "ticks": ""
             }
            },
            "type": "parcoords"
           }
          ],
          "pie": [
           {
            "automargin": true,
            "type": "pie"
           }
          ],
          "scatter": [
           {
            "fillpattern": {
             "fillmode": "overlay",
             "size": 10,
             "solidity": 0.2
            },
            "type": "scatter"
           }
          ],
          "scatter3d": [
           {
            "line": {
             "colorbar": {
              "outlinewidth": 0,
              "ticks": ""
             }
            },
            "marker": {
             "colorbar": {
              "outlinewidth": 0,
              "ticks": ""
             }
            },
            "type": "scatter3d"
           }
          ],
          "scattercarpet": [
           {
            "marker": {
             "colorbar": {
              "outlinewidth": 0,
              "ticks": ""
             }
            },
            "type": "scattercarpet"
           }
          ],
          "scattergeo": [
           {
            "marker": {
             "colorbar": {
              "outlinewidth": 0,
              "ticks": ""
             }
            },
            "type": "scattergeo"
           }
          ],
          "scattergl": [
           {
            "marker": {
             "colorbar": {
              "outlinewidth": 0,
              "ticks": ""
             }
            },
            "type": "scattergl"
           }
          ],
          "scattermapbox": [
           {
            "marker": {
             "colorbar": {
              "outlinewidth": 0,
              "ticks": ""
             }
            },
            "type": "scattermapbox"
           }
          ],
          "scatterpolar": [
           {
            "marker": {
             "colorbar": {
              "outlinewidth": 0,
              "ticks": ""
             }
            },
            "type": "scatterpolar"
           }
          ],
          "scatterpolargl": [
           {
            "marker": {
             "colorbar": {
              "outlinewidth": 0,
              "ticks": ""
             }
            },
            "type": "scatterpolargl"
           }
          ],
          "scatterternary": [
           {
            "marker": {
             "colorbar": {
              "outlinewidth": 0,
              "ticks": ""
             }
            },
            "type": "scatterternary"
           }
          ],
          "surface": [
           {
            "colorbar": {
             "outlinewidth": 0,
             "ticks": ""
            },
            "colorscale": [
             [
              0,
              "#0d0887"
             ],
             [
              0.1111111111111111,
              "#46039f"
             ],
             [
              0.2222222222222222,
              "#7201a8"
             ],
             [
              0.3333333333333333,
              "#9c179e"
             ],
             [
              0.4444444444444444,
              "#bd3786"
             ],
             [
              0.5555555555555556,
              "#d8576b"
             ],
             [
              0.6666666666666666,
              "#ed7953"
             ],
             [
              0.7777777777777778,
              "#fb9f3a"
             ],
             [
              0.8888888888888888,
              "#fdca26"
             ],
             [
              1,
              "#f0f921"
             ]
            ],
            "type": "surface"
           }
          ],
          "table": [
           {
            "cells": {
             "fill": {
              "color": "#EBF0F8"
             },
             "line": {
              "color": "white"
             }
            },
            "header": {
             "fill": {
              "color": "#C8D4E3"
             },
             "line": {
              "color": "white"
             }
            },
            "type": "table"
           }
          ]
         },
         "layout": {
          "annotationdefaults": {
           "arrowcolor": "#2a3f5f",
           "arrowhead": 0,
           "arrowwidth": 1
          },
          "autotypenumbers": "strict",
          "coloraxis": {
           "colorbar": {
            "outlinewidth": 0,
            "ticks": ""
           }
          },
          "colorscale": {
           "diverging": [
            [
             0,
             "#8e0152"
            ],
            [
             0.1,
             "#c51b7d"
            ],
            [
             0.2,
             "#de77ae"
            ],
            [
             0.3,
             "#f1b6da"
            ],
            [
             0.4,
             "#fde0ef"
            ],
            [
             0.5,
             "#f7f7f7"
            ],
            [
             0.6,
             "#e6f5d0"
            ],
            [
             0.7,
             "#b8e186"
            ],
            [
             0.8,
             "#7fbc41"
            ],
            [
             0.9,
             "#4d9221"
            ],
            [
             1,
             "#276419"
            ]
           ],
           "sequential": [
            [
             0,
             "#0d0887"
            ],
            [
             0.1111111111111111,
             "#46039f"
            ],
            [
             0.2222222222222222,
             "#7201a8"
            ],
            [
             0.3333333333333333,
             "#9c179e"
            ],
            [
             0.4444444444444444,
             "#bd3786"
            ],
            [
             0.5555555555555556,
             "#d8576b"
            ],
            [
             0.6666666666666666,
             "#ed7953"
            ],
            [
             0.7777777777777778,
             "#fb9f3a"
            ],
            [
             0.8888888888888888,
             "#fdca26"
            ],
            [
             1,
             "#f0f921"
            ]
           ],
           "sequentialminus": [
            [
             0,
             "#0d0887"
            ],
            [
             0.1111111111111111,
             "#46039f"
            ],
            [
             0.2222222222222222,
             "#7201a8"
            ],
            [
             0.3333333333333333,
             "#9c179e"
            ],
            [
             0.4444444444444444,
             "#bd3786"
            ],
            [
             0.5555555555555556,
             "#d8576b"
            ],
            [
             0.6666666666666666,
             "#ed7953"
            ],
            [
             0.7777777777777778,
             "#fb9f3a"
            ],
            [
             0.8888888888888888,
             "#fdca26"
            ],
            [
             1,
             "#f0f921"
            ]
           ]
          },
          "colorway": [
           "#636efa",
           "#EF553B",
           "#00cc96",
           "#ab63fa",
           "#FFA15A",
           "#19d3f3",
           "#FF6692",
           "#B6E880",
           "#FF97FF",
           "#FECB52"
          ],
          "font": {
           "color": "#2a3f5f"
          },
          "geo": {
           "bgcolor": "white",
           "lakecolor": "white",
           "landcolor": "#E5ECF6",
           "showlakes": true,
           "showland": true,
           "subunitcolor": "white"
          },
          "hoverlabel": {
           "align": "left"
          },
          "hovermode": "closest",
          "mapbox": {
           "style": "light"
          },
          "paper_bgcolor": "white",
          "plot_bgcolor": "#E5ECF6",
          "polar": {
           "angularaxis": {
            "gridcolor": "white",
            "linecolor": "white",
            "ticks": ""
           },
           "bgcolor": "#E5ECF6",
           "radialaxis": {
            "gridcolor": "white",
            "linecolor": "white",
            "ticks": ""
           }
          },
          "scene": {
           "xaxis": {
            "backgroundcolor": "#E5ECF6",
            "gridcolor": "white",
            "gridwidth": 2,
            "linecolor": "white",
            "showbackground": true,
            "ticks": "",
            "zerolinecolor": "white"
           },
           "yaxis": {
            "backgroundcolor": "#E5ECF6",
            "gridcolor": "white",
            "gridwidth": 2,
            "linecolor": "white",
            "showbackground": true,
            "ticks": "",
            "zerolinecolor": "white"
           },
           "zaxis": {
            "backgroundcolor": "#E5ECF6",
            "gridcolor": "white",
            "gridwidth": 2,
            "linecolor": "white",
            "showbackground": true,
            "ticks": "",
            "zerolinecolor": "white"
           }
          },
          "shapedefaults": {
           "line": {
            "color": "#2a3f5f"
           }
          },
          "ternary": {
           "aaxis": {
            "gridcolor": "white",
            "linecolor": "white",
            "ticks": ""
           },
           "baxis": {
            "gridcolor": "white",
            "linecolor": "white",
            "ticks": ""
           },
           "bgcolor": "#E5ECF6",
           "caxis": {
            "gridcolor": "white",
            "linecolor": "white",
            "ticks": ""
           }
          },
          "title": {
           "x": 0.05
          },
          "xaxis": {
           "automargin": true,
           "gridcolor": "white",
           "linecolor": "white",
           "ticks": "",
           "title": {
            "standoff": 15
           },
           "zerolinecolor": "white",
           "zerolinewidth": 2
          },
          "yaxis": {
           "automargin": true,
           "gridcolor": "white",
           "linecolor": "white",
           "ticks": "",
           "title": {
            "standoff": 15
           },
           "zerolinecolor": "white",
           "zerolinewidth": 2
          }
         }
        },
        "title": {
         "text": "meanWaits_markov"
        },
        "xaxis": {
         "anchor": "y",
         "domain": [
          0,
          1
         ],
         "title": {
          "text": "N"
         }
        },
        "yaxis": {
         "anchor": "x",
         "domain": [
          0,
          1
         ],
         "title": {
          "text": "ms"
         },
         "type": "log"
        }
       }
      }
     },
     "metadata": {},
     "output_type": "display_data"
    }
   ],
   "source": [
    "produce_graph_and_save(meanWaits,\"meanWaits_markov\",\"ms\",True)"
   ]
  },
  {
   "cell_type": "code",
   "execution_count": 6,
   "metadata": {},
   "outputs": [
    {
     "data": {
      "application/vnd.plotly.v1+json": {
       "config": {
        "plotlyServerURL": "https://plot.ly"
       },
       "data": [
        {
         "hovertemplate": "variable=CPU<br>N=%{x}<br>value=%{y}<extra></extra>",
         "legendgroup": "CPU",
         "line": {
          "color": "#636efa",
          "dash": "solid"
         },
         "marker": {
          "symbol": "circle"
         },
         "mode": "lines",
         "name": "CPU",
         "orientation": "v",
         "showlegend": true,
         "type": "scatter",
         "x": [
          0,
          1,
          2,
          3,
          4,
          5,
          6,
          7,
          8,
          9,
          10,
          11,
          12,
          13,
          14,
          15,
          16,
          17,
          18,
          19,
          20,
          21,
          22,
          23,
          24,
          25,
          26,
          27,
          28,
          29
         ],
         "xaxis": "x",
         "y": [
          0,
          0.09060402696865717,
          0.19027690466966038,
          0.29853861389602415,
          0.4141894335408477,
          0.5351976205189951,
          0.6587111838288479,
          0.7812452166369611,
          0.8990488804807313,
          1.0085865113214425,
          1.1070101172061495,
          1.1924927919072195,
          1.2643434348360825,
          1.3229039656863066,
          1.369296877674619,
          1.4051162318817894,
          1.432141087172739,
          1.452116825665222,
          1.4666168680645926,
          1.4769753680128763,
          1.4842718857968777,
          1.4893482646221938,
          1.492841645536941,
          1.4952225401643269,
          1.4968313708750454,
          1.4979102300977643,
          1.498628777798408,
          1.499104427218838,
          1.4994175554417244,
          1.4996226669456814
         ],
         "yaxis": "y"
        },
        {
         "hovertemplate": "variable=SWAP_IN<br>N=%{x}<br>value=%{y}<extra></extra>",
         "legendgroup": "SWAP_IN",
         "line": {
          "color": "#EF553B",
          "dash": "solid"
         },
         "marker": {
          "symbol": "circle"
         },
         "mode": "lines",
         "name": "SWAP_IN",
         "orientation": "v",
         "showlegend": true,
         "type": "scatter",
         "x": [
          0,
          1,
          2,
          3,
          4,
          5,
          6,
          7,
          8,
          9,
          10,
          11,
          12,
          13,
          14,
          15,
          16,
          17,
          18,
          19,
          20,
          21,
          22,
          23,
          24,
          25,
          26,
          27,
          28,
          29
         ],
         "xaxis": "x",
         "y": [
          0,
          0,
          0,
          0,
          0,
          0,
          0,
          0,
          0,
          0,
          0,
          0,
          0,
          0,
          0,
          0,
          0,
          0,
          0,
          0,
          0,
          0,
          0,
          0,
          0,
          0,
          0,
          0,
          0,
          0
         ],
         "yaxis": "y"
        },
        {
         "hovertemplate": "variable=IO1<br>N=%{x}<br>value=%{y}<extra></extra>",
         "legendgroup": "IO1",
         "line": {
          "color": "#00cc96",
          "dash": "solid"
         },
         "marker": {
          "symbol": "circle"
         },
         "mode": "lines",
         "name": "IO1",
         "orientation": "v",
         "showlegend": true,
         "type": "scatter",
         "x": [
          0,
          1,
          2,
          3,
          4,
          5,
          6,
          7,
          8,
          9,
          10,
          11,
          12,
          13,
          14,
          15,
          16,
          17,
          18,
          19,
          20,
          21,
          22,
          23,
          24,
          25,
          26,
          27,
          28,
          29
         ],
         "xaxis": "x",
         "y": [
          0,
          0.08724832226981905,
          0.18266582849055074,
          0.28564336304184074,
          0.3948882785831193,
          0.5083415333650503,
          0.6232180486544048,
          0.7362122597143105,
          0.8438630983239841,
          0.9430077650596094,
          1.0312053753770767,
          1.1070125964701085,
          1.1700477865780445,
          1.2208572944904863,
          1.2606560119971757,
          1.2910314927705728,
          1.3136823897521093,
          1.3302281007391115,
          1.3420958620895538,
          1.3504726898203525,
          1.3563025143771892,
          1.3603096210269863,
          1.3630338550895043,
          1.3648680625657166,
          1.3660924519678173,
          1.3669035407713,
          1.3674371816440745,
          1.3677861350152012,
          1.368013063018374,
          1.36815990190836
         ],
         "yaxis": "y"
        },
        {
         "hovertemplate": "variable=IO2<br>N=%{x}<br>value=%{y}<extra></extra>",
         "legendgroup": "IO2",
         "line": {
          "color": "#ab63fa",
          "dash": "solid"
         },
         "marker": {
          "symbol": "circle"
         },
         "mode": "lines",
         "name": "IO2",
         "orientation": "v",
         "showlegend": true,
         "type": "scatter",
         "x": [
          0,
          1,
          2,
          3,
          4,
          5,
          6,
          7,
          8,
          9,
          10,
          11,
          12,
          13,
          14,
          15,
          16,
          17,
          18,
          19,
          20,
          21,
          22,
          23,
          24,
          25,
          26,
          27,
          28,
          29
         ],
         "xaxis": "x",
         "y": [
          0,
          0.15100671136436153,
          0.3346921958138424,
          0.557933418536259,
          0.8282125153922905,
          1.153139934455626,
          1.539755461956159,
          1.9936882544102088,
          2.5183432017484066,
          3.1143252165861774,
          3.77927430311711,
          4.508165465553688,
          5.2939838301382585,
          6.128587524143048,
          7.003555870199235,
          7.91087456742578,
          8.843390740922713,
          9.795041200670743,
          10.760899402256136,
          11.737100938361829,
          12.720703000791138,
          13.709520072135556,
          14.701963311211045,
          15.696898538066854,
          16.693528723001695,
          17.691301293563768,
          18.689837628493827,
          19.68888093974417,
          20.688258624608775,
          21.687855580174272
         ],
         "yaxis": "y"
        }
       ],
       "layout": {
        "legend": {
         "title": {
          "text": "variable"
         },
         "tracegroupgap": 0
        },
        "template": {
         "data": {
          "bar": [
           {
            "error_x": {
             "color": "#2a3f5f"
            },
            "error_y": {
             "color": "#2a3f5f"
            },
            "marker": {
             "line": {
              "color": "#E5ECF6",
              "width": 0.5
             },
             "pattern": {
              "fillmode": "overlay",
              "size": 10,
              "solidity": 0.2
             }
            },
            "type": "bar"
           }
          ],
          "barpolar": [
           {
            "marker": {
             "line": {
              "color": "#E5ECF6",
              "width": 0.5
             },
             "pattern": {
              "fillmode": "overlay",
              "size": 10,
              "solidity": 0.2
             }
            },
            "type": "barpolar"
           }
          ],
          "carpet": [
           {
            "aaxis": {
             "endlinecolor": "#2a3f5f",
             "gridcolor": "white",
             "linecolor": "white",
             "minorgridcolor": "white",
             "startlinecolor": "#2a3f5f"
            },
            "baxis": {
             "endlinecolor": "#2a3f5f",
             "gridcolor": "white",
             "linecolor": "white",
             "minorgridcolor": "white",
             "startlinecolor": "#2a3f5f"
            },
            "type": "carpet"
           }
          ],
          "choropleth": [
           {
            "colorbar": {
             "outlinewidth": 0,
             "ticks": ""
            },
            "type": "choropleth"
           }
          ],
          "contour": [
           {
            "colorbar": {
             "outlinewidth": 0,
             "ticks": ""
            },
            "colorscale": [
             [
              0,
              "#0d0887"
             ],
             [
              0.1111111111111111,
              "#46039f"
             ],
             [
              0.2222222222222222,
              "#7201a8"
             ],
             [
              0.3333333333333333,
              "#9c179e"
             ],
             [
              0.4444444444444444,
              "#bd3786"
             ],
             [
              0.5555555555555556,
              "#d8576b"
             ],
             [
              0.6666666666666666,
              "#ed7953"
             ],
             [
              0.7777777777777778,
              "#fb9f3a"
             ],
             [
              0.8888888888888888,
              "#fdca26"
             ],
             [
              1,
              "#f0f921"
             ]
            ],
            "type": "contour"
           }
          ],
          "contourcarpet": [
           {
            "colorbar": {
             "outlinewidth": 0,
             "ticks": ""
            },
            "type": "contourcarpet"
           }
          ],
          "heatmap": [
           {
            "colorbar": {
             "outlinewidth": 0,
             "ticks": ""
            },
            "colorscale": [
             [
              0,
              "#0d0887"
             ],
             [
              0.1111111111111111,
              "#46039f"
             ],
             [
              0.2222222222222222,
              "#7201a8"
             ],
             [
              0.3333333333333333,
              "#9c179e"
             ],
             [
              0.4444444444444444,
              "#bd3786"
             ],
             [
              0.5555555555555556,
              "#d8576b"
             ],
             [
              0.6666666666666666,
              "#ed7953"
             ],
             [
              0.7777777777777778,
              "#fb9f3a"
             ],
             [
              0.8888888888888888,
              "#fdca26"
             ],
             [
              1,
              "#f0f921"
             ]
            ],
            "type": "heatmap"
           }
          ],
          "heatmapgl": [
           {
            "colorbar": {
             "outlinewidth": 0,
             "ticks": ""
            },
            "colorscale": [
             [
              0,
              "#0d0887"
             ],
             [
              0.1111111111111111,
              "#46039f"
             ],
             [
              0.2222222222222222,
              "#7201a8"
             ],
             [
              0.3333333333333333,
              "#9c179e"
             ],
             [
              0.4444444444444444,
              "#bd3786"
             ],
             [
              0.5555555555555556,
              "#d8576b"
             ],
             [
              0.6666666666666666,
              "#ed7953"
             ],
             [
              0.7777777777777778,
              "#fb9f3a"
             ],
             [
              0.8888888888888888,
              "#fdca26"
             ],
             [
              1,
              "#f0f921"
             ]
            ],
            "type": "heatmapgl"
           }
          ],
          "histogram": [
           {
            "marker": {
             "pattern": {
              "fillmode": "overlay",
              "size": 10,
              "solidity": 0.2
             }
            },
            "type": "histogram"
           }
          ],
          "histogram2d": [
           {
            "colorbar": {
             "outlinewidth": 0,
             "ticks": ""
            },
            "colorscale": [
             [
              0,
              "#0d0887"
             ],
             [
              0.1111111111111111,
              "#46039f"
             ],
             [
              0.2222222222222222,
              "#7201a8"
             ],
             [
              0.3333333333333333,
              "#9c179e"
             ],
             [
              0.4444444444444444,
              "#bd3786"
             ],
             [
              0.5555555555555556,
              "#d8576b"
             ],
             [
              0.6666666666666666,
              "#ed7953"
             ],
             [
              0.7777777777777778,
              "#fb9f3a"
             ],
             [
              0.8888888888888888,
              "#fdca26"
             ],
             [
              1,
              "#f0f921"
             ]
            ],
            "type": "histogram2d"
           }
          ],
          "histogram2dcontour": [
           {
            "colorbar": {
             "outlinewidth": 0,
             "ticks": ""
            },
            "colorscale": [
             [
              0,
              "#0d0887"
             ],
             [
              0.1111111111111111,
              "#46039f"
             ],
             [
              0.2222222222222222,
              "#7201a8"
             ],
             [
              0.3333333333333333,
              "#9c179e"
             ],
             [
              0.4444444444444444,
              "#bd3786"
             ],
             [
              0.5555555555555556,
              "#d8576b"
             ],
             [
              0.6666666666666666,
              "#ed7953"
             ],
             [
              0.7777777777777778,
              "#fb9f3a"
             ],
             [
              0.8888888888888888,
              "#fdca26"
             ],
             [
              1,
              "#f0f921"
             ]
            ],
            "type": "histogram2dcontour"
           }
          ],
          "mesh3d": [
           {
            "colorbar": {
             "outlinewidth": 0,
             "ticks": ""
            },
            "type": "mesh3d"
           }
          ],
          "parcoords": [
           {
            "line": {
             "colorbar": {
              "outlinewidth": 0,
              "ticks": ""
             }
            },
            "type": "parcoords"
           }
          ],
          "pie": [
           {
            "automargin": true,
            "type": "pie"
           }
          ],
          "scatter": [
           {
            "fillpattern": {
             "fillmode": "overlay",
             "size": 10,
             "solidity": 0.2
            },
            "type": "scatter"
           }
          ],
          "scatter3d": [
           {
            "line": {
             "colorbar": {
              "outlinewidth": 0,
              "ticks": ""
             }
            },
            "marker": {
             "colorbar": {
              "outlinewidth": 0,
              "ticks": ""
             }
            },
            "type": "scatter3d"
           }
          ],
          "scattercarpet": [
           {
            "marker": {
             "colorbar": {
              "outlinewidth": 0,
              "ticks": ""
             }
            },
            "type": "scattercarpet"
           }
          ],
          "scattergeo": [
           {
            "marker": {
             "colorbar": {
              "outlinewidth": 0,
              "ticks": ""
             }
            },
            "type": "scattergeo"
           }
          ],
          "scattergl": [
           {
            "marker": {
             "colorbar": {
              "outlinewidth": 0,
              "ticks": ""
             }
            },
            "type": "scattergl"
           }
          ],
          "scattermapbox": [
           {
            "marker": {
             "colorbar": {
              "outlinewidth": 0,
              "ticks": ""
             }
            },
            "type": "scattermapbox"
           }
          ],
          "scatterpolar": [
           {
            "marker": {
             "colorbar": {
              "outlinewidth": 0,
              "ticks": ""
             }
            },
            "type": "scatterpolar"
           }
          ],
          "scatterpolargl": [
           {
            "marker": {
             "colorbar": {
              "outlinewidth": 0,
              "ticks": ""
             }
            },
            "type": "scatterpolargl"
           }
          ],
          "scatterternary": [
           {
            "marker": {
             "colorbar": {
              "outlinewidth": 0,
              "ticks": ""
             }
            },
            "type": "scatterternary"
           }
          ],
          "surface": [
           {
            "colorbar": {
             "outlinewidth": 0,
             "ticks": ""
            },
            "colorscale": [
             [
              0,
              "#0d0887"
             ],
             [
              0.1111111111111111,
              "#46039f"
             ],
             [
              0.2222222222222222,
              "#7201a8"
             ],
             [
              0.3333333333333333,
              "#9c179e"
             ],
             [
              0.4444444444444444,
              "#bd3786"
             ],
             [
              0.5555555555555556,
              "#d8576b"
             ],
             [
              0.6666666666666666,
              "#ed7953"
             ],
             [
              0.7777777777777778,
              "#fb9f3a"
             ],
             [
              0.8888888888888888,
              "#fdca26"
             ],
             [
              1,
              "#f0f921"
             ]
            ],
            "type": "surface"
           }
          ],
          "table": [
           {
            "cells": {
             "fill": {
              "color": "#EBF0F8"
             },
             "line": {
              "color": "white"
             }
            },
            "header": {
             "fill": {
              "color": "#C8D4E3"
             },
             "line": {
              "color": "white"
             }
            },
            "type": "table"
           }
          ]
         },
         "layout": {
          "annotationdefaults": {
           "arrowcolor": "#2a3f5f",
           "arrowhead": 0,
           "arrowwidth": 1
          },
          "autotypenumbers": "strict",
          "coloraxis": {
           "colorbar": {
            "outlinewidth": 0,
            "ticks": ""
           }
          },
          "colorscale": {
           "diverging": [
            [
             0,
             "#8e0152"
            ],
            [
             0.1,
             "#c51b7d"
            ],
            [
             0.2,
             "#de77ae"
            ],
            [
             0.3,
             "#f1b6da"
            ],
            [
             0.4,
             "#fde0ef"
            ],
            [
             0.5,
             "#f7f7f7"
            ],
            [
             0.6,
             "#e6f5d0"
            ],
            [
             0.7,
             "#b8e186"
            ],
            [
             0.8,
             "#7fbc41"
            ],
            [
             0.9,
             "#4d9221"
            ],
            [
             1,
             "#276419"
            ]
           ],
           "sequential": [
            [
             0,
             "#0d0887"
            ],
            [
             0.1111111111111111,
             "#46039f"
            ],
            [
             0.2222222222222222,
             "#7201a8"
            ],
            [
             0.3333333333333333,
             "#9c179e"
            ],
            [
             0.4444444444444444,
             "#bd3786"
            ],
            [
             0.5555555555555556,
             "#d8576b"
            ],
            [
             0.6666666666666666,
             "#ed7953"
            ],
            [
             0.7777777777777778,
             "#fb9f3a"
            ],
            [
             0.8888888888888888,
             "#fdca26"
            ],
            [
             1,
             "#f0f921"
            ]
           ],
           "sequentialminus": [
            [
             0,
             "#0d0887"
            ],
            [
             0.1111111111111111,
             "#46039f"
            ],
            [
             0.2222222222222222,
             "#7201a8"
            ],
            [
             0.3333333333333333,
             "#9c179e"
            ],
            [
             0.4444444444444444,
             "#bd3786"
            ],
            [
             0.5555555555555556,
             "#d8576b"
            ],
            [
             0.6666666666666666,
             "#ed7953"
            ],
            [
             0.7777777777777778,
             "#fb9f3a"
            ],
            [
             0.8888888888888888,
             "#fdca26"
            ],
            [
             1,
             "#f0f921"
            ]
           ]
          },
          "colorway": [
           "#636efa",
           "#EF553B",
           "#00cc96",
           "#ab63fa",
           "#FFA15A",
           "#19d3f3",
           "#FF6692",
           "#B6E880",
           "#FF97FF",
           "#FECB52"
          ],
          "font": {
           "color": "#2a3f5f"
          },
          "geo": {
           "bgcolor": "white",
           "lakecolor": "white",
           "landcolor": "#E5ECF6",
           "showlakes": true,
           "showland": true,
           "subunitcolor": "white"
          },
          "hoverlabel": {
           "align": "left"
          },
          "hovermode": "closest",
          "mapbox": {
           "style": "light"
          },
          "paper_bgcolor": "white",
          "plot_bgcolor": "#E5ECF6",
          "polar": {
           "angularaxis": {
            "gridcolor": "white",
            "linecolor": "white",
            "ticks": ""
           },
           "bgcolor": "#E5ECF6",
           "radialaxis": {
            "gridcolor": "white",
            "linecolor": "white",
            "ticks": ""
           }
          },
          "scene": {
           "xaxis": {
            "backgroundcolor": "#E5ECF6",
            "gridcolor": "white",
            "gridwidth": 2,
            "linecolor": "white",
            "showbackground": true,
            "ticks": "",
            "zerolinecolor": "white"
           },
           "yaxis": {
            "backgroundcolor": "#E5ECF6",
            "gridcolor": "white",
            "gridwidth": 2,
            "linecolor": "white",
            "showbackground": true,
            "ticks": "",
            "zerolinecolor": "white"
           },
           "zaxis": {
            "backgroundcolor": "#E5ECF6",
            "gridcolor": "white",
            "gridwidth": 2,
            "linecolor": "white",
            "showbackground": true,
            "ticks": "",
            "zerolinecolor": "white"
           }
          },
          "shapedefaults": {
           "line": {
            "color": "#2a3f5f"
           }
          },
          "ternary": {
           "aaxis": {
            "gridcolor": "white",
            "linecolor": "white",
            "ticks": ""
           },
           "baxis": {
            "gridcolor": "white",
            "linecolor": "white",
            "ticks": ""
           },
           "bgcolor": "#E5ECF6",
           "caxis": {
            "gridcolor": "white",
            "linecolor": "white",
            "ticks": ""
           }
          },
          "title": {
           "x": 0.05
          },
          "xaxis": {
           "automargin": true,
           "gridcolor": "white",
           "linecolor": "white",
           "ticks": "",
           "title": {
            "standoff": 15
           },
           "zerolinecolor": "white",
           "zerolinewidth": 2
          },
          "yaxis": {
           "automargin": true,
           "gridcolor": "white",
           "linecolor": "white",
           "ticks": "",
           "title": {
            "standoff": 15
           },
           "zerolinecolor": "white",
           "zerolinewidth": 2
          }
         }
        },
        "title": {
         "text": "meanClients_markov"
        },
        "xaxis": {
         "anchor": "y",
         "domain": [
          0,
          1
         ],
         "title": {
          "text": "N"
         }
        },
        "yaxis": {
         "anchor": "x",
         "domain": [
          0,
          1
         ],
         "title": {
          "text": "n"
         }
        }
       }
      }
     },
     "metadata": {},
     "output_type": "display_data"
    }
   ],
   "source": [
    "produce_graph_and_save(meanClients,\"meanClients_markov\",\"n\")"
   ]
  },
  {
   "cell_type": "code",
   "execution_count": 7,
   "metadata": {},
   "outputs": [
    {
     "data": {
      "application/vnd.plotly.v1+json": {
       "config": {
        "plotlyServerURL": "https://plot.ly"
       },
       "data": [
        {
         "hovertemplate": "variable=CPU<br>N=%{x}<br>value=%{y}<extra></extra>",
         "legendgroup": "CPU",
         "line": {
          "color": "#636efa",
          "dash": "solid"
         },
         "marker": {
          "symbol": "circle"
         },
         "mode": "lines",
         "name": "CPU",
         "orientation": "v",
         "showlegend": true,
         "type": "scatter",
         "x": [
          0,
          1,
          2,
          3,
          4,
          5,
          6,
          7,
          8,
          9,
          10,
          11,
          12,
          13,
          14,
          15,
          16,
          17,
          18,
          19,
          20,
          21,
          22,
          23,
          24,
          25,
          26,
          27,
          28,
          29
         ],
         "xaxis": "x",
         "y": [
          0,
          0.03355704702542858,
          0.06461825365830515,
          0.09289423038012663,
          0.11813548881981949,
          0.1401660458151314,
          0.15891576554119397,
          0.1744427137508031,
          0.18693724128191203,
          0.19670402567738046,
          0.204125510553015,
          0.20961645765057402,
          0.21358124777607126,
          0.2163825611423375,
          0.21832456236799389,
          0.21964888575983135,
          0.22053928947283502,
          0.2211306940124386,
          0.2215193937463221,
          0.22177255055750236,
          0.221936130319266,
          0.22204110247846348,
          0.22210805977593648,
          0.22215054332803633,
          0.2221773730756977,
          0.22219424714631228,
          0.22220482097115563,
          0.22221142526907173,
          0.22221553821454518,
          0.22221809291657768
         ],
         "yaxis": "y"
        },
        {
         "hovertemplate": "variable=SWAP_IN<br>N=%{x}<br>value=%{y}<extra></extra>",
         "legendgroup": "SWAP_IN",
         "line": {
          "color": "#EF553B",
          "dash": "solid"
         },
         "marker": {
          "symbol": "circle"
         },
         "mode": "lines",
         "name": "SWAP_IN",
         "orientation": "v",
         "showlegend": true,
         "type": "scatter",
         "x": [
          0,
          1,
          2,
          3,
          4,
          5,
          6,
          7,
          8,
          9,
          10,
          11,
          12,
          13,
          14,
          15,
          16,
          17,
          18,
          19,
          20,
          21,
          22,
          23,
          24,
          25,
          26,
          27,
          28,
          29
         ],
         "xaxis": "x",
         "y": [
          0,
          0.0003355704696985811,
          0.0006461825355129732,
          0.000928942302262938,
          0.0011813548862418713,
          0.0014016604558301643,
          0.0015891576527802946,
          0.0017444271346192598,
          0.0018693724097234394,
          0.001967040253516386,
          0.0020412551021498316,
          0.0020961645730344916,
          0.0021358124742238073,
          0.0021638256078400798,
          0.0021832456200644845,
          0.002196488853960928,
          0.00220539289107622,
          0.002211306936462462,
          0.00221519393379486,
          0.0022177255019024704,
          0.002219361299517398,
          0.002220411021107634,
          0.0022210805940812554,
          0.0022215054296015504,
          0.00222177372707772,
          0.0022219424677835864,
          0.0022220482060318443,
          0.002222114249010896,
          0.0022221553784655627,
          0.002222180925485845
         ],
         "yaxis": "y"
        },
        {
         "hovertemplate": "variable=IO1<br>N=%{x}<br>value=%{y}<extra></extra>",
         "legendgroup": "IO1",
         "line": {
          "color": "#00cc96",
          "dash": "solid"
         },
         "marker": {
          "symbol": "circle"
         },
         "mode": "lines",
         "name": "IO1",
         "orientation": "v",
         "showlegend": true,
         "type": "scatter",
         "x": [
          0,
          1,
          2,
          3,
          4,
          5,
          6,
          7,
          8,
          9,
          10,
          11,
          12,
          13,
          14,
          15,
          16,
          17,
          18,
          19,
          20,
          21,
          22,
          23,
          24,
          25,
          26,
          27,
          28,
          29
         ],
         "xaxis": "x",
         "y": [
          0,
          0.002181208056745476,
          0.004200186487968181,
          0.00603812497496462,
          0.007678806773614322,
          0.0091107929783704,
          0.010329524760616217,
          0.011338776394283667,
          0.01215092068384023,
          0.012785761669572635,
          0.013268158186509364,
          0.013625069747865854,
          0.01388278110603412,
          0.014064866474849155,
          0.014191096554522182,
          0.014277177574995272,
          0.014335053816342968,
          0.014373495111418833,
          0.014398760594122333,
          0.014415215786849749,
          0.014425848471364836,
          0.014432671661712962,
          0.01443702388604889,
          0.014439785316935499,
          0.014441529250533562,
          0.014442626065123558,
          0.014443313363738402,
          0.01444374264310297,
          0.014444009984558753,
          0.014444176040190873
         ],
         "yaxis": "y"
        },
        {
         "hovertemplate": "variable=IO2<br>N=%{x}<br>value=%{y}<extra></extra>",
         "legendgroup": "IO2",
         "line": {
          "color": "#ab63fa",
          "dash": "solid"
         },
         "marker": {
          "symbol": "circle"
         },
         "mode": "lines",
         "name": "IO2",
         "orientation": "v",
         "showlegend": true,
         "type": "scatter",
         "x": [
          0,
          1,
          2,
          3,
          4,
          5,
          6,
          7,
          8,
          9,
          10,
          11,
          12,
          13,
          14,
          15,
          16,
          17,
          18,
          19,
          20,
          21,
          22,
          23,
          24,
          25,
          26,
          27,
          28,
          29
         ],
         "xaxis": "x",
         "y": [
          0,
          0.0008389261742464529,
          0.001615456338782433,
          0.0023223557556573448,
          0.0029533872156046782,
          0.0035041511395754103,
          0.003972894131950736,
          0.00436106783654815,
          0.004673431024308599,
          0.004917600633790964,
          0.005103137755374579,
          0.005240411432586229,
          0.005339531185559518,
          0.0054095640196001995,
          0.00545811405016121,
          0.00549122213490232,
          0.005513482227690549,
          0.0055282673411561544,
          0.00553798483448715,
          0.0055443137547561755,
          0.005548403248793494,
          0.005551027552769086,
          0.005552701485203138,
          0.0055537635740038754,
          0.005554434317694299,
          0.0055548561694589655,
          0.005555120515079611,
          0.005555285622527241,
          0.005555388446163906,
          0.005555452313714613
         ],
         "yaxis": "y"
        }
       ],
       "layout": {
        "legend": {
         "title": {
          "text": "variable"
         },
         "tracegroupgap": 0
        },
        "template": {
         "data": {
          "bar": [
           {
            "error_x": {
             "color": "#2a3f5f"
            },
            "error_y": {
             "color": "#2a3f5f"
            },
            "marker": {
             "line": {
              "color": "#E5ECF6",
              "width": 0.5
             },
             "pattern": {
              "fillmode": "overlay",
              "size": 10,
              "solidity": 0.2
             }
            },
            "type": "bar"
           }
          ],
          "barpolar": [
           {
            "marker": {
             "line": {
              "color": "#E5ECF6",
              "width": 0.5
             },
             "pattern": {
              "fillmode": "overlay",
              "size": 10,
              "solidity": 0.2
             }
            },
            "type": "barpolar"
           }
          ],
          "carpet": [
           {
            "aaxis": {
             "endlinecolor": "#2a3f5f",
             "gridcolor": "white",
             "linecolor": "white",
             "minorgridcolor": "white",
             "startlinecolor": "#2a3f5f"
            },
            "baxis": {
             "endlinecolor": "#2a3f5f",
             "gridcolor": "white",
             "linecolor": "white",
             "minorgridcolor": "white",
             "startlinecolor": "#2a3f5f"
            },
            "type": "carpet"
           }
          ],
          "choropleth": [
           {
            "colorbar": {
             "outlinewidth": 0,
             "ticks": ""
            },
            "type": "choropleth"
           }
          ],
          "contour": [
           {
            "colorbar": {
             "outlinewidth": 0,
             "ticks": ""
            },
            "colorscale": [
             [
              0,
              "#0d0887"
             ],
             [
              0.1111111111111111,
              "#46039f"
             ],
             [
              0.2222222222222222,
              "#7201a8"
             ],
             [
              0.3333333333333333,
              "#9c179e"
             ],
             [
              0.4444444444444444,
              "#bd3786"
             ],
             [
              0.5555555555555556,
              "#d8576b"
             ],
             [
              0.6666666666666666,
              "#ed7953"
             ],
             [
              0.7777777777777778,
              "#fb9f3a"
             ],
             [
              0.8888888888888888,
              "#fdca26"
             ],
             [
              1,
              "#f0f921"
             ]
            ],
            "type": "contour"
           }
          ],
          "contourcarpet": [
           {
            "colorbar": {
             "outlinewidth": 0,
             "ticks": ""
            },
            "type": "contourcarpet"
           }
          ],
          "heatmap": [
           {
            "colorbar": {
             "outlinewidth": 0,
             "ticks": ""
            },
            "colorscale": [
             [
              0,
              "#0d0887"
             ],
             [
              0.1111111111111111,
              "#46039f"
             ],
             [
              0.2222222222222222,
              "#7201a8"
             ],
             [
              0.3333333333333333,
              "#9c179e"
             ],
             [
              0.4444444444444444,
              "#bd3786"
             ],
             [
              0.5555555555555556,
              "#d8576b"
             ],
             [
              0.6666666666666666,
              "#ed7953"
             ],
             [
              0.7777777777777778,
              "#fb9f3a"
             ],
             [
              0.8888888888888888,
              "#fdca26"
             ],
             [
              1,
              "#f0f921"
             ]
            ],
            "type": "heatmap"
           }
          ],
          "heatmapgl": [
           {
            "colorbar": {
             "outlinewidth": 0,
             "ticks": ""
            },
            "colorscale": [
             [
              0,
              "#0d0887"
             ],
             [
              0.1111111111111111,
              "#46039f"
             ],
             [
              0.2222222222222222,
              "#7201a8"
             ],
             [
              0.3333333333333333,
              "#9c179e"
             ],
             [
              0.4444444444444444,
              "#bd3786"
             ],
             [
              0.5555555555555556,
              "#d8576b"
             ],
             [
              0.6666666666666666,
              "#ed7953"
             ],
             [
              0.7777777777777778,
              "#fb9f3a"
             ],
             [
              0.8888888888888888,
              "#fdca26"
             ],
             [
              1,
              "#f0f921"
             ]
            ],
            "type": "heatmapgl"
           }
          ],
          "histogram": [
           {
            "marker": {
             "pattern": {
              "fillmode": "overlay",
              "size": 10,
              "solidity": 0.2
             }
            },
            "type": "histogram"
           }
          ],
          "histogram2d": [
           {
            "colorbar": {
             "outlinewidth": 0,
             "ticks": ""
            },
            "colorscale": [
             [
              0,
              "#0d0887"
             ],
             [
              0.1111111111111111,
              "#46039f"
             ],
             [
              0.2222222222222222,
              "#7201a8"
             ],
             [
              0.3333333333333333,
              "#9c179e"
             ],
             [
              0.4444444444444444,
              "#bd3786"
             ],
             [
              0.5555555555555556,
              "#d8576b"
             ],
             [
              0.6666666666666666,
              "#ed7953"
             ],
             [
              0.7777777777777778,
              "#fb9f3a"
             ],
             [
              0.8888888888888888,
              "#fdca26"
             ],
             [
              1,
              "#f0f921"
             ]
            ],
            "type": "histogram2d"
           }
          ],
          "histogram2dcontour": [
           {
            "colorbar": {
             "outlinewidth": 0,
             "ticks": ""
            },
            "colorscale": [
             [
              0,
              "#0d0887"
             ],
             [
              0.1111111111111111,
              "#46039f"
             ],
             [
              0.2222222222222222,
              "#7201a8"
             ],
             [
              0.3333333333333333,
              "#9c179e"
             ],
             [
              0.4444444444444444,
              "#bd3786"
             ],
             [
              0.5555555555555556,
              "#d8576b"
             ],
             [
              0.6666666666666666,
              "#ed7953"
             ],
             [
              0.7777777777777778,
              "#fb9f3a"
             ],
             [
              0.8888888888888888,
              "#fdca26"
             ],
             [
              1,
              "#f0f921"
             ]
            ],
            "type": "histogram2dcontour"
           }
          ],
          "mesh3d": [
           {
            "colorbar": {
             "outlinewidth": 0,
             "ticks": ""
            },
            "type": "mesh3d"
           }
          ],
          "parcoords": [
           {
            "line": {
             "colorbar": {
              "outlinewidth": 0,
              "ticks": ""
             }
            },
            "type": "parcoords"
           }
          ],
          "pie": [
           {
            "automargin": true,
            "type": "pie"
           }
          ],
          "scatter": [
           {
            "fillpattern": {
             "fillmode": "overlay",
             "size": 10,
             "solidity": 0.2
            },
            "type": "scatter"
           }
          ],
          "scatter3d": [
           {
            "line": {
             "colorbar": {
              "outlinewidth": 0,
              "ticks": ""
             }
            },
            "marker": {
             "colorbar": {
              "outlinewidth": 0,
              "ticks": ""
             }
            },
            "type": "scatter3d"
           }
          ],
          "scattercarpet": [
           {
            "marker": {
             "colorbar": {
              "outlinewidth": 0,
              "ticks": ""
             }
            },
            "type": "scattercarpet"
           }
          ],
          "scattergeo": [
           {
            "marker": {
             "colorbar": {
              "outlinewidth": 0,
              "ticks": ""
             }
            },
            "type": "scattergeo"
           }
          ],
          "scattergl": [
           {
            "marker": {
             "colorbar": {
              "outlinewidth": 0,
              "ticks": ""
             }
            },
            "type": "scattergl"
           }
          ],
          "scattermapbox": [
           {
            "marker": {
             "colorbar": {
              "outlinewidth": 0,
              "ticks": ""
             }
            },
            "type": "scattermapbox"
           }
          ],
          "scatterpolar": [
           {
            "marker": {
             "colorbar": {
              "outlinewidth": 0,
              "ticks": ""
             }
            },
            "type": "scatterpolar"
           }
          ],
          "scatterpolargl": [
           {
            "marker": {
             "colorbar": {
              "outlinewidth": 0,
              "ticks": ""
             }
            },
            "type": "scatterpolargl"
           }
          ],
          "scatterternary": [
           {
            "marker": {
             "colorbar": {
              "outlinewidth": 0,
              "ticks": ""
             }
            },
            "type": "scatterternary"
           }
          ],
          "surface": [
           {
            "colorbar": {
             "outlinewidth": 0,
             "ticks": ""
            },
            "colorscale": [
             [
              0,
              "#0d0887"
             ],
             [
              0.1111111111111111,
              "#46039f"
             ],
             [
              0.2222222222222222,
              "#7201a8"
             ],
             [
              0.3333333333333333,
              "#9c179e"
             ],
             [
              0.4444444444444444,
              "#bd3786"
             ],
             [
              0.5555555555555556,
              "#d8576b"
             ],
             [
              0.6666666666666666,
              "#ed7953"
             ],
             [
              0.7777777777777778,
              "#fb9f3a"
             ],
             [
              0.8888888888888888,
              "#fdca26"
             ],
             [
              1,
              "#f0f921"
             ]
            ],
            "type": "surface"
           }
          ],
          "table": [
           {
            "cells": {
             "fill": {
              "color": "#EBF0F8"
             },
             "line": {
              "color": "white"
             }
            },
            "header": {
             "fill": {
              "color": "#C8D4E3"
             },
             "line": {
              "color": "white"
             }
            },
            "type": "table"
           }
          ]
         },
         "layout": {
          "annotationdefaults": {
           "arrowcolor": "#2a3f5f",
           "arrowhead": 0,
           "arrowwidth": 1
          },
          "autotypenumbers": "strict",
          "coloraxis": {
           "colorbar": {
            "outlinewidth": 0,
            "ticks": ""
           }
          },
          "colorscale": {
           "diverging": [
            [
             0,
             "#8e0152"
            ],
            [
             0.1,
             "#c51b7d"
            ],
            [
             0.2,
             "#de77ae"
            ],
            [
             0.3,
             "#f1b6da"
            ],
            [
             0.4,
             "#fde0ef"
            ],
            [
             0.5,
             "#f7f7f7"
            ],
            [
             0.6,
             "#e6f5d0"
            ],
            [
             0.7,
             "#b8e186"
            ],
            [
             0.8,
             "#7fbc41"
            ],
            [
             0.9,
             "#4d9221"
            ],
            [
             1,
             "#276419"
            ]
           ],
           "sequential": [
            [
             0,
             "#0d0887"
            ],
            [
             0.1111111111111111,
             "#46039f"
            ],
            [
             0.2222222222222222,
             "#7201a8"
            ],
            [
             0.3333333333333333,
             "#9c179e"
            ],
            [
             0.4444444444444444,
             "#bd3786"
            ],
            [
             0.5555555555555556,
             "#d8576b"
            ],
            [
             0.6666666666666666,
             "#ed7953"
            ],
            [
             0.7777777777777778,
             "#fb9f3a"
            ],
            [
             0.8888888888888888,
             "#fdca26"
            ],
            [
             1,
             "#f0f921"
            ]
           ],
           "sequentialminus": [
            [
             0,
             "#0d0887"
            ],
            [
             0.1111111111111111,
             "#46039f"
            ],
            [
             0.2222222222222222,
             "#7201a8"
            ],
            [
             0.3333333333333333,
             "#9c179e"
            ],
            [
             0.4444444444444444,
             "#bd3786"
            ],
            [
             0.5555555555555556,
             "#d8576b"
            ],
            [
             0.6666666666666666,
             "#ed7953"
            ],
            [
             0.7777777777777778,
             "#fb9f3a"
            ],
            [
             0.8888888888888888,
             "#fdca26"
            ],
            [
             1,
             "#f0f921"
            ]
           ]
          },
          "colorway": [
           "#636efa",
           "#EF553B",
           "#00cc96",
           "#ab63fa",
           "#FFA15A",
           "#19d3f3",
           "#FF6692",
           "#B6E880",
           "#FF97FF",
           "#FECB52"
          ],
          "font": {
           "color": "#2a3f5f"
          },
          "geo": {
           "bgcolor": "white",
           "lakecolor": "white",
           "landcolor": "#E5ECF6",
           "showlakes": true,
           "showland": true,
           "subunitcolor": "white"
          },
          "hoverlabel": {
           "align": "left"
          },
          "hovermode": "closest",
          "mapbox": {
           "style": "light"
          },
          "paper_bgcolor": "white",
          "plot_bgcolor": "#E5ECF6",
          "polar": {
           "angularaxis": {
            "gridcolor": "white",
            "linecolor": "white",
            "ticks": ""
           },
           "bgcolor": "#E5ECF6",
           "radialaxis": {
            "gridcolor": "white",
            "linecolor": "white",
            "ticks": ""
           }
          },
          "scene": {
           "xaxis": {
            "backgroundcolor": "#E5ECF6",
            "gridcolor": "white",
            "gridwidth": 2,
            "linecolor": "white",
            "showbackground": true,
            "ticks": "",
            "zerolinecolor": "white"
           },
           "yaxis": {
            "backgroundcolor": "#E5ECF6",
            "gridcolor": "white",
            "gridwidth": 2,
            "linecolor": "white",
            "showbackground": true,
            "ticks": "",
            "zerolinecolor": "white"
           },
           "zaxis": {
            "backgroundcolor": "#E5ECF6",
            "gridcolor": "white",
            "gridwidth": 2,
            "linecolor": "white",
            "showbackground": true,
            "ticks": "",
            "zerolinecolor": "white"
           }
          },
          "shapedefaults": {
           "line": {
            "color": "#2a3f5f"
           }
          },
          "ternary": {
           "aaxis": {
            "gridcolor": "white",
            "linecolor": "white",
            "ticks": ""
           },
           "baxis": {
            "gridcolor": "white",
            "linecolor": "white",
            "ticks": ""
           },
           "bgcolor": "#E5ECF6",
           "caxis": {
            "gridcolor": "white",
            "linecolor": "white",
            "ticks": ""
           }
          },
          "title": {
           "x": 0.05
          },
          "xaxis": {
           "automargin": true,
           "gridcolor": "white",
           "linecolor": "white",
           "ticks": "",
           "title": {
            "standoff": 15
           },
           "zerolinecolor": "white",
           "zerolinewidth": 2
          },
          "yaxis": {
           "automargin": true,
           "gridcolor": "white",
           "linecolor": "white",
           "ticks": "",
           "title": {
            "standoff": 15
           },
           "zerolinecolor": "white",
           "zerolinewidth": 2
          }
         }
        },
        "title": {
         "text": "throughputs_markov"
        },
        "xaxis": {
         "anchor": "y",
         "domain": [
          0,
          1
         ],
         "title": {
          "text": "N"
         }
        },
        "yaxis": {
         "anchor": "x",
         "domain": [
          0,
          1
         ],
         "title": {
          "text": "C/T"
         }
        }
       }
      }
     },
     "metadata": {},
     "output_type": "display_data"
    }
   ],
   "source": [
    "produce_graph_and_save(throughputs,\"throughputs_markov\",\"C/T\")"
   ]
  },
  {
   "cell_type": "markdown",
   "metadata": {},
   "source": [
    "legend (Delay_station,CPU.Stage,IO1,IO2)\n"
   ]
  },
  {
   "cell_type": "code",
   "execution_count": 8,
   "metadata": {},
   "outputs": [
    {
     "data": {
      "image/svg+xml": [
       "<?xml version=\"1.0\" encoding=\"UTF-8\" standalone=\"no\"?>\n",
       "<!DOCTYPE svg PUBLIC \"-//W3C//DTD SVG 1.1//EN\"\n",
       " \"http://www.w3.org/Graphics/SVG/1.1/DTD/svg11.dtd\">\n",
       "<!-- Generated by graphviz version 2.43.0 (0)\n",
       " -->\n",
       "<!-- Title: %3 Pages: 1 -->\n",
       "<svg width=\"2638pt\" height=\"2132pt\"\n",
       " viewBox=\"0.00 0.00 2638.40 2132.00\" xmlns=\"http://www.w3.org/2000/svg\" xmlns:xlink=\"http://www.w3.org/1999/xlink\">\n",
       "<g id=\"graph0\" class=\"graph\" transform=\"scale(1 1) rotate(0) translate(4 2128)\">\n",
       "<title>%3</title>\n",
       "<polygon fill=\"white\" stroke=\"transparent\" points=\"-4,4 -4,-2128 2634.4,-2128 2634.4,4 -4,4\"/>\n",
       "<!-- 3,0,0,0 -->\n",
       "<g id=\"node1\" class=\"node\">\n",
       "<title>3,0,0,0</title>\n",
       "<ellipse fill=\"none\" stroke=\"black\" cx=\"2395.4\" cy=\"-2106\" rx=\"42.79\" ry=\"18\"/>\n",
       "<text text-anchor=\"middle\" x=\"2395.4\" y=\"-2102.3\" font-family=\"Times,serif\" font-size=\"14.00\">3,0,0,0</text>\n",
       "</g>\n",
       "<!-- 2,1.1,0,0 -->\n",
       "<g id=\"node2\" class=\"node\">\n",
       "<title>2,1.1,0,0</title>\n",
       "<ellipse fill=\"none\" stroke=\"black\" cx=\"2103.4\" cy=\"-2019\" rx=\"51.99\" ry=\"18\"/>\n",
       "<text text-anchor=\"middle\" x=\"2103.4\" y=\"-2015.3\" font-family=\"Times,serif\" font-size=\"14.00\">2,1.1,0,0</text>\n",
       "</g>\n",
       "<!-- 3,0,0,0&#45;&gt;2,1.1,0,0 -->\n",
       "<g id=\"edge1\" class=\"edge\">\n",
       "<title>3,0,0,0&#45;&gt;2,1.1,0,0</title>\n",
       "<path fill=\"none\" stroke=\"black\" d=\"M2361.05,-2095C2309.17,-2079.9 2210.65,-2051.22 2151.62,-2034.04\"/>\n",
       "<polygon fill=\"black\" stroke=\"black\" points=\"2152.36,-2030.61 2141.78,-2031.17 2150.41,-2037.33 2152.36,-2030.61\"/>\n",
       "<text text-anchor=\"middle\" x=\"2295.9\" y=\"-2058.8\" font-family=\"Times,serif\" font-size=\"14.00\">0.00048</text>\n",
       "</g>\n",
       "<!-- 2,1.2,0,0 -->\n",
       "<g id=\"node3\" class=\"node\">\n",
       "<title>2,1.2,0,0</title>\n",
       "<ellipse fill=\"none\" stroke=\"black\" cx=\"2249.4\" cy=\"-279\" rx=\"51.99\" ry=\"18\"/>\n",
       "<text text-anchor=\"middle\" x=\"2249.4\" y=\"-275.3\" font-family=\"Times,serif\" font-size=\"14.00\">2,1.2,0,0</text>\n",
       "</g>\n",
       "<!-- 3,0,0,0&#45;&gt;2,1.2,0,0 -->\n",
       "<g id=\"edge2\" class=\"edge\">\n",
       "<title>3,0,0,0&#45;&gt;2,1.2,0,0</title>\n",
       "<path fill=\"none\" stroke=\"black\" d=\"M2425.14,-2092.96C2452.68,-2079.61 2489.4,-2055.2 2489.4,-2020 2489.4,-2020 2489.4,-2020 2489.4,-365 2489.4,-326.35 2377.38,-300.83 2306.4,-288.55\"/>\n",
       "<polygon fill=\"black\" stroke=\"black\" points=\"2306.69,-285.05 2296.24,-286.83 2305.52,-291.95 2306.69,-285.05\"/>\n",
       "<text text-anchor=\"middle\" x=\"2518.9\" y=\"-1188.8\" font-family=\"Times,serif\" font-size=\"14.00\">0.00012</text>\n",
       "</g>\n",
       "<!-- 2,1.1,0,0&#45;&gt;3,0,0,0 -->\n",
       "<g id=\"edge6\" class=\"edge\">\n",
       "<title>2,1.1,0,0&#45;&gt;3,0,0,0</title>\n",
       "<path fill=\"none\" stroke=\"black\" d=\"M2155.18,-2020.85C2202.3,-2023.27 2272.92,-2031.06 2329.4,-2055 2344.78,-2061.52 2359.79,-2072.42 2371.61,-2082.38\"/>\n",
       "<polygon fill=\"black\" stroke=\"black\" points=\"2369.41,-2085.11 2379.24,-2089.06 2374.02,-2079.84 2369.41,-2085.11\"/>\n",
       "<text text-anchor=\"middle\" x=\"2383.9\" y=\"-2058.8\" font-family=\"Times,serif\" font-size=\"14.00\">0.00089</text>\n",
       "</g>\n",
       "<!-- 1,2.1,0,0 -->\n",
       "<g id=\"node4\" class=\"node\">\n",
       "<title>1,2.1,0,0</title>\n",
       "<ellipse fill=\"none\" stroke=\"black\" cx=\"1246.4\" cy=\"-1584\" rx=\"51.99\" ry=\"18\"/>\n",
       "<text text-anchor=\"middle\" x=\"1246.4\" y=\"-1580.3\" font-family=\"Times,serif\" font-size=\"14.00\">1,2.1,0,0</text>\n",
       "</g>\n",
       "<!-- 2,1.1,0,0&#45;&gt;1,2.1,0,0 -->\n",
       "<g id=\"edge3\" class=\"edge\">\n",
       "<title>2,1.1,0,0&#45;&gt;1,2.1,0,0</title>\n",
       "<path fill=\"none\" stroke=\"black\" d=\"M2058.11,-2010.06C1882.41,-1978.21 1250.66,-1853.37 1150.4,-1689 1129.9,-1655.4 1172.65,-1623.13 1207.51,-1603.68\"/>\n",
       "<polygon fill=\"black\" stroke=\"black\" points=\"1209.47,-1606.6 1216.62,-1598.78 1206.15,-1600.43 1209.47,-1606.6\"/>\n",
       "<text text-anchor=\"middle\" x=\"1345.4\" y=\"-1797.8\" font-family=\"Times,serif\" font-size=\"14.00\">0.0004</text>\n",
       "</g>\n",
       "<!-- 2,0,0,1 -->\n",
       "<g id=\"node5\" class=\"node\">\n",
       "<title>2,0,0,1</title>\n",
       "<ellipse fill=\"none\" stroke=\"black\" cx=\"1548.4\" cy=\"-1410\" rx=\"42.79\" ry=\"18\"/>\n",
       "<text text-anchor=\"middle\" x=\"1548.4\" y=\"-1406.3\" font-family=\"Times,serif\" font-size=\"14.00\">2,0,0,1</text>\n",
       "</g>\n",
       "<!-- 2,1.1,0,0&#45;&gt;2,0,0,1 -->\n",
       "<g id=\"edge4\" class=\"edge\">\n",
       "<title>2,1.1,0,0&#45;&gt;2,0,0,1</title>\n",
       "<path fill=\"none\" stroke=\"black\" d=\"M2111.73,-2000.95C2114.04,-1995.36 2116.24,-1989.04 2117.4,-1983 2137.85,-1876.82 2157.6,-1834.7 2105.4,-1740 2015.9,-1577.61 1975.74,-1527.93 1809.4,-1446 1773.73,-1428.43 1666.04,-1418.58 1600.66,-1414.07\"/>\n",
       "<polygon fill=\"black\" stroke=\"black\" points=\"1600.76,-1410.57 1590.55,-1413.39 1600.29,-1417.55 1600.76,-1410.57\"/>\n",
       "<text text-anchor=\"middle\" x=\"2125.9\" y=\"-1710.8\" font-family=\"Times,serif\" font-size=\"14.00\">0.00556</text>\n",
       "</g>\n",
       "<!-- 2,0,1,0 -->\n",
       "<g id=\"node6\" class=\"node\">\n",
       "<title>2,0,1,0</title>\n",
       "<ellipse fill=\"none\" stroke=\"black\" cx=\"1975.4\" cy=\"-1932\" rx=\"42.79\" ry=\"18\"/>\n",
       "<text text-anchor=\"middle\" x=\"1975.4\" y=\"-1928.3\" font-family=\"Times,serif\" font-size=\"14.00\">2,0,1,0</text>\n",
       "</g>\n",
       "<!-- 2,1.1,0,0&#45;&gt;2,0,1,0 -->\n",
       "<g id=\"edge5\" class=\"edge\">\n",
       "<title>2,1.1,0,0&#45;&gt;2,0,1,0</title>\n",
       "<path fill=\"none\" stroke=\"black\" d=\"M2070.68,-2004.77C2057.68,-1998.89 2042.88,-1991.4 2030.4,-1983 2019.03,-1975.34 2007.62,-1965.43 1998.17,-1956.45\"/>\n",
       "<polygon fill=\"black\" stroke=\"black\" points=\"2000.33,-1953.67 1990.73,-1949.2 1995.44,-1958.69 2000.33,-1953.67\"/>\n",
       "<text text-anchor=\"middle\" x=\"2059.9\" y=\"-1971.8\" font-family=\"Times,serif\" font-size=\"14.00\">0.01444</text>\n",
       "</g>\n",
       "<!-- 2,1.2,0,0&#45;&gt;3,0,0,0 -->\n",
       "<g id=\"edge9\" class=\"edge\">\n",
       "<title>2,1.2,0,0&#45;&gt;3,0,0,0</title>\n",
       "<path fill=\"none\" stroke=\"black\" d=\"M2300.42,-282.93C2391.22,-289.54 2571.4,-309.64 2571.4,-365 2571.4,-2020 2571.4,-2020 2571.4,-2020 2571.4,-2075.51 2499.53,-2094.79 2447.64,-2101.47\"/>\n",
       "<polygon fill=\"black\" stroke=\"black\" points=\"2447.08,-2098.01 2437.56,-2102.64 2447.89,-2104.96 2447.08,-2098.01\"/>\n",
       "<text text-anchor=\"middle\" x=\"2600.9\" y=\"-1188.8\" font-family=\"Times,serif\" font-size=\"14.00\">0.00018</text>\n",
       "</g>\n",
       "<!-- 2,1.2,0,0&#45;&gt;2,0,0,1 -->\n",
       "<g id=\"edge7\" class=\"edge\">\n",
       "<title>2,1.2,0,0&#45;&gt;2,0,0,1</title>\n",
       "<path fill=\"none\" stroke=\"black\" d=\"M2249.4,-297.26C2249.4,-314.43 2249.4,-341.54 2249.4,-365 2249.4,-584.5 2249.4,-584.5 2249.4,-584.5 2249.4,-792.86 2019,-709.25 1854.4,-837 1738.38,-927.05 1660.4,-957.64 1660.4,-1104.5 1660.4,-1280.5 1660.4,-1280.5 1660.4,-1280.5 1660.4,-1323.4 1664.75,-1341.8 1636.4,-1374 1630.02,-1381.25 1610.95,-1389.22 1592.19,-1395.72\"/>\n",
       "<polygon fill=\"black\" stroke=\"black\" points=\"1590.85,-1392.48 1582.48,-1398.97 1593.07,-1399.12 1590.85,-1392.48\"/>\n",
       "<text text-anchor=\"middle\" x=\"1883.9\" y=\"-840.8\" font-family=\"Times,serif\" font-size=\"14.00\">0.00111</text>\n",
       "</g>\n",
       "<!-- 2,1.2,0,0&#45;&gt;2,0,1,0 -->\n",
       "<g id=\"edge8\" class=\"edge\">\n",
       "<title>2,1.2,0,0&#45;&gt;2,0,1,0</title>\n",
       "<path fill=\"none\" stroke=\"black\" d=\"M2261.84,-296.6C2272.93,-313.07 2287.4,-339.46 2287.4,-365 2287.4,-1280.5 2287.4,-1280.5 2287.4,-1280.5 2287.4,-1502.91 2333.55,-1586.33 2217.4,-1776 2171.56,-1850.86 2074.43,-1896.03 2018.15,-1916.97\"/>\n",
       "<polygon fill=\"black\" stroke=\"black\" points=\"2016.69,-1913.78 2008.48,-1920.48 2019.07,-1920.36 2016.69,-1913.78\"/>\n",
       "<text text-anchor=\"middle\" x=\"2316.9\" y=\"-1101.8\" font-family=\"Times,serif\" font-size=\"14.00\">0.00289</text>\n",
       "</g>\n",
       "<!-- 1,2.2,0,0 -->\n",
       "<g id=\"node7\" class=\"node\">\n",
       "<title>1,2.2,0,0</title>\n",
       "<ellipse fill=\"none\" stroke=\"black\" cx=\"1894.4\" cy=\"-366\" rx=\"51.99\" ry=\"18\"/>\n",
       "<text text-anchor=\"middle\" x=\"1894.4\" y=\"-362.3\" font-family=\"Times,serif\" font-size=\"14.00\">1,2.2,0,0</text>\n",
       "</g>\n",
       "<!-- 2,1.2,0,0&#45;&gt;1,2.2,0,0 -->\n",
       "<g id=\"edge10\" class=\"edge\">\n",
       "<title>2,1.2,0,0&#45;&gt;1,2.2,0,0</title>\n",
       "<path fill=\"none\" stroke=\"black\" d=\"M2203.39,-287.48C2166.01,-293.87 2112.03,-303.78 2065.4,-315 2022.84,-325.24 1975.07,-339.44 1940.87,-350.09\"/>\n",
       "<polygon fill=\"black\" stroke=\"black\" points=\"1939.65,-346.81 1931.15,-353.14 1941.74,-353.49 1939.65,-346.81\"/>\n",
       "<text text-anchor=\"middle\" x=\"2090.4\" y=\"-318.8\" font-family=\"Times,serif\" font-size=\"14.00\">0.0004</text>\n",
       "</g>\n",
       "<!-- 1,2.1,0,0&#45;&gt;2,1.1,0,0 -->\n",
       "<g id=\"edge14\" class=\"edge\">\n",
       "<title>1,2.1,0,0&#45;&gt;2,1.1,0,0</title>\n",
       "<path fill=\"none\" stroke=\"black\" d=\"M1195.02,-1587.01C1000.66,-1594.93 321.4,-1625.78 321.4,-1670 321.4,-1933 321.4,-1933 321.4,-1933 321.4,-2020.95 1724.63,-2019.74 2040.69,-2018.36\"/>\n",
       "<polygon fill=\"black\" stroke=\"black\" points=\"2041.05,-2021.85 2051.03,-2018.31 2041.02,-2014.85 2041.05,-2021.85\"/>\n",
       "<text text-anchor=\"middle\" x=\"350.9\" y=\"-1797.8\" font-family=\"Times,serif\" font-size=\"14.00\">0.00071</text>\n",
       "</g>\n",
       "<!-- 1,2.1,0,0&#45;&gt;2,1.2,0,0 -->\n",
       "<g id=\"edge17\" class=\"edge\">\n",
       "<title>1,2.1,0,0&#45;&gt;2,1.2,0,0</title>\n",
       "<path fill=\"none\" stroke=\"black\" d=\"M1294.38,-1577.06C1367.53,-1565.85 1508.17,-1535.62 1600.4,-1461 1671.37,-1403.58 1698.4,-1371.78 1698.4,-1280.5 1698.4,-1280.5 1698.4,-1280.5 1698.4,-1061 1698.4,-988.5 1804.24,-927.93 1854.4,-852 1944.78,-715.18 1925.22,-656.23 2019.4,-522 2082.21,-432.48 2177.37,-343.46 2223.08,-302.84\"/>\n",
       "<polygon fill=\"black\" stroke=\"black\" points=\"2225.58,-305.29 2230.76,-296.05 2220.94,-300.05 2225.58,-305.29\"/>\n",
       "<text text-anchor=\"middle\" x=\"1820.9\" y=\"-927.8\" font-family=\"Times,serif\" font-size=\"14.00\">0.00018</text>\n",
       "</g>\n",
       "<!-- 0,3.1,0,0 -->\n",
       "<g id=\"node8\" class=\"node\">\n",
       "<title>0,3.1,0,0</title>\n",
       "<ellipse fill=\"none\" stroke=\"black\" cx=\"559.4\" cy=\"-627\" rx=\"51.99\" ry=\"18\"/>\n",
       "<text text-anchor=\"middle\" x=\"559.4\" y=\"-623.3\" font-family=\"Times,serif\" font-size=\"14.00\">0,3.1,0,0</text>\n",
       "</g>\n",
       "<!-- 1,2.1,0,0&#45;&gt;0,3.1,0,0 -->\n",
       "<g id=\"edge11\" class=\"edge\">\n",
       "<title>1,2.1,0,0&#45;&gt;0,3.1,0,0</title>\n",
       "<path fill=\"none\" stroke=\"black\" d=\"M1194.49,-1582.04C1033.58,-1578.85 552.34,-1567.69 525.4,-1548 486.35,-1519.45 508.74,-1489.42 487.4,-1446 450.69,-1371.29 411.28,-1367.04 388.4,-1287 369.34,-1220.34 375.68,-1199.16 388.4,-1131 408.07,-1025.6 451.21,-1010.45 475.4,-906 499.86,-800.39 437.45,-753.97 496.4,-663 501.05,-655.83 507.7,-650 514.95,-645.29\"/>\n",
       "<polygon fill=\"black\" stroke=\"black\" points=\"516.74,-648.3 523.66,-640.28 513.25,-642.24 516.74,-648.3\"/>\n",
       "<text text-anchor=\"middle\" x=\"421.4\" y=\"-1101.8\" font-family=\"Times,serif\" font-size=\"14.00\">0.0002</text>\n",
       "</g>\n",
       "<!-- 1,1.1,0,1 -->\n",
       "<g id=\"node9\" class=\"node\">\n",
       "<title>1,1.1,0,1</title>\n",
       "<ellipse fill=\"none\" stroke=\"black\" cx=\"1391.4\" cy=\"-1323\" rx=\"51.99\" ry=\"18\"/>\n",
       "<text text-anchor=\"middle\" x=\"1391.4\" y=\"-1319.3\" font-family=\"Times,serif\" font-size=\"14.00\">1,1.1,0,1</text>\n",
       "</g>\n",
       "<!-- 1,2.1,0,0&#45;&gt;1,1.1,0,1 -->\n",
       "<g id=\"edge12\" class=\"edge\">\n",
       "<title>1,2.1,0,0&#45;&gt;1,1.1,0,1</title>\n",
       "<path fill=\"none\" stroke=\"black\" d=\"M1285.23,-1571.78C1332.33,-1555.83 1409.5,-1521.58 1442.4,-1461 1462.6,-1423.81 1434.84,-1376.94 1413.04,-1348.78\"/>\n",
       "<polygon fill=\"black\" stroke=\"black\" points=\"1415.52,-1346.28 1406.52,-1340.68 1410.06,-1350.66 1415.52,-1346.28\"/>\n",
       "<text text-anchor=\"middle\" x=\"1477.9\" y=\"-1449.8\" font-family=\"Times,serif\" font-size=\"14.00\">0.00444</text>\n",
       "</g>\n",
       "<!-- 1,1.1,1,0 -->\n",
       "<g id=\"node10\" class=\"node\">\n",
       "<title>1,1.1,1,0</title>\n",
       "<ellipse fill=\"none\" stroke=\"black\" cx=\"1211.4\" cy=\"-1671\" rx=\"51.99\" ry=\"18\"/>\n",
       "<text text-anchor=\"middle\" x=\"1211.4\" y=\"-1667.3\" font-family=\"Times,serif\" font-size=\"14.00\">1,1.1,1,0</text>\n",
       "</g>\n",
       "<!-- 1,2.1,0,0&#45;&gt;1,1.1,1,0 -->\n",
       "<g id=\"edge13\" class=\"edge\">\n",
       "<title>1,2.1,0,0&#45;&gt;1,1.1,1,0</title>\n",
       "<path fill=\"none\" stroke=\"black\" d=\"M1222.5,-1600.17C1216.06,-1605.57 1209.91,-1612.27 1206.4,-1620 1203.18,-1627.1 1202.82,-1635.34 1203.71,-1643.05\"/>\n",
       "<polygon fill=\"black\" stroke=\"black\" points=\"1200.3,-1643.89 1205.55,-1653.09 1207.19,-1642.62 1200.3,-1643.89\"/>\n",
       "<text text-anchor=\"middle\" x=\"1235.9\" y=\"-1623.8\" font-family=\"Times,serif\" font-size=\"14.00\">0.01156</text>\n",
       "</g>\n",
       "<!-- 1,1.2,0,1 -->\n",
       "<g id=\"node11\" class=\"node\">\n",
       "<title>1,1.2,0,1</title>\n",
       "<ellipse fill=\"none\" stroke=\"black\" cx=\"1206.4\" cy=\"-1497\" rx=\"51.99\" ry=\"18\"/>\n",
       "<text text-anchor=\"middle\" x=\"1206.4\" y=\"-1493.3\" font-family=\"Times,serif\" font-size=\"14.00\">1,1.2,0,1</text>\n",
       "</g>\n",
       "<!-- 1,2.1,0,0&#45;&gt;1,1.2,0,1 -->\n",
       "<g id=\"edge15\" class=\"edge\">\n",
       "<title>1,2.1,0,0&#45;&gt;1,1.2,0,1</title>\n",
       "<path fill=\"none\" stroke=\"black\" d=\"M1232.75,-1566.26C1228.68,-1560.7 1224.49,-1554.3 1221.4,-1548 1217.89,-1540.84 1215.02,-1532.69 1212.77,-1525.09\"/>\n",
       "<polygon fill=\"black\" stroke=\"black\" points=\"1216.07,-1523.92 1210.07,-1515.19 1209.32,-1525.76 1216.07,-1523.92\"/>\n",
       "<text text-anchor=\"middle\" x=\"1250.9\" y=\"-1536.8\" font-family=\"Times,serif\" font-size=\"14.00\">0.00111</text>\n",
       "</g>\n",
       "<!-- 1,1.2,1,0 -->\n",
       "<g id=\"node12\" class=\"node\">\n",
       "<title>1,1.2,1,0</title>\n",
       "<ellipse fill=\"none\" stroke=\"black\" cx=\"1896.4\" cy=\"-1845\" rx=\"51.99\" ry=\"18\"/>\n",
       "<text text-anchor=\"middle\" x=\"1896.4\" y=\"-1841.3\" font-family=\"Times,serif\" font-size=\"14.00\">1,1.2,1,0</text>\n",
       "</g>\n",
       "<!-- 1,2.1,0,0&#45;&gt;1,1.2,1,0 -->\n",
       "<g id=\"edge16\" class=\"edge\">\n",
       "<title>1,2.1,0,0&#45;&gt;1,1.2,1,0</title>\n",
       "<path fill=\"none\" stroke=\"black\" d=\"M1274.98,-1599.19C1364.41,-1643.44 1638.51,-1777.77 1732.4,-1809 1767.3,-1820.61 1807.69,-1829.28 1839.66,-1835.09\"/>\n",
       "<polygon fill=\"black\" stroke=\"black\" points=\"1839.26,-1838.58 1849.72,-1836.88 1840.49,-1831.68 1839.26,-1838.58\"/>\n",
       "<text text-anchor=\"middle\" x=\"1557.9\" y=\"-1710.8\" font-family=\"Times,serif\" font-size=\"14.00\">0.00289</text>\n",
       "</g>\n",
       "<!-- 2,0,0,1&#45;&gt;2,1.1,0,0 -->\n",
       "<g id=\"edge19\" class=\"edge\">\n",
       "<title>2,0,0,1&#45;&gt;2,1.1,0,0</title>\n",
       "<path fill=\"none\" stroke=\"black\" d=\"M1581.65,-1421.55C1631.94,-1438.74 1728.46,-1476.61 1794.4,-1533 1971.94,-1684.81 1992.48,-1755.46 2089.4,-1968 2092.69,-1975.22 2095.37,-1983.38 2097.48,-1990.99\"/>\n",
       "<polygon fill=\"black\" stroke=\"black\" points=\"2094.14,-1992.04 2099.99,-2000.87 2100.92,-1990.32 2094.14,-1992.04\"/>\n",
       "<text text-anchor=\"middle\" x=\"1997.9\" y=\"-1710.8\" font-family=\"Times,serif\" font-size=\"14.00\">0.00556</text>\n",
       "</g>\n",
       "<!-- 2,0,0,1&#45;&gt;2,1.2,0,0 -->\n",
       "<g id=\"edge21\" class=\"edge\">\n",
       "<title>2,0,0,1&#45;&gt;2,1.2,0,0</title>\n",
       "<path fill=\"none\" stroke=\"black\" d=\"M1574.48,-1395.49C1583.58,-1389.8 1593.28,-1382.52 1600.4,-1374 1615.97,-1355.38 1622.4,-1348.28 1622.4,-1324 1622.4,-1324 1622.4,-1324 1622.4,-1104.5 1622.4,-1034.06 1650.02,-1020.55 1680.4,-957 1718.78,-876.73 1720.26,-849.48 1779.4,-783 1891.6,-656.88 1972.22,-683.24 2085.4,-558 2158.64,-476.96 2215.43,-358.14 2238.36,-306.07\"/>\n",
       "<polygon fill=\"black\" stroke=\"black\" points=\"2241.59,-307.43 2242.37,-296.86 2235.17,-304.64 2241.59,-307.43\"/>\n",
       "<text text-anchor=\"middle\" x=\"1767.9\" y=\"-840.8\" font-family=\"Times,serif\" font-size=\"14.00\">0.00556</text>\n",
       "</g>\n",
       "<!-- 2,0,0,1&#45;&gt;1,1.1,0,1 -->\n",
       "<g id=\"edge18\" class=\"edge\">\n",
       "<title>2,0,0,1&#45;&gt;1,1.1,0,1</title>\n",
       "<path fill=\"none\" stroke=\"black\" d=\"M1517.81,-1397.25C1502.39,-1390.97 1483.58,-1382.73 1467.4,-1374 1451.67,-1365.51 1434.99,-1354.75 1421.27,-1345.39\"/>\n",
       "<polygon fill=\"black\" stroke=\"black\" points=\"1422.95,-1342.29 1412.73,-1339.48 1418.96,-1348.05 1422.95,-1342.29\"/>\n",
       "<text text-anchor=\"middle\" x=\"1496.9\" y=\"-1362.8\" font-family=\"Times,serif\" font-size=\"14.00\">0.00032</text>\n",
       "</g>\n",
       "<!-- 2,0,0,1&#45;&gt;1,1.2,0,1 -->\n",
       "<g id=\"edge20\" class=\"edge\">\n",
       "<title>2,0,0,1&#45;&gt;1,1.2,0,1</title>\n",
       "<path fill=\"none\" stroke=\"black\" d=\"M1508.5,-1416.77C1478.47,-1422 1436.75,-1431.21 1402.4,-1446 1391.19,-1450.83 1390.69,-1456.37 1379.4,-1461 1343.17,-1475.84 1300,-1484.59 1265.85,-1489.62\"/>\n",
       "<polygon fill=\"black\" stroke=\"black\" points=\"1264.98,-1486.21 1255.56,-1491.07 1265.95,-1493.14 1264.98,-1486.21\"/>\n",
       "<text text-anchor=\"middle\" x=\"1422.4\" y=\"-1449.8\" font-family=\"Times,serif\" font-size=\"14.00\">8e&#45;05</text>\n",
       "</g>\n",
       "<!-- 2,0,1,0&#45;&gt;2,1.1,0,0 -->\n",
       "<g id=\"edge23\" class=\"edge\">\n",
       "<title>2,0,1,0&#45;&gt;2,1.1,0,0</title>\n",
       "<path fill=\"none\" stroke=\"black\" d=\"M1970.59,-1949.94C1968.67,-1960.49 1968.34,-1973.75 1975.4,-1983 1984.38,-1994.76 2016.58,-2003.54 2046.44,-2009.36\"/>\n",
       "<polygon fill=\"black\" stroke=\"black\" points=\"2045.97,-2012.83 2056.44,-2011.22 2047.25,-2005.95 2045.97,-2012.83\"/>\n",
       "<text text-anchor=\"middle\" x=\"1991.4\" y=\"-1971.8\" font-family=\"Times,serif\" font-size=\"14.00\">0.02</text>\n",
       "</g>\n",
       "<!-- 2,0,1,0&#45;&gt;2,1.2,0,0 -->\n",
       "<g id=\"edge25\" class=\"edge\">\n",
       "<title>2,0,1,0&#45;&gt;2,1.2,0,0</title>\n",
       "<path fill=\"none\" stroke=\"black\" d=\"M2018.32,-1930.73C2120.43,-1928.92 2369.4,-1917.2 2369.4,-1846 2369.4,-1846 2369.4,-1846 2369.4,-365 2369.4,-328.63 2332.25,-306.42 2299.29,-293.87\"/>\n",
       "<polygon fill=\"black\" stroke=\"black\" points=\"2300.29,-290.51 2289.69,-290.43 2297.93,-297.1 2300.29,-290.51\"/>\n",
       "<text text-anchor=\"middle\" x=\"2389.9\" y=\"-1101.8\" font-family=\"Times,serif\" font-size=\"14.00\">0.005</text>\n",
       "</g>\n",
       "<!-- 2,0,1,0&#45;&gt;1,1.1,1,0 -->\n",
       "<g id=\"edge22\" class=\"edge\">\n",
       "<title>2,0,1,0&#45;&gt;1,1.1,1,0</title>\n",
       "<path fill=\"none\" stroke=\"black\" d=\"M1941.93,-1920.54C1847.32,-1890.86 1570.02,-1802.97 1342.4,-1722 1312.61,-1711.4 1279.32,-1698.68 1253.75,-1688.73\"/>\n",
       "<polygon fill=\"black\" stroke=\"black\" points=\"1254.94,-1685.44 1244.36,-1685.06 1252.4,-1691.96 1254.94,-1685.44\"/>\n",
       "<text text-anchor=\"middle\" x=\"1625.9\" y=\"-1797.8\" font-family=\"Times,serif\" font-size=\"14.00\">0.00032</text>\n",
       "</g>\n",
       "<!-- 2,0,1,0&#45;&gt;1,1.2,1,0 -->\n",
       "<g id=\"edge24\" class=\"edge\">\n",
       "<title>2,0,1,0&#45;&gt;1,1.2,1,0</title>\n",
       "<path fill=\"none\" stroke=\"black\" d=\"M1971.52,-1913.77C1968.49,-1903.38 1963.43,-1890.38 1955.4,-1881 1950.12,-1874.83 1943.46,-1869.46 1936.54,-1864.91\"/>\n",
       "<polygon fill=\"black\" stroke=\"black\" points=\"1938.08,-1861.75 1927.71,-1859.58 1934.46,-1867.74 1938.08,-1861.75\"/>\n",
       "<text text-anchor=\"middle\" x=\"1985.4\" y=\"-1884.8\" font-family=\"Times,serif\" font-size=\"14.00\">8e&#45;05</text>\n",
       "</g>\n",
       "<!-- 1,2.2,0,0&#45;&gt;2,1.1,0,0 -->\n",
       "<g id=\"edge28\" class=\"edge\">\n",
       "<title>1,2.2,0,0&#45;&gt;2,1.1,0,0</title>\n",
       "<path fill=\"none\" stroke=\"black\" d=\"M1934.99,-377.44C1953.54,-383.18 1975.36,-391.33 1993.4,-402 2012.37,-413.22 2015.76,-418.54 2030.4,-435 2123.47,-539.63 2330.59,-827.3 2383.4,-957 2421.84,-1051.41 2411.54,-1083.11 2408.4,-1185 2407.72,-1207.22 2407.4,-1212.77 2407.4,-1235 2407.4,-1933 2407.4,-1933 2407.4,-1933 2407.4,-1983.01 2252.86,-2004.92 2164.15,-2013.37\"/>\n",
       "<polygon fill=\"black\" stroke=\"black\" points=\"2163.58,-2009.91 2153.94,-2014.31 2164.22,-2016.88 2163.58,-2009.91\"/>\n",
       "<text text-anchor=\"middle\" x=\"2437.9\" y=\"-1188.8\" font-family=\"Times,serif\" font-size=\"14.00\">0.00014</text>\n",
       "</g>\n",
       "<!-- 1,2.2,0,0&#45;&gt;2,1.2,0,0 -->\n",
       "<g id=\"edge32\" class=\"edge\">\n",
       "<title>1,2.2,0,0&#45;&gt;2,1.2,0,0</title>\n",
       "<path fill=\"none\" stroke=\"black\" d=\"M1946,-362.93C1991.83,-359.68 2059.93,-351.35 2115.4,-330 2126.79,-325.62 2127.37,-320.22 2138.4,-315 2157.38,-306.03 2179.23,-298.57 2198.51,-292.88\"/>\n",
       "<polygon fill=\"black\" stroke=\"black\" points=\"2199.67,-296.19 2208.32,-290.07 2197.74,-289.46 2199.67,-296.19\"/>\n",
       "<text text-anchor=\"middle\" x=\"2158.4\" y=\"-318.8\" font-family=\"Times,serif\" font-size=\"14.00\">4e&#45;05</text>\n",
       "</g>\n",
       "<!-- 1,2.2,0,0&#45;&gt;1,1.1,0,1 -->\n",
       "<g id=\"edge26\" class=\"edge\">\n",
       "<title>1,2.2,0,0&#45;&gt;1,1.1,0,1</title>\n",
       "<path fill=\"none\" stroke=\"black\" d=\"M1875.58,-382.79C1868.98,-388.61 1861.66,-395.4 1855.4,-402 1787.13,-474.05 1769.2,-492.59 1715.4,-576 1691.91,-612.41 1689.77,-623.76 1671.4,-663 1650.47,-707.72 1650.54,-721.39 1627.4,-765 1609.6,-798.54 1592.76,-800.77 1581.4,-837 1567.83,-880.29 1580.11,-893.71 1577.4,-939 1575.08,-977.72 1577.67,-987.9 1570.4,-1026 1563.56,-1061.84 1546.4,-1068.02 1546.4,-1104.5 1546.4,-1237 1546.4,-1237 1546.4,-1237 1546.4,-1262.14 1482.91,-1289.92 1437.2,-1306.66\"/>\n",
       "<polygon fill=\"black\" stroke=\"black\" points=\"1435.97,-1303.38 1427.74,-1310.06 1438.34,-1309.97 1435.97,-1303.38\"/>\n",
       "<text text-anchor=\"middle\" x=\"1610.9\" y=\"-840.8\" font-family=\"Times,serif\" font-size=\"14.00\">0.00089</text>\n",
       "</g>\n",
       "<!-- 1,2.2,0,0&#45;&gt;1,1.1,1,0 -->\n",
       "<g id=\"edge27\" class=\"edge\">\n",
       "<title>1,2.2,0,0&#45;&gt;1,1.1,1,0</title>\n",
       "<path fill=\"none\" stroke=\"black\" d=\"M1902.45,-383.83C1909.76,-400.68 1919.4,-427.54 1919.4,-452 1919.4,-584.5 1919.4,-584.5 1919.4,-584.5 1919.4,-628.57 1957.84,-634.27 1952.4,-678 1937.62,-796.74 1934.42,-829.41 1886.4,-939 1871.06,-974 1850.3,-974.37 1839.4,-1011 1822,-1069.49 1848.4,-1086.98 1848.4,-1148 1848.4,-1411 1848.4,-1411 1848.4,-1411 1848.4,-1517.31 1800.72,-1556.99 1704.4,-1602 1662,-1621.81 1650.23,-1625.53 1604.4,-1635 1489,-1658.85 1351.23,-1666.45 1273.27,-1668.87\"/>\n",
       "<polygon fill=\"black\" stroke=\"black\" points=\"1273.03,-1665.38 1263.13,-1669.17 1273.23,-1672.37 1273.03,-1665.38\"/>\n",
       "<text text-anchor=\"middle\" x=\"1868.9\" y=\"-1014.8\" font-family=\"Times,serif\" font-size=\"14.00\">0.00231</text>\n",
       "</g>\n",
       "<!-- 1,2.2,0,0&#45;&gt;1,1.2,0,1 -->\n",
       "<g id=\"edge30\" class=\"edge\">\n",
       "<title>1,2.2,0,0&#45;&gt;1,1.2,0,1</title>\n",
       "<path fill=\"none\" stroke=\"black\" d=\"M1886.35,-383.83C1879.04,-400.68 1869.4,-427.54 1869.4,-452 1869.4,-584.5 1869.4,-584.5 1869.4,-584.5 1869.4,-648.18 1817.75,-645.15 1779.4,-696 1705.77,-793.63 1672.69,-811.23 1625.4,-924 1567.46,-1062.18 1628.91,-1122.87 1556.4,-1254 1523.85,-1312.87 1494.31,-1310.79 1447.4,-1359 1404.62,-1402.97 1407.27,-1429.89 1354.4,-1461 1327.75,-1476.68 1294.51,-1485.34 1266.28,-1490.12\"/>\n",
       "<polygon fill=\"black\" stroke=\"black\" points=\"1265.47,-1486.7 1256.13,-1491.71 1266.56,-1493.62 1265.47,-1486.7\"/>\n",
       "<text text-anchor=\"middle\" x=\"1654.9\" y=\"-927.8\" font-family=\"Times,serif\" font-size=\"14.00\">0.00022</text>\n",
       "</g>\n",
       "<!-- 1,2.2,0,0&#45;&gt;1,1.2,1,0 -->\n",
       "<g id=\"edge31\" class=\"edge\">\n",
       "<title>1,2.2,0,0&#45;&gt;1,1.2,1,0</title>\n",
       "<path fill=\"none\" stroke=\"black\" d=\"M1932.87,-378.36C1946.32,-383.82 1960.72,-391.5 1971.4,-402 2074.64,-503.42 2058.71,-561.21 2111.4,-696 2186.11,-887.1 2205.4,-942.81 2205.4,-1148 2205.4,-1759 2205.4,-1759 2205.4,-1759 2205.4,-1809.96 2047.17,-1831.51 1957.17,-1839.65\"/>\n",
       "<polygon fill=\"black\" stroke=\"black\" points=\"1956.74,-1836.18 1947.08,-1840.53 1957.35,-1843.15 1956.74,-1836.18\"/>\n",
       "<text text-anchor=\"middle\" x=\"2233.9\" y=\"-1101.8\" font-family=\"Times,serif\" font-size=\"14.00\">0.00058</text>\n",
       "</g>\n",
       "<!-- 0,3.2,0,0 -->\n",
       "<g id=\"node13\" class=\"node\">\n",
       "<title>0,3.2,0,0</title>\n",
       "<ellipse fill=\"none\" stroke=\"black\" cx=\"1478.4\" cy=\"-453\" rx=\"51.99\" ry=\"18\"/>\n",
       "<text text-anchor=\"middle\" x=\"1478.4\" y=\"-449.3\" font-family=\"Times,serif\" font-size=\"14.00\">0,3.2,0,0</text>\n",
       "</g>\n",
       "<!-- 1,2.2,0,0&#45;&gt;0,3.2,0,0 -->\n",
       "<g id=\"edge29\" class=\"edge\">\n",
       "<title>1,2.2,0,0&#45;&gt;0,3.2,0,0</title>\n",
       "<path fill=\"none\" stroke=\"black\" d=\"M1842.19,-366.55C1751.41,-366.63 1568.97,-370.81 1514.4,-402 1504.65,-407.57 1496.84,-416.99 1491.02,-426.15\"/>\n",
       "<polygon fill=\"black\" stroke=\"black\" points=\"1487.84,-424.67 1485.87,-435.08 1493.9,-428.17 1487.84,-424.67\"/>\n",
       "<text text-anchor=\"middle\" x=\"1539.4\" y=\"-405.8\" font-family=\"Times,serif\" font-size=\"14.00\">0.0002</text>\n",
       "</g>\n",
       "<!-- 0,3.1,0,0&#45;&gt;1,2.1,0,0 -->\n",
       "<g id=\"edge35\" class=\"edge\">\n",
       "<title>0,3.1,0,0&#45;&gt;1,2.1,0,0</title>\n",
       "<path fill=\"none\" stroke=\"black\" d=\"M551.5,-644.87C549.02,-650.55 546.41,-656.98 544.4,-663 539.63,-677.32 538.67,-681.08 536.4,-696 515.12,-835.81 442.42,-1111.19 529.4,-1254 674.46,-1492.17 1042.35,-1559.6 1186.84,-1577.23\"/>\n",
       "<polygon fill=\"black\" stroke=\"black\" points=\"1186.51,-1580.71 1196.85,-1578.41 1187.33,-1573.76 1186.51,-1580.71\"/>\n",
       "<text text-anchor=\"middle\" x=\"519.9\" y=\"-1101.8\" font-family=\"Times,serif\" font-size=\"14.00\">0.00071</text>\n",
       "</g>\n",
       "<!-- 0,3.1,0,0&#45;&gt;1,2.2,0,0 -->\n",
       "<g id=\"edge38\" class=\"edge\">\n",
       "<title>0,3.1,0,0&#45;&gt;1,2.2,0,0</title>\n",
       "<path fill=\"none\" stroke=\"black\" d=\"M599.37,-615.3C677.46,-594.72 855.99,-549.24 1008.4,-522 1071.02,-510.81 1089.53,-522.49 1150.4,-504 1164.66,-499.67 1166.49,-494.35 1180.4,-489 1315.57,-437.04 1351.9,-427.75 1494.4,-402 1612.9,-380.59 1753.61,-372.13 1832.6,-368.9\"/>\n",
       "<polygon fill=\"black\" stroke=\"black\" points=\"1833,-372.39 1842.86,-368.5 1832.73,-365.4 1833,-372.39\"/>\n",
       "<text text-anchor=\"middle\" x=\"1209.9\" y=\"-492.8\" font-family=\"Times,serif\" font-size=\"14.00\">0.00018</text>\n",
       "</g>\n",
       "<!-- 0,2.1,0,1 -->\n",
       "<g id=\"node14\" class=\"node\">\n",
       "<title>0,2.1,0,1</title>\n",
       "<ellipse fill=\"none\" stroke=\"black\" cx=\"868.4\" cy=\"-714\" rx=\"51.99\" ry=\"18\"/>\n",
       "<text text-anchor=\"middle\" x=\"868.4\" y=\"-710.3\" font-family=\"Times,serif\" font-size=\"14.00\">0,2.1,0,1</text>\n",
       "</g>\n",
       "<!-- 0,3.1,0,0&#45;&gt;0,2.1,0,1 -->\n",
       "<g id=\"edge33\" class=\"edge\">\n",
       "<title>0,3.1,0,0&#45;&gt;0,2.1,0,1</title>\n",
       "<path fill=\"none\" stroke=\"black\" d=\"M573.94,-644.48C585.13,-655.98 601.65,-670.55 619.4,-678 693.12,-708.95 719.59,-682.53 798.4,-696 805.03,-697.13 811.96,-698.54 818.77,-700.05\"/>\n",
       "<polygon fill=\"black\" stroke=\"black\" points=\"818.09,-703.49 828.62,-702.33 819.67,-696.67 818.09,-703.49\"/>\n",
       "<text text-anchor=\"middle\" x=\"648.9\" y=\"-666.8\" font-family=\"Times,serif\" font-size=\"14.00\">0.00444</text>\n",
       "</g>\n",
       "<!-- 0,2.1,1,0 -->\n",
       "<g id=\"node15\" class=\"node\">\n",
       "<title>0,2.1,1,0</title>\n",
       "<ellipse fill=\"none\" stroke=\"black\" cx=\"524.4\" cy=\"-192\" rx=\"51.99\" ry=\"18\"/>\n",
       "<text text-anchor=\"middle\" x=\"524.4\" y=\"-188.3\" font-family=\"Times,serif\" font-size=\"14.00\">0,2.1,1,0</text>\n",
       "</g>\n",
       "<!-- 0,3.1,0,0&#45;&gt;0,2.1,1,0 -->\n",
       "<g id=\"edge34\" class=\"edge\">\n",
       "<title>0,3.1,0,0&#45;&gt;0,2.1,1,0</title>\n",
       "<path fill=\"none\" stroke=\"black\" d=\"M559.4,-608.74C559.4,-591.57 559.4,-564.46 559.4,-541 559.4,-541 559.4,-541 559.4,-278 559.4,-256.92 550.08,-234.97 541.06,-218.65\"/>\n",
       "<polygon fill=\"black\" stroke=\"black\" points=\"543.93,-216.61 535.86,-209.75 537.88,-220.15 543.93,-216.61\"/>\n",
       "<text text-anchor=\"middle\" x=\"588.9\" y=\"-405.8\" font-family=\"Times,serif\" font-size=\"14.00\">0.01156</text>\n",
       "</g>\n",
       "<!-- 0,2.2,0,1 -->\n",
       "<g id=\"node16\" class=\"node\">\n",
       "<title>0,2.2,0,1</title>\n",
       "<ellipse fill=\"none\" stroke=\"black\" cx=\"908.4\" cy=\"-1062\" rx=\"51.99\" ry=\"18\"/>\n",
       "<text text-anchor=\"middle\" x=\"908.4\" y=\"-1058.3\" font-family=\"Times,serif\" font-size=\"14.00\">0,2.2,0,1</text>\n",
       "</g>\n",
       "<!-- 0,3.1,0,0&#45;&gt;0,2.2,0,1 -->\n",
       "<g id=\"edge36\" class=\"edge\">\n",
       "<title>0,3.1,0,0&#45;&gt;0,2.2,0,1</title>\n",
       "<path fill=\"none\" stroke=\"black\" d=\"M554.81,-645.19C541.73,-698.44 510.54,-861.68 596.4,-939 617.14,-957.68 782.18,-1016.93 863.47,-1045.42\"/>\n",
       "<polygon fill=\"black\" stroke=\"black\" points=\"862.36,-1048.74 872.96,-1048.73 864.67,-1042.13 862.36,-1048.74\"/>\n",
       "<text text-anchor=\"middle\" x=\"576.9\" y=\"-840.8\" font-family=\"Times,serif\" font-size=\"14.00\">0.00111</text>\n",
       "</g>\n",
       "<!-- 0,2.2,1,0 -->\n",
       "<g id=\"node17\" class=\"node\">\n",
       "<title>0,2.2,1,0</title>\n",
       "<ellipse fill=\"none\" stroke=\"black\" cx=\"1069.4\" cy=\"-540\" rx=\"51.99\" ry=\"18\"/>\n",
       "<text text-anchor=\"middle\" x=\"1069.4\" y=\"-536.3\" font-family=\"Times,serif\" font-size=\"14.00\">0,2.2,1,0</text>\n",
       "</g>\n",
       "<!-- 0,3.1,0,0&#45;&gt;0,2.2,1,0 -->\n",
       "<g id=\"edge37\" class=\"edge\">\n",
       "<title>0,3.1,0,0&#45;&gt;0,2.2,1,0</title>\n",
       "<path fill=\"none\" stroke=\"black\" d=\"M608.73,-621.14C664.64,-615.33 758.4,-604.65 838.4,-591 900.77,-580.36 971.8,-564.4 1018.44,-553.39\"/>\n",
       "<polygon fill=\"black\" stroke=\"black\" points=\"1019.38,-556.76 1028.3,-551.05 1017.77,-549.95 1019.38,-556.76\"/>\n",
       "<text text-anchor=\"middle\" x=\"944.9\" y=\"-579.8\" font-family=\"Times,serif\" font-size=\"14.00\">0.00289</text>\n",
       "</g>\n",
       "<!-- 1,1.1,0,1&#45;&gt;1,2.1,0,0 -->\n",
       "<g id=\"edge42\" class=\"edge\">\n",
       "<title>1,1.1,0,1&#45;&gt;1,2.1,0,0</title>\n",
       "<path fill=\"none\" stroke=\"black\" d=\"M1379.53,-1340.73C1363.63,-1363.65 1335.25,-1406.51 1316.4,-1446 1295.7,-1489.39 1305.74,-1507.14 1280.4,-1548 1277.97,-1551.91 1275.05,-1555.74 1271.94,-1559.35\"/>\n",
       "<polygon fill=\"black\" stroke=\"black\" points=\"1269.23,-1557.12 1264.97,-1566.82 1274.35,-1561.89 1269.23,-1557.12\"/>\n",
       "<text text-anchor=\"middle\" x=\"1345.9\" y=\"-1449.8\" font-family=\"Times,serif\" font-size=\"14.00\">0.00556</text>\n",
       "</g>\n",
       "<!-- 1,1.1,0,1&#45;&gt;2,0,0,1 -->\n",
       "<g id=\"edge43\" class=\"edge\">\n",
       "<title>1,1.1,0,1&#45;&gt;2,0,0,1</title>\n",
       "<path fill=\"none\" stroke=\"black\" d=\"M1442.51,-1326.62C1470.1,-1330.44 1503.17,-1339.23 1526.4,-1359 1533.46,-1365.01 1538.34,-1373.72 1541.67,-1382.19\"/>\n",
       "<polygon fill=\"black\" stroke=\"black\" points=\"1538.41,-1383.48 1544.91,-1391.85 1545.05,-1381.26 1538.41,-1383.48\"/>\n",
       "<text text-anchor=\"middle\" x=\"1566.9\" y=\"-1362.8\" font-family=\"Times,serif\" font-size=\"14.00\">0.00089</text>\n",
       "</g>\n",
       "<!-- 1,1.1,0,1&#45;&gt;0,2.1,0,1 -->\n",
       "<g id=\"edge39\" class=\"edge\">\n",
       "<title>1,1.1,0,1&#45;&gt;0,2.1,0,1</title>\n",
       "<path fill=\"none\" stroke=\"black\" d=\"M1392.76,-1304.88C1394.71,-1269.46 1394.81,-1186.78 1359.4,-1131 1351.87,-1119.13 1341.72,-1124.33 1333.4,-1113 1263.42,-1017.64 1289.83,-969.98 1281.4,-852 1280.93,-845.35 1279.76,-843.46 1281.4,-837 1290.34,-801.72 1311.46,-800.28 1320.4,-765 1322.04,-758.54 1324.93,-754.89 1320.4,-750 1294.48,-722 1048.53,-716.34 930.72,-715.24\"/>\n",
       "<polygon fill=\"black\" stroke=\"black\" points=\"930.44,-711.73 920.41,-715.15 930.38,-718.73 930.44,-711.73\"/>\n",
       "<text text-anchor=\"middle\" x=\"1315.4\" y=\"-1014.8\" font-family=\"Times,serif\" font-size=\"14.00\">0.0002</text>\n",
       "</g>\n",
       "<!-- 1,0,0,2 -->\n",
       "<g id=\"node18\" class=\"node\">\n",
       "<title>1,0,0,2</title>\n",
       "<ellipse fill=\"none\" stroke=\"black\" cx=\"1396.4\" cy=\"-714\" rx=\"42.79\" ry=\"18\"/>\n",
       "<text text-anchor=\"middle\" x=\"1396.4\" y=\"-710.3\" font-family=\"Times,serif\" font-size=\"14.00\">1,0,0,2</text>\n",
       "</g>\n",
       "<!-- 1,1.1,0,1&#45;&gt;1,0,0,2 -->\n",
       "<g id=\"edge40\" class=\"edge\">\n",
       "<title>1,1.1,0,1&#45;&gt;1,0,0,2</title>\n",
       "<path fill=\"none\" stroke=\"black\" d=\"M1418.59,-1307.33C1441.44,-1292.8 1470.4,-1268.23 1470.4,-1237 1470.4,-1237 1470.4,-1237 1470.4,-1104.5 1470.4,-961.51 1507.21,-923.82 1482.4,-783 1479.69,-767.63 1480.91,-761.54 1470.4,-750 1462.18,-740.97 1451.13,-734.06 1440.09,-728.86\"/>\n",
       "<polygon fill=\"black\" stroke=\"black\" points=\"1441.45,-725.64 1430.88,-724.89 1438.68,-732.06 1441.45,-725.64\"/>\n",
       "<text text-anchor=\"middle\" x=\"1505.9\" y=\"-1014.8\" font-family=\"Times,serif\" font-size=\"14.00\">0.00556</text>\n",
       "</g>\n",
       "<!-- 1,0,1,1 -->\n",
       "<g id=\"node19\" class=\"node\">\n",
       "<title>1,0,1,1</title>\n",
       "<ellipse fill=\"none\" stroke=\"black\" cx=\"581.4\" cy=\"-1236\" rx=\"42.79\" ry=\"18\"/>\n",
       "<text text-anchor=\"middle\" x=\"581.4\" y=\"-1232.3\" font-family=\"Times,serif\" font-size=\"14.00\">1,0,1,1</text>\n",
       "</g>\n",
       "<!-- 1,1.1,0,1&#45;&gt;1,0,1,1 -->\n",
       "<g id=\"edge41\" class=\"edge\">\n",
       "<title>1,1.1,0,1&#45;&gt;1,0,1,1</title>\n",
       "<path fill=\"none\" stroke=\"black\" d=\"M1347.02,-1313.58C1286.84,-1302.46 1175.88,-1283 1080.4,-1272 918.2,-1253.31 725.11,-1243.2 633.98,-1239.14\"/>\n",
       "<polygon fill=\"black\" stroke=\"black\" points=\"634.05,-1235.64 623.91,-1238.7 633.74,-1242.63 634.05,-1235.64\"/>\n",
       "<text text-anchor=\"middle\" x=\"1212.9\" y=\"-1275.8\" font-family=\"Times,serif\" font-size=\"14.00\">0.01444</text>\n",
       "</g>\n",
       "<!-- 1,1.1,1,0&#45;&gt;1,2.1,0,0 -->\n",
       "<g id=\"edge47\" class=\"edge\">\n",
       "<title>1,1.1,1,0&#45;&gt;1,2.1,0,0</title>\n",
       "<path fill=\"none\" stroke=\"black\" d=\"M1243.16,-1656.6C1251.96,-1651.24 1260.44,-1644.13 1265.4,-1635 1269.54,-1627.38 1268.13,-1618.66 1264.67,-1610.66\"/>\n",
       "<polygon fill=\"black\" stroke=\"black\" points=\"1267.68,-1608.86 1259.87,-1601.71 1261.51,-1612.17 1267.68,-1608.86\"/>\n",
       "<text text-anchor=\"middle\" x=\"1288.9\" y=\"-1623.8\" font-family=\"Times,serif\" font-size=\"14.00\">0.025</text>\n",
       "</g>\n",
       "<!-- 1,1.1,1,0&#45;&gt;2,0,1,0 -->\n",
       "<g id=\"edge48\" class=\"edge\">\n",
       "<title>1,1.1,1,0&#45;&gt;2,0,1,0</title>\n",
       "<path fill=\"none\" stroke=\"black\" d=\"M1234.48,-1687.35C1267.98,-1709.17 1332.52,-1749.42 1391.4,-1776 1579.05,-1860.7 1822.22,-1906.63 1925.49,-1923.45\"/>\n",
       "<polygon fill=\"black\" stroke=\"black\" points=\"1925.2,-1926.95 1935.63,-1925.08 1926.31,-1920.04 1925.2,-1926.95\"/>\n",
       "<text text-anchor=\"middle\" x=\"1496.9\" y=\"-1797.8\" font-family=\"Times,serif\" font-size=\"14.00\">0.00089</text>\n",
       "</g>\n",
       "<!-- 1,1.1,1,0&#45;&gt;0,2.1,1,0 -->\n",
       "<g id=\"edge44\" class=\"edge\">\n",
       "<title>1,1.1,1,0&#45;&gt;0,2.1,1,0</title>\n",
       "<path fill=\"none\" stroke=\"black\" d=\"M1159.21,-1669.99C978.02,-1669.69 382.89,-1666.3 303.4,-1635 259.71,-1617.8 264.35,-1588.98 223.4,-1566 200.6,-1553.21 186.23,-1566.13 167.4,-1548 135.55,-1517.33 133.4,-1498.72 133.4,-1454.5 133.4,-1454.5 133.4,-1454.5 133.4,-974 133.4,-958.39 131.07,-954.6 130.4,-939 127.9,-880.63 116.44,-817.08 134.4,-783 195.65,-666.76 262.84,-680 373.4,-609 387.13,-600.18 395.32,-603.83 405.4,-591 419.65,-572.85 419.4,-564.08 419.4,-541 419.4,-541 419.4,-541 419.4,-278 419.4,-245.23 450.67,-222.92 479.08,-209.4\"/>\n",
       "<polygon fill=\"black\" stroke=\"black\" points=\"480.87,-212.44 488.56,-205.15 478,-206.05 480.87,-212.44\"/>\n",
       "<text text-anchor=\"middle\" x=\"155.4\" y=\"-927.8\" font-family=\"Times,serif\" font-size=\"14.00\">0.0002</text>\n",
       "</g>\n",
       "<!-- 1,1.1,1,0&#45;&gt;1,0,1,1 -->\n",
       "<g id=\"edge45\" class=\"edge\">\n",
       "<title>1,1.1,1,0&#45;&gt;1,0,1,1</title>\n",
       "<path fill=\"none\" stroke=\"black\" d=\"M1159.35,-1669.83C984.25,-1668.59 427.4,-1658.85 427.4,-1585 427.4,-1585 427.4,-1585 427.4,-1322 427.4,-1273.88 485.75,-1252.79 530.62,-1243.69\"/>\n",
       "<polygon fill=\"black\" stroke=\"black\" points=\"531.36,-1247.11 540.54,-1241.83 530.06,-1240.24 531.36,-1247.11\"/>\n",
       "<text text-anchor=\"middle\" x=\"456.9\" y=\"-1449.8\" font-family=\"Times,serif\" font-size=\"14.00\">0.00556</text>\n",
       "</g>\n",
       "<!-- 1,0,2,0 -->\n",
       "<g id=\"node20\" class=\"node\">\n",
       "<title>1,0,2,0</title>\n",
       "<ellipse fill=\"none\" stroke=\"black\" cx=\"1846.4\" cy=\"-1758\" rx=\"42.79\" ry=\"18\"/>\n",
       "<text text-anchor=\"middle\" x=\"1846.4\" y=\"-1754.3\" font-family=\"Times,serif\" font-size=\"14.00\">1,0,2,0</text>\n",
       "</g>\n",
       "<!-- 1,1.1,1,0&#45;&gt;1,0,2,0 -->\n",
       "<g id=\"edge46\" class=\"edge\">\n",
       "<title>1,1.1,1,0&#45;&gt;1,0,2,0</title>\n",
       "<path fill=\"none\" stroke=\"black\" d=\"M1250.33,-1683.08C1292.4,-1694.63 1361.61,-1712.34 1422.4,-1722 1554.87,-1743.04 1712.76,-1751.84 1793.34,-1755.18\"/>\n",
       "<polygon fill=\"black\" stroke=\"black\" points=\"1793.59,-1758.69 1803.72,-1755.6 1793.87,-1751.7 1793.59,-1758.69\"/>\n",
       "<text text-anchor=\"middle\" x=\"1451.9\" y=\"-1710.8\" font-family=\"Times,serif\" font-size=\"14.00\">0.01444</text>\n",
       "</g>\n",
       "<!-- 1,1.2,0,1&#45;&gt;2,0,0,1 -->\n",
       "<g id=\"edge51\" class=\"edge\">\n",
       "<title>1,1.2,0,1&#45;&gt;2,0,0,1</title>\n",
       "<path fill=\"none\" stroke=\"black\" d=\"M1258.46,-1496.26C1337.46,-1495.67 1482.82,-1490.46 1524.4,-1461 1532.28,-1455.42 1537.67,-1446.54 1541.31,-1437.8\"/>\n",
       "<polygon fill=\"black\" stroke=\"black\" points=\"1544.68,-1438.77 1544.71,-1428.18 1538.08,-1436.44 1544.68,-1438.77\"/>\n",
       "<text text-anchor=\"middle\" x=\"1566.9\" y=\"-1449.8\" font-family=\"Times,serif\" font-size=\"14.00\">0.00018</text>\n",
       "</g>\n",
       "<!-- 1,1.2,0,1&#45;&gt;1,2.2,0,0 -->\n",
       "<g id=\"edge53\" class=\"edge\">\n",
       "<title>1,1.2,0,1&#45;&gt;1,2.2,0,0</title>\n",
       "<path fill=\"none\" stroke=\"black\" d=\"M1225.02,-1479.84C1230.95,-1474.21 1237.29,-1467.63 1242.4,-1461 1290.99,-1397.95 1285.79,-1370.93 1330.4,-1305 1391.7,-1214.4 1420.85,-1202.04 1484.4,-1113 1510.98,-1075.77 1526.68,-1069.94 1539.4,-1026 1552.38,-981.17 1503.61,-969.41 1514.4,-924 1518.78,-905.55 1669.13,-622.67 1676.4,-609 1719.57,-527.79 1721.5,-498.11 1788.4,-435 1809,-415.57 1835.88,-398.4 1857.42,-386.17\"/>\n",
       "<polygon fill=\"black\" stroke=\"black\" points=\"1859.25,-389.16 1866.29,-381.24 1855.85,-383.04 1859.25,-389.16\"/>\n",
       "<text text-anchor=\"middle\" x=\"1543.9\" y=\"-927.8\" font-family=\"Times,serif\" font-size=\"14.00\">0.00556</text>\n",
       "</g>\n",
       "<!-- 1,1.2,0,1&#45;&gt;0,2.2,0,1 -->\n",
       "<g id=\"edge52\" class=\"edge\">\n",
       "<title>1,1.2,0,1&#45;&gt;0,2.2,0,1</title>\n",
       "<path fill=\"none\" stroke=\"black\" d=\"M1155.3,-1493.14C1102.09,-1487.08 1026.4,-1468.37 1026.4,-1411 1026.4,-1411 1026.4,-1411 1026.4,-1148 1026.4,-1112.15 990.1,-1089.92 957.77,-1077.23\"/>\n",
       "<polygon fill=\"black\" stroke=\"black\" points=\"958.94,-1073.93 948.35,-1073.75 956.52,-1080.5 958.94,-1073.93\"/>\n",
       "<text text-anchor=\"middle\" x=\"1051.4\" y=\"-1275.8\" font-family=\"Times,serif\" font-size=\"14.00\">0.0002</text>\n",
       "</g>\n",
       "<!-- 1,1.2,0,1&#45;&gt;1,0,0,2 -->\n",
       "<g id=\"edge49\" class=\"edge\">\n",
       "<title>1,1.2,0,1&#45;&gt;1,0,0,2</title>\n",
       "<path fill=\"none\" stroke=\"black\" d=\"M1216.22,-1479.04C1224.97,-1462.31 1236.4,-1435.73 1236.4,-1411 1236.4,-1411 1236.4,-1411 1236.4,-1278.5 1236.4,-1236.18 1237.6,-1223.84 1254.4,-1185 1277.28,-1132.13 1299.33,-1128.51 1330.4,-1080 1354.34,-1042.63 1364.37,-1034.76 1379.4,-993 1414.26,-896.12 1411.25,-867.55 1420.4,-765 1420.99,-758.36 1422.37,-756.37 1420.4,-750 1419.34,-746.59 1417.83,-743.22 1416.06,-739.99\"/>\n",
       "<polygon fill=\"black\" stroke=\"black\" points=\"1418.91,-737.94 1410.61,-731.36 1412.99,-741.68 1418.91,-737.94\"/>\n",
       "<text text-anchor=\"middle\" x=\"1347.9\" y=\"-1101.8\" font-family=\"Times,serif\" font-size=\"14.00\">0.00111</text>\n",
       "</g>\n",
       "<!-- 1,1.2,0,1&#45;&gt;1,0,1,1 -->\n",
       "<g id=\"edge50\" class=\"edge\">\n",
       "<title>1,1.2,0,1&#45;&gt;1,0,1,1</title>\n",
       "<path fill=\"none\" stroke=\"black\" d=\"M1154.94,-1493.97C1078.69,-1490.34 939.8,-1481.14 894.4,-1461 778.41,-1409.54 789.78,-1336.33 680.4,-1272 663.98,-1262.34 644.47,-1254.74 627.13,-1249.12\"/>\n",
       "<polygon fill=\"black\" stroke=\"black\" points=\"627.8,-1245.66 617.21,-1246.04 625.72,-1252.35 627.8,-1245.66\"/>\n",
       "<text text-anchor=\"middle\" x=\"815.9\" y=\"-1362.8\" font-family=\"Times,serif\" font-size=\"14.00\">0.00289</text>\n",
       "</g>\n",
       "<!-- 1,1.2,1,0&#45;&gt;2,0,1,0 -->\n",
       "<g id=\"edge56\" class=\"edge\">\n",
       "<title>1,1.2,1,0&#45;&gt;2,0,1,0</title>\n",
       "<path fill=\"none\" stroke=\"black\" d=\"M1890.02,-1863.09C1887.31,-1873.43 1886.04,-1886.42 1892.4,-1896 1900.33,-1907.95 1913.24,-1915.83 1926.53,-1921.03\"/>\n",
       "<polygon fill=\"black\" stroke=\"black\" points=\"1925.62,-1924.41 1936.22,-1924.35 1927.9,-1917.79 1925.62,-1924.41\"/>\n",
       "<text text-anchor=\"middle\" x=\"1921.9\" y=\"-1884.8\" font-family=\"Times,serif\" font-size=\"14.00\">0.00018</text>\n",
       "</g>\n",
       "<!-- 1,1.2,1,0&#45;&gt;1,2.2,0,0 -->\n",
       "<g id=\"edge58\" class=\"edge\">\n",
       "<title>1,1.2,1,0&#45;&gt;1,2.2,0,0</title>\n",
       "<path fill=\"none\" stroke=\"black\" d=\"M1947.69,-1842.03C2026.26,-1835.97 2167.4,-1811.7 2167.4,-1715.5 2167.4,-1715.5 2167.4,-1715.5 2167.4,-1278.5 2167.4,-1236.93 2167.57,-1226.51 2165.4,-1185 2163.72,-1152.93 2160.73,-1145.08 2159.4,-1113 2159.12,-1106.34 2159.26,-1104.67 2159.4,-1098 2160.21,-1059.32 2169.51,-1049.03 2162.4,-1011 2109.05,-725.67 2079.4,-648.68 1926.4,-402 1923.99,-398.12 1921.12,-394.27 1918.11,-390.63\"/>\n",
       "<polygon fill=\"black\" stroke=\"black\" points=\"1920.65,-388.22 1911.39,-383.05 1915.41,-392.86 1920.65,-388.22\"/>\n",
       "<text text-anchor=\"middle\" x=\"2179.9\" y=\"-1101.8\" font-family=\"Times,serif\" font-size=\"14.00\">0.025</text>\n",
       "</g>\n",
       "<!-- 1,1.2,1,0&#45;&gt;0,2.2,1,0 -->\n",
       "<g id=\"edge57\" class=\"edge\">\n",
       "<title>1,1.2,1,0&#45;&gt;0,2.2,1,0</title>\n",
       "<path fill=\"none\" stroke=\"black\" d=\"M1940.44,-1835.22C1995.54,-1821.61 2087.6,-1789.6 2128.4,-1722 2149.88,-1686.42 2129.4,-1670.06 2129.4,-1628.5 2129.4,-1628.5 2129.4,-1628.5 2129.4,-1452.5 2129.4,-1361.27 2115.83,-1131.01 2088.4,-1044 2084.44,-1031.43 1980.05,-847.74 1972.4,-837 1962.56,-823.19 1784.06,-617.52 1769.4,-609 1661.83,-546.47 1281.83,-540.4 1131.39,-540.53\"/>\n",
       "<polygon fill=\"black\" stroke=\"black\" points=\"1131.38,-537.03 1121.39,-540.55 1131.4,-544.03 1131.38,-537.03\"/>\n",
       "<text text-anchor=\"middle\" x=\"2140.4\" y=\"-1188.8\" font-family=\"Times,serif\" font-size=\"14.00\">0.0002</text>\n",
       "</g>\n",
       "<!-- 1,1.2,1,0&#45;&gt;1,0,1,1 -->\n",
       "<g id=\"edge54\" class=\"edge\">\n",
       "<title>1,1.2,1,0&#45;&gt;1,0,1,1</title>\n",
       "<path fill=\"none\" stroke=\"black\" d=\"M1855.16,-1833.76C1839.52,-1828.34 1822.37,-1820.38 1809.4,-1809 1776.04,-1779.73 1775.95,-1763.57 1760.4,-1722 1721.77,-1618.73 1760.58,-1577.18 1710.4,-1479 1677.48,-1414.57 1660.55,-1399.21 1600.4,-1359 1439.86,-1251.66 820.54,-1238.63 634.53,-1237.15\"/>\n",
       "<polygon fill=\"black\" stroke=\"black\" points=\"634.47,-1233.65 624.45,-1237.08 634.42,-1240.65 634.47,-1233.65\"/>\n",
       "<text text-anchor=\"middle\" x=\"1764.9\" y=\"-1536.8\" font-family=\"Times,serif\" font-size=\"14.00\">0.00111</text>\n",
       "</g>\n",
       "<!-- 1,1.2,1,0&#45;&gt;1,0,2,0 -->\n",
       "<g id=\"edge55\" class=\"edge\">\n",
       "<title>1,1.2,1,0&#45;&gt;1,0,2,0</title>\n",
       "<path fill=\"none\" stroke=\"black\" d=\"M1852.62,-1835.26C1838.3,-1830.1 1823.9,-1821.93 1815.4,-1809 1809.65,-1800.24 1813.48,-1790.48 1820.15,-1781.91\"/>\n",
       "<polygon fill=\"black\" stroke=\"black\" points=\"1822.78,-1784.22 1826.87,-1774.45 1817.57,-1779.54 1822.78,-1784.22\"/>\n",
       "<text text-anchor=\"middle\" x=\"1844.9\" y=\"-1797.8\" font-family=\"Times,serif\" font-size=\"14.00\">0.00289</text>\n",
       "</g>\n",
       "<!-- 0,3.2,0,0&#45;&gt;1,2.1,0,0 -->\n",
       "<g id=\"edge61\" class=\"edge\">\n",
       "<title>0,3.2,0,0&#45;&gt;1,2.1,0,0</title>\n",
       "<path fill=\"none\" stroke=\"black\" d=\"M1522.94,-462.33C1579.21,-475.5 1673.72,-507.1 1715.4,-576 1743.14,-621.86 1708.34,-642.63 1703.4,-696 1697.61,-758.56 1695.62,-774.22 1693.4,-837 1693.16,-843.66 1692.84,-845.36 1693.4,-852 1698.2,-908.72 1736.4,-1047.58 1736.4,-1104.5 1736.4,-1280.5 1736.4,-1280.5 1736.4,-1280.5 1736.4,-1323.52 1729.85,-1335.14 1711.4,-1374 1707.17,-1382.91 1703.2,-1383.38 1698.4,-1392 1661.99,-1457.5 1694.7,-1503.5 1634.4,-1548 1608.78,-1566.9 1410.97,-1576.93 1308.11,-1580.92\"/>\n",
       "<polygon fill=\"black\" stroke=\"black\" points=\"1307.71,-1577.43 1297.85,-1581.31 1307.98,-1584.42 1307.71,-1577.43\"/>\n",
       "<text text-anchor=\"middle\" x=\"1755.9\" y=\"-1014.8\" font-family=\"Times,serif\" font-size=\"14.00\">0.00014</text>\n",
       "</g>\n",
       "<!-- 0,3.2,0,0&#45;&gt;1,2.2,0,0 -->\n",
       "<g id=\"edge64\" class=\"edge\">\n",
       "<title>0,3.2,0,0&#45;&gt;1,2.2,0,0</title>\n",
       "<path fill=\"none\" stroke=\"black\" d=\"M1511.13,-438.84C1527.21,-432.34 1546.85,-424.33 1564.4,-417 1580.02,-410.48 1583.05,-406.38 1599.4,-402 1678.29,-380.89 1772.44,-372.5 1832.8,-369.18\"/>\n",
       "<polygon fill=\"black\" stroke=\"black\" points=\"1833.13,-372.67 1842.93,-368.65 1832.76,-365.67 1833.13,-372.67\"/>\n",
       "<text text-anchor=\"middle\" x=\"1619.4\" y=\"-405.8\" font-family=\"Times,serif\" font-size=\"14.00\">4e&#45;05</text>\n",
       "</g>\n",
       "<!-- 0,3.2,0,0&#45;&gt;0,2.1,0,1 -->\n",
       "<g id=\"edge59\" class=\"edge\">\n",
       "<title>0,3.2,0,0&#45;&gt;0,2.1,0,1</title>\n",
       "<path fill=\"none\" stroke=\"black\" d=\"M1460.94,-469.97C1448.61,-480.65 1431.34,-494.43 1414.4,-504 1242.47,-601.16 1016.49,-671.36 917.93,-699.46\"/>\n",
       "<polygon fill=\"black\" stroke=\"black\" points=\"916.91,-696.11 908.24,-702.2 918.81,-702.84 916.91,-696.11\"/>\n",
       "<text text-anchor=\"middle\" x=\"1294.9\" y=\"-579.8\" font-family=\"Times,serif\" font-size=\"14.00\">0.00089</text>\n",
       "</g>\n",
       "<!-- 0,3.2,0,0&#45;&gt;0,2.1,1,0 -->\n",
       "<g id=\"edge60\" class=\"edge\">\n",
       "<title>0,3.2,0,0&#45;&gt;0,2.1,1,0</title>\n",
       "<path fill=\"none\" stroke=\"black\" d=\"M1456.77,-436.62C1394.04,-393.1 1205.12,-269.52 1026.4,-228 944.41,-208.96 701.45,-198.75 586.29,-194.87\"/>\n",
       "<polygon fill=\"black\" stroke=\"black\" points=\"586.33,-191.37 576.22,-194.53 586.1,-198.36 586.33,-191.37\"/>\n",
       "<text text-anchor=\"middle\" x=\"1309.9\" y=\"-318.8\" font-family=\"Times,serif\" font-size=\"14.00\">0.00231</text>\n",
       "</g>\n",
       "<!-- 0,3.2,0,0&#45;&gt;0,2.2,0,1 -->\n",
       "<g id=\"edge62\" class=\"edge\">\n",
       "<title>0,3.2,0,0&#45;&gt;0,2.2,0,1</title>\n",
       "<path fill=\"none\" stroke=\"black\" d=\"M1465.77,-470.69C1458.39,-480.43 1448.89,-492.93 1440.4,-504 1351.13,-620.39 1335.34,-654.92 1238.4,-765 1223.45,-781.98 1181.21,-819.89 1166.4,-837 1134.81,-873.49 1128.12,-883.8 1101.4,-924 1072.28,-967.8 1083.33,-994.25 1041.4,-1026 1020.49,-1041.84 993.03,-1050.53 968.5,-1055.29\"/>\n",
       "<polygon fill=\"black\" stroke=\"black\" points=\"967.79,-1051.86 958.55,-1057.04 969,-1058.75 967.79,-1051.86\"/>\n",
       "<text text-anchor=\"middle\" x=\"1280.9\" y=\"-753.8\" font-family=\"Times,serif\" font-size=\"14.00\">0.00022</text>\n",
       "</g>\n",
       "<!-- 0,3.2,0,0&#45;&gt;0,2.2,1,0 -->\n",
       "<g id=\"edge63\" class=\"edge\">\n",
       "<title>0,3.2,0,0&#45;&gt;0,2.2,1,0</title>\n",
       "<path fill=\"none\" stroke=\"black\" d=\"M1431.96,-461.13C1393.92,-467.34 1338.84,-477.19 1291.4,-489 1269.71,-494.4 1265.05,-498.46 1243.4,-504 1204.14,-514.05 1159.3,-523.01 1124.97,-529.35\"/>\n",
       "<polygon fill=\"black\" stroke=\"black\" points=\"1124.33,-525.91 1115.12,-531.15 1125.59,-532.8 1124.33,-525.91\"/>\n",
       "<text text-anchor=\"middle\" x=\"1320.9\" y=\"-492.8\" font-family=\"Times,serif\" font-size=\"14.00\">0.00058</text>\n",
       "</g>\n",
       "<!-- 0,2.1,0,1&#45;&gt;0,3.1,0,0 -->\n",
       "<g id=\"edge67\" class=\"edge\">\n",
       "<title>0,2.1,0,1&#45;&gt;0,3.1,0,0</title>\n",
       "<path fill=\"none\" stroke=\"black\" d=\"M827.77,-702.73C818.16,-700.42 807.94,-698.04 798.4,-696 755.52,-686.82 742.11,-694.29 701.4,-678 690.07,-673.47 689.48,-668.11 678.4,-663 657.38,-653.31 633.04,-645.59 611.86,-639.89\"/>\n",
       "<polygon fill=\"black\" stroke=\"black\" points=\"612.63,-636.47 602.07,-637.33 610.86,-643.24 612.63,-636.47\"/>\n",
       "<text text-anchor=\"middle\" x=\"730.9\" y=\"-666.8\" font-family=\"Times,serif\" font-size=\"14.00\">0.00556</text>\n",
       "</g>\n",
       "<!-- 0,2.1,0,1&#45;&gt;1,1.1,0,1 -->\n",
       "<g id=\"edge68\" class=\"edge\">\n",
       "<title>0,2.1,0,1&#45;&gt;1,1.1,0,1</title>\n",
       "<path fill=\"none\" stroke=\"black\" d=\"M920.1,-716.5C1011.57,-719.69 1194.13,-728.67 1213.4,-750 1241.81,-781.44 1184.81,-795.92 1174.4,-837 1153.05,-921.23 1185.02,-948.55 1224.4,-1026 1242.78,-1062.14 1257.8,-1064.34 1280.4,-1098 1305.26,-1135.02 1310.19,-1145.24 1330.4,-1185 1349.52,-1222.62 1368.89,-1267.53 1380.52,-1295.41\"/>\n",
       "<polygon fill=\"black\" stroke=\"black\" points=\"1377.38,-1296.97 1384.44,-1304.86 1383.84,-1294.29 1377.38,-1296.97\"/>\n",
       "<text text-anchor=\"middle\" x=\"1253.9\" y=\"-1014.8\" font-family=\"Times,serif\" font-size=\"14.00\">0.00071</text>\n",
       "</g>\n",
       "<!-- 0,2.1,0,1&#45;&gt;1,1.2,0,1 -->\n",
       "<g id=\"edge71\" class=\"edge\">\n",
       "<title>0,2.1,0,1&#45;&gt;1,1.2,0,1</title>\n",
       "<path fill=\"none\" stroke=\"black\" d=\"M919.14,-718.46C950.05,-722.5 989.25,-731.22 1019.4,-750 1061.76,-776.39 1070.73,-791.13 1090.4,-837 1167.74,-1017.34 1091.4,-1082.28 1091.4,-1278.5 1091.4,-1411 1091.4,-1411 1091.4,-1411 1091.4,-1446.1 1126.47,-1468.35 1157.88,-1481.25\"/>\n",
       "<polygon fill=\"black\" stroke=\"black\" points=\"1156.88,-1484.61 1167.47,-1484.95 1159.4,-1478.08 1156.88,-1484.61\"/>\n",
       "<text text-anchor=\"middle\" x=\"1141.9\" y=\"-1101.8\" font-family=\"Times,serif\" font-size=\"14.00\">0.00018</text>\n",
       "</g>\n",
       "<!-- 0,1.1,0,2 -->\n",
       "<g id=\"node21\" class=\"node\">\n",
       "<title>0,1.1,0,2</title>\n",
       "<ellipse fill=\"none\" stroke=\"black\" cx=\"807.4\" cy=\"-801\" rx=\"51.99\" ry=\"18\"/>\n",
       "<text text-anchor=\"middle\" x=\"807.4\" y=\"-797.3\" font-family=\"Times,serif\" font-size=\"14.00\">0,1.1,0,2</text>\n",
       "</g>\n",
       "<!-- 0,2.1,0,1&#45;&gt;0,1.1,0,2 -->\n",
       "<g id=\"edge65\" class=\"edge\">\n",
       "<title>0,2.1,0,1&#45;&gt;0,1.1,0,2</title>\n",
       "<path fill=\"none\" stroke=\"black\" d=\"M872.07,-732.34C873.29,-742.53 873.12,-755.27 867.4,-765 863.36,-771.87 857.41,-777.53 850.8,-782.14\"/>\n",
       "<polygon fill=\"black\" stroke=\"black\" points=\"848.87,-779.22 842.17,-787.43 852.53,-785.19 848.87,-779.22\"/>\n",
       "<text text-anchor=\"middle\" x=\"901.9\" y=\"-753.8\" font-family=\"Times,serif\" font-size=\"14.00\">0.00444</text>\n",
       "</g>\n",
       "<!-- 0,1.1,1,1 -->\n",
       "<g id=\"node22\" class=\"node\">\n",
       "<title>0,1.1,1,1</title>\n",
       "<ellipse fill=\"none\" stroke=\"black\" cx=\"648.4\" cy=\"-105\" rx=\"51.99\" ry=\"18\"/>\n",
       "<text text-anchor=\"middle\" x=\"648.4\" y=\"-101.3\" font-family=\"Times,serif\" font-size=\"14.00\">0,1.1,1,1</text>\n",
       "</g>\n",
       "<!-- 0,2.1,0,1&#45;&gt;0,1.1,1,1 -->\n",
       "<g id=\"edge66\" class=\"edge\">\n",
       "<title>0,2.1,0,1&#45;&gt;0,1.1,1,1</title>\n",
       "<path fill=\"none\" stroke=\"black\" d=\"M826.66,-703.02C812.67,-697.74 798.16,-689.8 788.4,-678 733.5,-611.62 770.14,-571.52 745.4,-489 735.59,-456.26 724.5,-450.63 718.4,-417 717.21,-410.44 718.27,-408.67 718.4,-402 719.07,-367.09 721.4,-358.41 721.4,-323.5 721.4,-323.5 721.4,-323.5 721.4,-191 721.4,-166.35 713.26,-159.87 697.4,-141 693.02,-135.78 687.69,-130.96 682.18,-126.66\"/>\n",
       "<polygon fill=\"black\" stroke=\"black\" points=\"684.22,-123.81 674.08,-120.75 680.1,-129.47 684.22,-123.81\"/>\n",
       "<text text-anchor=\"middle\" x=\"747.9\" y=\"-405.8\" font-family=\"Times,serif\" font-size=\"14.00\">0.01156</text>\n",
       "</g>\n",
       "<!-- 0,1.2,0,2 -->\n",
       "<g id=\"node23\" class=\"node\">\n",
       "<title>0,1.2,0,2</title>\n",
       "<ellipse fill=\"none\" stroke=\"black\" cx=\"990.4\" cy=\"-975\" rx=\"51.99\" ry=\"18\"/>\n",
       "<text text-anchor=\"middle\" x=\"990.4\" y=\"-971.3\" font-family=\"Times,serif\" font-size=\"14.00\">0,1.2,0,2</text>\n",
       "</g>\n",
       "<!-- 0,2.1,0,1&#45;&gt;0,1.2,0,2 -->\n",
       "<g id=\"edge69\" class=\"edge\">\n",
       "<title>0,2.1,0,1&#45;&gt;0,1.2,0,2</title>\n",
       "<path fill=\"none\" stroke=\"black\" d=\"M920.29,-716.01C947.6,-719.35 979.47,-728.19 999.4,-750 1049.17,-804.48 1020.29,-901.12 1001.95,-947.6\"/>\n",
       "<polygon fill=\"black\" stroke=\"black\" points=\"998.66,-946.4 998.12,-956.98 1005.14,-949.04 998.66,-946.4\"/>\n",
       "<text text-anchor=\"middle\" x=\"1056.9\" y=\"-840.8\" font-family=\"Times,serif\" font-size=\"14.00\">0.00111</text>\n",
       "</g>\n",
       "<!-- 0,1.2,1,1 -->\n",
       "<g id=\"node24\" class=\"node\">\n",
       "<title>0,1.2,1,1</title>\n",
       "<ellipse fill=\"none\" stroke=\"black\" cx=\"569.4\" cy=\"-1149\" rx=\"51.99\" ry=\"18\"/>\n",
       "<text text-anchor=\"middle\" x=\"569.4\" y=\"-1145.3\" font-family=\"Times,serif\" font-size=\"14.00\">0,1.2,1,1</text>\n",
       "</g>\n",
       "<!-- 0,2.1,0,1&#45;&gt;0,1.2,1,1 -->\n",
       "<g id=\"edge70\" class=\"edge\">\n",
       "<title>0,2.1,0,1&#45;&gt;0,1.2,1,1</title>\n",
       "<path fill=\"none\" stroke=\"black\" d=\"M828.61,-725.59C818.78,-727.95 808.25,-730.26 798.4,-732 762.95,-738.26 663.58,-725.29 637.4,-750 623.74,-762.89 585.3,-1033.13 573.14,-1120.8\"/>\n",
       "<polygon fill=\"black\" stroke=\"black\" points=\"569.66,-1120.4 571.76,-1130.78 576.59,-1121.36 569.66,-1120.4\"/>\n",
       "<text text-anchor=\"middle\" x=\"631.9\" y=\"-927.8\" font-family=\"Times,serif\" font-size=\"14.00\">0.00289</text>\n",
       "</g>\n",
       "<!-- 0,2.1,1,0&#45;&gt;0,3.1,0,0 -->\n",
       "<g id=\"edge74\" class=\"edge\">\n",
       "<title>0,2.1,1,0&#45;&gt;0,3.1,0,0</title>\n",
       "<path fill=\"none\" stroke=\"black\" d=\"M514.9,-210C506.45,-226.76 495.4,-253.36 495.4,-278 495.4,-541 495.4,-541 495.4,-541 495.4,-565.99 513.27,-588.3 530.13,-603.79\"/>\n",
       "<polygon fill=\"black\" stroke=\"black\" points=\"527.89,-606.49 537.73,-610.41 532.49,-601.21 527.89,-606.49\"/>\n",
       "<text text-anchor=\"middle\" x=\"515.9\" y=\"-405.8\" font-family=\"Times,serif\" font-size=\"14.00\">0.025</text>\n",
       "</g>\n",
       "<!-- 0,2.1,1,0&#45;&gt;1,1.1,1,0 -->\n",
       "<g id=\"edge75\" class=\"edge\">\n",
       "<title>0,2.1,1,0&#45;&gt;1,1.1,1,0</title>\n",
       "<path fill=\"none\" stroke=\"black\" d=\"M478.37,-200.58C436.56,-210.41 381.4,-232.08 381.4,-278 381.4,-497.5 381.4,-497.5 381.4,-497.5 381.4,-539.14 402.04,-558.99 375.4,-591 374.75,-591.79 90.24,-662.41 89.4,-663 67.68,-678.41 56.4,-686.37 56.4,-713 56.4,-845.5 56.4,-845.5 56.4,-845.5 56.4,-887.34 60.59,-897.72 67.4,-939 76.43,-993.7 93.4,-1005.56 93.4,-1061 93.4,-1237 93.4,-1237 93.4,-1237 93.4,-1431.51 89.66,-1577.25 275.4,-1635 358.26,-1660.76 953.55,-1667.89 1149.24,-1669.56\"/>\n",
       "<polygon fill=\"black\" stroke=\"black\" points=\"1149.32,-1673.06 1159.35,-1669.64 1149.38,-1666.06 1149.32,-1673.06\"/>\n",
       "<text text-anchor=\"middle\" x=\"96.9\" y=\"-927.8\" font-family=\"Times,serif\" font-size=\"14.00\">0.00071</text>\n",
       "</g>\n",
       "<!-- 0,2.1,1,0&#45;&gt;1,1.2,1,0 -->\n",
       "<g id=\"edge78\" class=\"edge\">\n",
       "<title>0,2.1,1,0&#45;&gt;1,1.2,1,0</title>\n",
       "<path fill=\"none\" stroke=\"black\" d=\"M473.5,-195.71C419.96,-201.63 343.4,-220.2 343.4,-278 343.4,-497.5 343.4,-497.5 343.4,-497.5 343.4,-549.41 317.88,-564.23 273.4,-591 229.07,-617.67 207.12,-591.6 158.4,-609 113.75,-624.95 101.53,-631.16 66.4,-663 31.79,-694.37 18.4,-709.79 18.4,-756.5 18.4,-889 18.4,-889 18.4,-889 18.4,-1213.1 -76.86,-1393.65 171.4,-1602 341.7,-1744.93 421.38,-1737.78 640.4,-1776 758.58,-1796.62 1599.22,-1831.94 1835.04,-1841.53\"/>\n",
       "<polygon fill=\"black\" stroke=\"black\" points=\"1835.01,-1845.04 1845.15,-1841.94 1835.3,-1838.04 1835.01,-1845.04\"/>\n",
       "<text text-anchor=\"middle\" x=\"43.9\" y=\"-1014.8\" font-family=\"Times,serif\" font-size=\"14.00\">0.00018</text>\n",
       "</g>\n",
       "<!-- 0,2.1,1,0&#45;&gt;0,1.1,1,1 -->\n",
       "<g id=\"edge72\" class=\"edge\">\n",
       "<title>0,2.1,1,0&#45;&gt;0,1.1,1,1</title>\n",
       "<path fill=\"none\" stroke=\"black\" d=\"M496.87,-176.54C481.88,-166.77 468.27,-153.43 478.4,-141 492.15,-124.13 544.49,-115.16 587.5,-110.54\"/>\n",
       "<polygon fill=\"black\" stroke=\"black\" points=\"588.05,-114 597.64,-109.51 587.34,-107.04 588.05,-114\"/>\n",
       "<text text-anchor=\"middle\" x=\"507.9\" y=\"-144.8\" font-family=\"Times,serif\" font-size=\"14.00\">0.00444</text>\n",
       "</g>\n",
       "<!-- 0,2.1,1,0&#45;&gt;0,1.2,1,1 -->\n",
       "<g id=\"edge76\" class=\"edge\">\n",
       "<title>0,2.1,1,0&#45;&gt;0,1.2,1,1</title>\n",
       "<path fill=\"none\" stroke=\"black\" d=\"M501.72,-208.36C482.28,-223.54 457.4,-248.69 457.4,-278 457.4,-497.5 457.4,-497.5 457.4,-497.5 457.4,-540.75 452.89,-554.05 430.4,-591 430.31,-591.16 354.48,-662.84 354.4,-663 306.19,-756.15 322.36,-782.18 329.4,-852 341.72,-974.23 317.41,-1046.03 420.4,-1113 422.53,-1114.38 475.17,-1126.58 517.28,-1136.19\"/>\n",
       "<polygon fill=\"black\" stroke=\"black\" points=\"516.65,-1139.63 527.17,-1138.44 518.2,-1132.81 516.65,-1139.63\"/>\n",
       "<text text-anchor=\"middle\" x=\"383.9\" y=\"-666.8\" font-family=\"Times,serif\" font-size=\"14.00\">0.00111</text>\n",
       "</g>\n",
       "<!-- 0,1.1,2,0 -->\n",
       "<g id=\"node25\" class=\"node\">\n",
       "<title>0,1.1,2,0</title>\n",
       "<ellipse fill=\"none\" stroke=\"black\" cx=\"1046.4\" cy=\"-279\" rx=\"51.99\" ry=\"18\"/>\n",
       "<text text-anchor=\"middle\" x=\"1046.4\" y=\"-275.3\" font-family=\"Times,serif\" font-size=\"14.00\">0,1.1,2,0</text>\n",
       "</g>\n",
       "<!-- 0,2.1,1,0&#45;&gt;0,1.1,2,0 -->\n",
       "<g id=\"edge73\" class=\"edge\">\n",
       "<title>0,2.1,1,0&#45;&gt;0,1.1,2,0</title>\n",
       "<path fill=\"none\" stroke=\"black\" d=\"M569.69,-200.94C627.4,-210.99 730.24,-228.74 818.4,-243 876.65,-252.42 943.39,-262.6 989.54,-269.53\"/>\n",
       "<polygon fill=\"black\" stroke=\"black\" points=\"989.23,-273.02 999.64,-271.05 990.27,-266.1 989.23,-273.02\"/>\n",
       "<text text-anchor=\"middle\" x=\"847.9\" y=\"-231.8\" font-family=\"Times,serif\" font-size=\"14.00\">0.01156</text>\n",
       "</g>\n",
       "<!-- 0,1.2,2,0 -->\n",
       "<g id=\"node26\" class=\"node\">\n",
       "<title>0,1.2,2,0</title>\n",
       "<ellipse fill=\"none\" stroke=\"black\" cx=\"1101.4\" cy=\"-453\" rx=\"51.99\" ry=\"18\"/>\n",
       "<text text-anchor=\"middle\" x=\"1101.4\" y=\"-449.3\" font-family=\"Times,serif\" font-size=\"14.00\">0,1.2,2,0</text>\n",
       "</g>\n",
       "<!-- 0,2.1,1,0&#45;&gt;0,1.2,2,0 -->\n",
       "<g id=\"edge77\" class=\"edge\">\n",
       "<title>0,2.1,1,0&#45;&gt;0,1.2,2,0</title>\n",
       "<path fill=\"none\" stroke=\"black\" d=\"M564.6,-203.44C648.07,-225.57 837.05,-278.2 892.4,-315 942.5,-348.31 930.7,-384.61 981.4,-417 1000.5,-429.21 1024,-437.28 1045.11,-442.56\"/>\n",
       "<polygon fill=\"black\" stroke=\"black\" points=\"1044.41,-445.99 1054.94,-444.86 1046.01,-439.17 1044.41,-445.99\"/>\n",
       "<text text-anchor=\"middle\" x=\"940.9\" y=\"-318.8\" font-family=\"Times,serif\" font-size=\"14.00\">0.00289</text>\n",
       "</g>\n",
       "<!-- 0,2.2,0,1&#45;&gt;1,1.1,0,1 -->\n",
       "<g id=\"edge81\" class=\"edge\">\n",
       "<title>0,2.2,0,1&#45;&gt;1,1.1,0,1</title>\n",
       "<path fill=\"none\" stroke=\"black\" d=\"M959.44,-1065.91C1023.65,-1070.26 1129.73,-1079.96 1164.4,-1098 1265.95,-1150.85 1252.45,-1212.54 1339.4,-1287 1345.2,-1291.96 1351.72,-1296.83 1358.14,-1301.29\"/>\n",
       "<polygon fill=\"black\" stroke=\"black\" points=\"1356.49,-1304.4 1366.74,-1307.08 1360.4,-1298.59 1356.49,-1304.4\"/>\n",
       "<text text-anchor=\"middle\" x=\"1296.9\" y=\"-1188.8\" font-family=\"Times,serif\" font-size=\"14.00\">0.00014</text>\n",
       "</g>\n",
       "<!-- 0,2.2,0,1&#45;&gt;1,1.2,0,1 -->\n",
       "<g id=\"edge85\" class=\"edge\">\n",
       "<title>0,2.2,0,1&#45;&gt;1,1.2,0,1</title>\n",
       "<path fill=\"none\" stroke=\"black\" d=\"M908.4,-1080.26C908.4,-1097.43 908.4,-1124.54 908.4,-1148 908.4,-1411 908.4,-1411 908.4,-1411 908.4,-1459.97 1059.09,-1482.28 1146.16,-1491.08\"/>\n",
       "<polygon fill=\"black\" stroke=\"black\" points=\"1145.89,-1494.57 1156.19,-1492.06 1146.57,-1487.6 1145.89,-1494.57\"/>\n",
       "<text text-anchor=\"middle\" x=\"928.4\" y=\"-1275.8\" font-family=\"Times,serif\" font-size=\"14.00\">4e&#45;05</text>\n",
       "</g>\n",
       "<!-- 0,2.2,0,1&#45;&gt;0,3.2,0,0 -->\n",
       "<g id=\"edge84\" class=\"edge\">\n",
       "<title>0,2.2,0,1&#45;&gt;0,3.2,0,0</title>\n",
       "<path fill=\"none\" stroke=\"black\" d=\"M960,-1059.76C1066.3,-1056.77 1302.22,-1047.74 1331.4,-1026 1391.1,-981.52 1354.95,-934.34 1392.4,-870 1449.54,-771.83 1553.4,-785.09 1553.4,-671.5 1553.4,-671.5 1553.4,-671.5 1553.4,-539 1553.4,-512.14 1532.08,-489.75 1512.17,-474.71\"/>\n",
       "<polygon fill=\"black\" stroke=\"black\" points=\"1513.96,-471.69 1503.79,-468.72 1509.89,-477.39 1513.96,-471.69\"/>\n",
       "<text text-anchor=\"middle\" x=\"1555.9\" y=\"-753.8\" font-family=\"Times,serif\" font-size=\"14.00\">0.00556</text>\n",
       "</g>\n",
       "<!-- 0,2.2,0,1&#45;&gt;0,1.1,0,2 -->\n",
       "<g id=\"edge79\" class=\"edge\">\n",
       "<title>0,2.2,0,1&#45;&gt;0,1.1,0,2</title>\n",
       "<path fill=\"none\" stroke=\"black\" d=\"M888.33,-1045C863.55,-1023.83 822.7,-983.9 806.4,-939 790.79,-895.99 828.49,-882.04 820.4,-837 819.91,-834.28 819.23,-831.5 818.42,-828.75\"/>\n",
       "<polygon fill=\"black\" stroke=\"black\" points=\"821.67,-827.44 815.13,-819.1 815.05,-829.7 821.67,-827.44\"/>\n",
       "<text text-anchor=\"middle\" x=\"835.9\" y=\"-927.8\" font-family=\"Times,serif\" font-size=\"14.00\">0.00089</text>\n",
       "</g>\n",
       "<!-- 0,2.2,0,1&#45;&gt;0,1.1,1,1 -->\n",
       "<g id=\"edge80\" class=\"edge\">\n",
       "<title>0,2.2,0,1&#45;&gt;0,1.1,1,1</title>\n",
       "<path fill=\"none\" stroke=\"black\" d=\"M857.47,-1058.21C786.51,-1053.75 661.95,-1043.65 620.4,-1026 543.41,-993.29 519.99,-976.78 475.4,-906 458.45,-879.09 470.04,-865.73 456.4,-837 419.22,-758.68 378.17,-757.42 343.4,-678 310.52,-602.9 305.4,-579.48 305.4,-497.5 305.4,-497.5 305.4,-497.5 305.4,-191 305.4,-133.67 488.2,-114.75 586.9,-108.71\"/>\n",
       "<polygon fill=\"black\" stroke=\"black\" points=\"587.27,-112.19 597.05,-108.11 586.86,-105.2 587.27,-112.19\"/>\n",
       "<text text-anchor=\"middle\" x=\"341.9\" y=\"-579.8\" font-family=\"Times,serif\" font-size=\"14.00\">0.00231</text>\n",
       "</g>\n",
       "<!-- 0,2.2,0,1&#45;&gt;0,1.2,0,2 -->\n",
       "<g id=\"edge82\" class=\"edge\">\n",
       "<title>0,2.2,0,1&#45;&gt;0,1.2,0,2</title>\n",
       "<path fill=\"none\" stroke=\"black\" d=\"M939.76,-1047.54C949.89,-1042.01 960.53,-1034.82 968.4,-1026 974.33,-1019.36 978.86,-1010.87 982.23,-1002.78\"/>\n",
       "<polygon fill=\"black\" stroke=\"black\" points=\"985.57,-1003.85 985.78,-993.25 979.01,-1001.4 985.57,-1003.85\"/>\n",
       "<text text-anchor=\"middle\" x=\"1007.9\" y=\"-1014.8\" font-family=\"Times,serif\" font-size=\"14.00\">0.00022</text>\n",
       "</g>\n",
       "<!-- 0,2.2,0,1&#45;&gt;0,1.2,1,1 -->\n",
       "<g id=\"edge83\" class=\"edge\">\n",
       "<title>0,2.2,0,1&#45;&gt;0,1.2,1,1</title>\n",
       "<path fill=\"none\" stroke=\"black\" d=\"M879.07,-1077.03C851.39,-1090.08 811.77,-1108.2 795.4,-1113 740.5,-1129.09 675.79,-1138.16 629.72,-1143.01\"/>\n",
       "<polygon fill=\"black\" stroke=\"black\" points=\"629.19,-1139.54 619.6,-1144.04 629.9,-1146.51 629.19,-1139.54\"/>\n",
       "<text text-anchor=\"middle\" x=\"861.9\" y=\"-1101.8\" font-family=\"Times,serif\" font-size=\"14.00\">0.00058</text>\n",
       "</g>\n",
       "<!-- 0,2.2,1,0&#45;&gt;1,1.1,1,0 -->\n",
       "<g id=\"edge88\" class=\"edge\">\n",
       "<title>0,2.2,1,0&#45;&gt;1,1.1,1,0</title>\n",
       "<path fill=\"none\" stroke=\"black\" d=\"M1121.82,-540.91C1175.45,-542.44 1260.35,-549.44 1328.4,-576 1535.41,-656.8 1579.61,-729.68 1687.4,-924 1688.75,-926.43 1774.4,-1101.72 1774.4,-1104.5 1774.4,-1280.5 1774.4,-1280.5 1774.4,-1280.5 1774.4,-1324.28 1761.64,-1334.2 1743.4,-1374 1726.46,-1410.97 1696.4,-1411.84 1696.4,-1452.5 1696.4,-1585 1696.4,-1585 1696.4,-1585 1696.4,-1627.6 1402.3,-1655.4 1272.14,-1665.61\"/>\n",
       "<polygon fill=\"black\" stroke=\"black\" points=\"1271.63,-1662.14 1261.93,-1666.41 1272.17,-1669.12 1271.63,-1662.14\"/>\n",
       "<text text-anchor=\"middle\" x=\"1803.9\" y=\"-1101.8\" font-family=\"Times,serif\" font-size=\"14.00\">0.00014</text>\n",
       "</g>\n",
       "<!-- 0,2.2,1,0&#45;&gt;1,1.2,1,0 -->\n",
       "<g id=\"edge92\" class=\"edge\">\n",
       "<title>0,2.2,1,0&#45;&gt;1,1.2,1,0</title>\n",
       "<path fill=\"none\" stroke=\"black\" d=\"M1120.09,-544.2C1178.53,-548.55 1277.23,-557.96 1360.4,-576 1518.24,-610.23 1562.13,-617.73 1703.4,-696 1817.08,-758.98 1858.27,-767.69 1938.4,-870 2054.85,-1018.68 2055.4,-1089.64 2055.4,-1278.5 2055.4,-1628.5 2055.4,-1628.5 2055.4,-1628.5 2055.4,-1680.91 1997.34,-1663.98 1967.4,-1707 1939.58,-1746.97 1952.82,-1767.47 1927.4,-1809 1925.11,-1812.74 1922.41,-1816.46 1919.57,-1820\"/>\n",
       "<polygon fill=\"black\" stroke=\"black\" points=\"1916.68,-1817.99 1912.82,-1827.86 1921.99,-1822.55 1916.68,-1817.99\"/>\n",
       "<text text-anchor=\"middle\" x=\"2075.4\" y=\"-1188.8\" font-family=\"Times,serif\" font-size=\"14.00\">4e&#45;05</text>\n",
       "</g>\n",
       "<!-- 0,2.2,1,0&#45;&gt;0,3.2,0,0 -->\n",
       "<g id=\"edge91\" class=\"edge\">\n",
       "<title>0,2.2,1,0&#45;&gt;0,3.2,0,0</title>\n",
       "<path fill=\"none\" stroke=\"black\" d=\"M1121.54,-539.45C1179.23,-538.38 1274.11,-531.93 1350.4,-504 1361.86,-499.8 1362.41,-494.31 1373.4,-489 1390.92,-480.54 1411.01,-473.3 1428.89,-467.63\"/>\n",
       "<polygon fill=\"black\" stroke=\"black\" points=\"1430.04,-470.94 1438.57,-464.65 1427.98,-464.25 1430.04,-470.94\"/>\n",
       "<text text-anchor=\"middle\" x=\"1393.9\" y=\"-492.8\" font-family=\"Times,serif\" font-size=\"14.00\">0.025</text>\n",
       "</g>\n",
       "<!-- 0,2.2,1,0&#45;&gt;0,1.1,1,1 -->\n",
       "<g id=\"edge86\" class=\"edge\">\n",
       "<title>0,2.2,1,0&#45;&gt;0,1.1,1,1</title>\n",
       "<path fill=\"none\" stroke=\"black\" d=\"M1040.31,-524.78C986.3,-496.5 872.12,-427.4 829.4,-330 810.73,-287.44 869.15,-271.35 852.4,-228 833.58,-179.28 817.84,-168.45 773.4,-141 752.95,-128.37 727.84,-120.19 705.5,-114.94\"/>\n",
       "<polygon fill=\"black\" stroke=\"black\" points=\"705.98,-111.46 695.46,-112.73 704.48,-118.3 705.98,-111.46\"/>\n",
       "<text text-anchor=\"middle\" x=\"858.9\" y=\"-318.8\" font-family=\"Times,serif\" font-size=\"14.00\">0.00089</text>\n",
       "</g>\n",
       "<!-- 0,2.2,1,0&#45;&gt;0,1.2,1,1 -->\n",
       "<g id=\"edge89\" class=\"edge\">\n",
       "<title>0,2.2,1,0&#45;&gt;0,1.2,1,1</title>\n",
       "<path fill=\"none\" stroke=\"black\" d=\"M1017.49,-541.42C893.37,-543.32 583.42,-553.64 498.4,-609 449.4,-640.91 390.49,-793.93 397.4,-852 411.5,-970.5 379.19,-1025.56 460.4,-1113 468.51,-1121.74 492.96,-1129.97 516.65,-1136.26\"/>\n",
       "<polygon fill=\"black\" stroke=\"black\" points=\"515.8,-1139.65 526.36,-1138.74 517.54,-1132.87 515.8,-1139.65\"/>\n",
       "<text text-anchor=\"middle\" x=\"426.9\" y=\"-840.8\" font-family=\"Times,serif\" font-size=\"14.00\">0.00022</text>\n",
       "</g>\n",
       "<!-- 0,2.2,1,0&#45;&gt;0,1.1,2,0 -->\n",
       "<g id=\"edge87\" class=\"edge\">\n",
       "<title>0,2.2,1,0&#45;&gt;0,1.1,2,0</title>\n",
       "<path fill=\"none\" stroke=\"black\" d=\"M1051.24,-523.12C1045.22,-517.4 1038.7,-510.7 1033.4,-504 1005.46,-468.67 993.39,-460.42 981.4,-417 969.85,-375.14 1000.16,-330.35 1023.19,-303.78\"/>\n",
       "<polygon fill=\"black\" stroke=\"black\" points=\"1025.97,-305.93 1030.05,-296.15 1020.76,-301.25 1025.97,-305.93\"/>\n",
       "<text text-anchor=\"middle\" x=\"1010.9\" y=\"-405.8\" font-family=\"Times,serif\" font-size=\"14.00\">0.00231</text>\n",
       "</g>\n",
       "<!-- 0,2.2,1,0&#45;&gt;0,1.2,2,0 -->\n",
       "<g id=\"edge90\" class=\"edge\">\n",
       "<title>0,2.2,1,0&#45;&gt;0,1.2,2,0</title>\n",
       "<path fill=\"none\" stroke=\"black\" d=\"M1075.88,-521.8C1080.33,-509.97 1086.33,-494.03 1091.39,-480.58\"/>\n",
       "<polygon fill=\"black\" stroke=\"black\" points=\"1094.8,-481.48 1095.04,-470.89 1088.24,-479.01 1094.8,-481.48\"/>\n",
       "<text text-anchor=\"middle\" x=\"1116.9\" y=\"-492.8\" font-family=\"Times,serif\" font-size=\"14.00\">0.00058</text>\n",
       "</g>\n",
       "<!-- 1,0,0,2&#45;&gt;1,1.1,0,1 -->\n",
       "<g id=\"edge94\" class=\"edge\">\n",
       "<title>1,0,0,2&#45;&gt;1,1.1,0,1</title>\n",
       "<path fill=\"none\" stroke=\"black\" d=\"M1423.74,-727.96C1432.26,-733.48 1440.66,-740.8 1445.4,-750 1459.43,-777.27 1447.04,-788.44 1444.4,-819 1437.66,-896.97 1433.9,-916.5 1417.4,-993 1415.65,-1001.12 1413.52,-1002.77 1412.4,-1011 1406.28,-1055.92 1413.7,-1067.69 1412.4,-1113 1410.18,-1190.43 1416.34,-1210.8 1402.4,-1287 1401.9,-1289.73 1401.26,-1292.54 1400.52,-1295.32\"/>\n",
       "<polygon fill=\"black\" stroke=\"black\" points=\"1397.11,-1294.54 1397.63,-1305.12 1403.82,-1296.52 1397.11,-1294.54\"/>\n",
       "<text text-anchor=\"middle\" x=\"1441.9\" y=\"-1014.8\" font-family=\"Times,serif\" font-size=\"14.00\">0.00556</text>\n",
       "</g>\n",
       "<!-- 1,0,0,2&#45;&gt;1,1.2,0,1 -->\n",
       "<g id=\"edge96\" class=\"edge\">\n",
       "<title>1,0,0,2&#45;&gt;1,1.2,0,1</title>\n",
       "<path fill=\"none\" stroke=\"black\" d=\"M1395.15,-732.26C1394.25,-741.96 1392.76,-754.24 1390.4,-765 1364.35,-884.04 1366.43,-919.95 1306.4,-1026 1285.45,-1063 1263.1,-1060.32 1243.4,-1098 1205.11,-1171.27 1198.4,-1195.82 1198.4,-1278.5 1198.4,-1411 1198.4,-1411 1198.4,-1411 1198.4,-1430.33 1200.48,-1452.03 1202.51,-1468.66\"/>\n",
       "<polygon fill=\"black\" stroke=\"black\" points=\"1199.07,-1469.32 1203.83,-1478.79 1206.01,-1468.42 1199.07,-1469.32\"/>\n",
       "<text text-anchor=\"middle\" x=\"1272.9\" y=\"-1101.8\" font-family=\"Times,serif\" font-size=\"14.00\">0.00556</text>\n",
       "</g>\n",
       "<!-- 1,0,0,2&#45;&gt;0,1.1,0,2 -->\n",
       "<g id=\"edge93\" class=\"edge\">\n",
       "<title>1,0,0,2&#45;&gt;0,1.1,0,2</title>\n",
       "<path fill=\"none\" stroke=\"black\" d=\"M1355.67,-719.8C1311.8,-725.38 1240.13,-735.69 1179.4,-750 1157.65,-755.13 1153.28,-760.44 1131.4,-765 1041.1,-783.8 934.41,-792.85 868.83,-796.94\"/>\n",
       "<polygon fill=\"black\" stroke=\"black\" points=\"868.44,-793.46 858.67,-797.56 868.86,-800.45 868.44,-793.46\"/>\n",
       "<text text-anchor=\"middle\" x=\"1208.9\" y=\"-753.8\" font-family=\"Times,serif\" font-size=\"14.00\">0.00016</text>\n",
       "</g>\n",
       "<!-- 1,0,0,2&#45;&gt;0,1.2,0,2 -->\n",
       "<g id=\"edge95\" class=\"edge\">\n",
       "<title>1,0,0,2&#45;&gt;0,1.2,0,2</title>\n",
       "<path fill=\"none\" stroke=\"black\" d=\"M1390.24,-732.21C1385.89,-742.59 1379.25,-755.59 1370.4,-765 1359.75,-776.32 1353.11,-774.04 1340.4,-783 1300.91,-810.84 1295.82,-824.07 1256.4,-852 1218.65,-878.75 1208.94,-885.62 1167.4,-906 1124.45,-927.07 1073.22,-946.13 1036.95,-958.68\"/>\n",
       "<polygon fill=\"black\" stroke=\"black\" points=\"1035.47,-955.49 1027.14,-962.04 1037.73,-962.11 1035.47,-955.49\"/>\n",
       "<text text-anchor=\"middle\" x=\"1296.4\" y=\"-840.8\" font-family=\"Times,serif\" font-size=\"14.00\">4e&#45;05</text>\n",
       "</g>\n",
       "<!-- 1,0,1,1&#45;&gt;1,1.1,0,1 -->\n",
       "<g id=\"edge98\" class=\"edge\">\n",
       "<title>1,0,1,1&#45;&gt;1,1.1,0,1</title>\n",
       "<path fill=\"none\" stroke=\"black\" d=\"M624.06,-1238.5C707.73,-1241.85 890.33,-1251.35 949.4,-1272 960.92,-1276.03 960.86,-1283.04 972.4,-1287 1036.67,-1309.06 1229.04,-1317.54 1329.21,-1320.53\"/>\n",
       "<polygon fill=\"black\" stroke=\"black\" points=\"1329.4,-1324.04 1339.49,-1320.83 1329.6,-1317.04 1329.4,-1324.04\"/>\n",
       "<text text-anchor=\"middle\" x=\"988.4\" y=\"-1275.8\" font-family=\"Times,serif\" font-size=\"14.00\">0.02</text>\n",
       "</g>\n",
       "<!-- 1,0,1,1&#45;&gt;1,1.1,1,0 -->\n",
       "<g id=\"edge99\" class=\"edge\">\n",
       "<title>1,0,1,1&#45;&gt;1,1.1,1,0</title>\n",
       "<path fill=\"none\" stroke=\"black\" d=\"M539.96,-1240.67C460.91,-1248.81 296.4,-1271.79 296.4,-1322 296.4,-1585 296.4,-1585 296.4,-1585 296.4,-1668.46 394.99,-1621.82 477.4,-1635 606.09,-1655.58 996.87,-1665.6 1149.44,-1668.81\"/>\n",
       "<polygon fill=\"black\" stroke=\"black\" points=\"1149.5,-1672.31 1159.57,-1669.02 1149.65,-1665.32 1149.5,-1672.31\"/>\n",
       "<text text-anchor=\"middle\" x=\"325.9\" y=\"-1449.8\" font-family=\"Times,serif\" font-size=\"14.00\">0.00556</text>\n",
       "</g>\n",
       "<!-- 1,0,1,1&#45;&gt;1,1.2,0,1 -->\n",
       "<g id=\"edge101\" class=\"edge\">\n",
       "<title>1,0,1,1&#45;&gt;1,1.2,0,1</title>\n",
       "<path fill=\"none\" stroke=\"black\" d=\"M593.9,-1253.42C629.54,-1298.56 737.09,-1423.66 861.4,-1461 957.3,-1489.81 1074.21,-1495.96 1144.36,-1496.73\"/>\n",
       "<polygon fill=\"black\" stroke=\"black\" points=\"1144.33,-1500.23 1154.36,-1496.81 1144.38,-1493.23 1144.33,-1500.23\"/>\n",
       "<text text-anchor=\"middle\" x=\"728.9\" y=\"-1362.8\" font-family=\"Times,serif\" font-size=\"14.00\">0.005</text>\n",
       "</g>\n",
       "<!-- 1,0,1,1&#45;&gt;1,1.2,1,0 -->\n",
       "<g id=\"edge102\" class=\"edge\">\n",
       "<title>1,0,1,1&#45;&gt;1,1.2,1,0</title>\n",
       "<path fill=\"none\" stroke=\"black\" d=\"M538.3,-1236.91C433.03,-1237.85 171.4,-1247.67 171.4,-1322 171.4,-1541.5 171.4,-1541.5 171.4,-1541.5 171.4,-1613.39 236.57,-1608.51 303.4,-1635 824.44,-1841.52 995.95,-1741.96 1552.4,-1809 1651.89,-1820.99 1767.9,-1832.22 1836.58,-1838.59\"/>\n",
       "<polygon fill=\"black\" stroke=\"black\" points=\"1836.5,-1842.1 1846.78,-1839.53 1837.14,-1835.13 1836.5,-1842.1\"/>\n",
       "<text text-anchor=\"middle\" x=\"201.9\" y=\"-1536.8\" font-family=\"Times,serif\" font-size=\"14.00\">0.00556</text>\n",
       "</g>\n",
       "<!-- 1,0,1,1&#45;&gt;0,1.1,1,1 -->\n",
       "<g id=\"edge97\" class=\"edge\">\n",
       "<title>1,0,1,1&#45;&gt;0,1.1,1,1</title>\n",
       "<path fill=\"none\" stroke=\"black\" d=\"M559.58,-1220.14C550.96,-1214.09 541.07,-1206.9 532.4,-1200 496.19,-1171.18 496.8,-1149.56 454.4,-1131 367.6,-1093.01 289.2,-1165.03 247.4,-1080 209.04,-1001.97 196.99,-779.4 172.4,-696 156.42,-641.8 102.38,-625.07 130.4,-576 164.43,-516.39 263.4,-566.14 263.4,-497.5 263.4,-497.5 263.4,-497.5 263.4,-191 263.4,-125.68 477.36,-110.51 586.28,-107.02\"/>\n",
       "<polygon fill=\"black\" stroke=\"black\" points=\"586.59,-110.51 596.48,-106.72 586.38,-103.52 586.59,-110.51\"/>\n",
       "<text text-anchor=\"middle\" x=\"194.9\" y=\"-666.8\" font-family=\"Times,serif\" font-size=\"14.00\">0.00016</text>\n",
       "</g>\n",
       "<!-- 1,0,1,1&#45;&gt;0,1.2,1,1 -->\n",
       "<g id=\"edge100\" class=\"edge\">\n",
       "<title>1,0,1,1&#45;&gt;0,1.2,1,1</title>\n",
       "<path fill=\"none\" stroke=\"black\" d=\"M594.06,-1218.34C599.86,-1208.61 604.61,-1196.11 600.4,-1185 598.95,-1181.18 596.88,-1177.51 594.47,-1174.08\"/>\n",
       "<polygon fill=\"black\" stroke=\"black\" points=\"597.02,-1171.66 588.01,-1166.09 591.58,-1176.07 597.02,-1171.66\"/>\n",
       "<text text-anchor=\"middle\" x=\"622.4\" y=\"-1188.8\" font-family=\"Times,serif\" font-size=\"14.00\">4e&#45;05</text>\n",
       "</g>\n",
       "<!-- 1,0,2,0&#45;&gt;1,1.1,1,0 -->\n",
       "<g id=\"edge104\" class=\"edge\">\n",
       "<title>1,0,2,0&#45;&gt;1,1.1,1,0</title>\n",
       "<path fill=\"none\" stroke=\"black\" d=\"M1808.51,-1749.26C1754.83,-1738.51 1653.47,-1719.05 1566.4,-1707 1463.35,-1692.74 1342.68,-1682.12 1271.89,-1676.51\"/>\n",
       "<polygon fill=\"black\" stroke=\"black\" points=\"1272.06,-1673.01 1261.81,-1675.72 1271.51,-1679.99 1272.06,-1673.01\"/>\n",
       "<text text-anchor=\"middle\" x=\"1675.4\" y=\"-1710.8\" font-family=\"Times,serif\" font-size=\"14.00\">0.02</text>\n",
       "</g>\n",
       "<!-- 1,0,2,0&#45;&gt;1,1.2,1,0 -->\n",
       "<g id=\"edge106\" class=\"edge\">\n",
       "<title>1,0,2,0&#45;&gt;1,1.2,1,0</title>\n",
       "<path fill=\"none\" stroke=\"black\" d=\"M1860.72,-1775.09C1865.42,-1780.82 1870.45,-1787.48 1874.4,-1794 1878.82,-1801.3 1882.85,-1809.65 1886.22,-1817.4\"/>\n",
       "<polygon fill=\"black\" stroke=\"black\" points=\"1883.05,-1818.89 1890.12,-1826.79 1889.52,-1816.21 1883.05,-1818.89\"/>\n",
       "<text text-anchor=\"middle\" x=\"1902.9\" y=\"-1797.8\" font-family=\"Times,serif\" font-size=\"14.00\">0.005</text>\n",
       "</g>\n",
       "<!-- 1,0,2,0&#45;&gt;0,1.1,2,0 -->\n",
       "<g id=\"edge103\" class=\"edge\">\n",
       "<title>1,0,2,0&#45;&gt;0,1.1,2,0</title>\n",
       "<path fill=\"none\" stroke=\"black\" d=\"M1850.24,-1740.05C1860.25,-1694.26 1886.4,-1564.16 1886.4,-1454.5 1886.4,-1454.5 1886.4,-1454.5 1886.4,-1191.5 1886.4,-1107.51 1912.23,-1089.39 1942.4,-1011 1986.82,-895.57 2059.4,-882.18 2059.4,-758.5 2059.4,-758.5 2059.4,-758.5 2059.4,-626 2059.4,-494.08 2073.19,-407.39 1955.4,-348 1880.13,-310.05 1300.41,-288.16 1108.14,-281.89\"/>\n",
       "<polygon fill=\"black\" stroke=\"black\" points=\"1108.03,-278.39 1097.93,-281.56 1107.81,-285.38 1108.03,-278.39\"/>\n",
       "<text text-anchor=\"middle\" x=\"1971.9\" y=\"-1014.8\" font-family=\"Times,serif\" font-size=\"14.00\">0.00016</text>\n",
       "</g>\n",
       "<!-- 1,0,2,0&#45;&gt;0,1.2,2,0 -->\n",
       "<g id=\"edge105\" class=\"edge\">\n",
       "<title>1,0,2,0&#45;&gt;0,1.2,2,0</title>\n",
       "<path fill=\"none\" stroke=\"black\" d=\"M1863.08,-1741.01C1868.6,-1735.29 1874.57,-1728.61 1879.4,-1722 1892.93,-1703.49 1979.4,-1564.43 1979.4,-1541.5 1979.4,-1541.5 1979.4,-1541.5 1979.4,-1278.5 1979.4,-1165.68 1995.42,-1138.37 2005.4,-1026 2010.13,-972.76 2011.62,-959.42 2013.4,-906 2014.42,-875.23 2020.79,-864.72 2007.4,-837 1948.77,-715.62 1920.52,-682.3 1807.4,-609 1600.03,-474.62 1293.95,-455.26 1163.72,-453.48\"/>\n",
       "<polygon fill=\"black\" stroke=\"black\" points=\"1163.57,-449.98 1153.53,-453.38 1163.49,-456.98 1163.57,-449.98\"/>\n",
       "<text text-anchor=\"middle\" x=\"2017.4\" y=\"-1101.8\" font-family=\"Times,serif\" font-size=\"14.00\">4e&#45;05</text>\n",
       "</g>\n",
       "<!-- 0,1.1,0,2&#45;&gt;0,2.1,0,1 -->\n",
       "<g id=\"edge109\" class=\"edge\">\n",
       "<title>0,1.1,0,2&#45;&gt;0,2.1,0,1</title>\n",
       "<path fill=\"none\" stroke=\"black\" d=\"M801.75,-782.65C799.5,-772.47 798.64,-759.72 804.4,-750 808.81,-742.56 815.42,-736.6 822.74,-731.86\"/>\n",
       "<polygon fill=\"black\" stroke=\"black\" points=\"824.62,-734.82 831.58,-726.84 821.16,-728.74 824.62,-734.82\"/>\n",
       "<text text-anchor=\"middle\" x=\"833.9\" y=\"-753.8\" font-family=\"Times,serif\" font-size=\"14.00\">0.00556</text>\n",
       "</g>\n",
       "<!-- 0,1.1,0,2&#45;&gt;1,0,0,2 -->\n",
       "<g id=\"edge110\" class=\"edge\">\n",
       "<title>0,1.1,0,2&#45;&gt;1,0,0,2</title>\n",
       "<path fill=\"none\" stroke=\"black\" d=\"M850.17,-790.68C901.71,-779.7 991.05,-761.52 1068.4,-750 1165.38,-735.56 1279.36,-724.78 1344.22,-719.22\"/>\n",
       "<polygon fill=\"black\" stroke=\"black\" points=\"1344.91,-722.68 1354.58,-718.34 1344.32,-715.7 1344.91,-722.68\"/>\n",
       "<text text-anchor=\"middle\" x=\"1097.9\" y=\"-753.8\" font-family=\"Times,serif\" font-size=\"14.00\">0.00089</text>\n",
       "</g>\n",
       "<!-- 0,0,0,3 -->\n",
       "<g id=\"node27\" class=\"node\">\n",
       "<title>0,0,0,3</title>\n",
       "<ellipse fill=\"none\" stroke=\"black\" cx=\"746.4\" cy=\"-714\" rx=\"42.79\" ry=\"18\"/>\n",
       "<text text-anchor=\"middle\" x=\"746.4\" y=\"-710.3\" font-family=\"Times,serif\" font-size=\"14.00\">0,0,0,3</text>\n",
       "</g>\n",
       "<!-- 0,1.1,0,2&#45;&gt;0,0,0,3 -->\n",
       "<g id=\"edge107\" class=\"edge\">\n",
       "<title>0,1.1,0,2&#45;&gt;0,0,0,3</title>\n",
       "<path fill=\"none\" stroke=\"black\" d=\"M760.59,-793C715.08,-785.71 651.77,-774.12 644.4,-765 640.21,-759.81 640.53,-755.43 644.4,-750 651.23,-740.43 675.9,-731.83 699.26,-725.55\"/>\n",
       "<polygon fill=\"black\" stroke=\"black\" points=\"700.33,-728.89 709.14,-723 698.58,-722.11 700.33,-728.89\"/>\n",
       "<text text-anchor=\"middle\" x=\"673.9\" y=\"-753.8\" font-family=\"Times,serif\" font-size=\"14.00\">0.00556</text>\n",
       "</g>\n",
       "<!-- 0,0,1,2 -->\n",
       "<g id=\"node28\" class=\"node\">\n",
       "<title>0,0,1,2</title>\n",
       "<ellipse fill=\"none\" stroke=\"black\" cx=\"710.4\" cy=\"-888\" rx=\"42.79\" ry=\"18\"/>\n",
       "<text text-anchor=\"middle\" x=\"710.4\" y=\"-884.3\" font-family=\"Times,serif\" font-size=\"14.00\">0,0,1,2</text>\n",
       "</g>\n",
       "<!-- 0,1.1,0,2&#45;&gt;0,0,1,2 -->\n",
       "<g id=\"edge108\" class=\"edge\">\n",
       "<title>0,1.1,0,2&#45;&gt;0,0,1,2</title>\n",
       "<path fill=\"none\" stroke=\"black\" d=\"M759.41,-807.94C741.37,-812.75 722.54,-821.41 711.4,-837 706.77,-843.48 705.33,-851.74 705.39,-859.68\"/>\n",
       "<polygon fill=\"black\" stroke=\"black\" points=\"701.9,-860.04 706.19,-869.73 708.88,-859.49 701.9,-860.04\"/>\n",
       "<text text-anchor=\"middle\" x=\"740.9\" y=\"-840.8\" font-family=\"Times,serif\" font-size=\"14.00\">0.01444</text>\n",
       "</g>\n",
       "<!-- 0,1.1,1,1&#45;&gt;0,2.1,0,1 -->\n",
       "<g id=\"edge113\" class=\"edge\">\n",
       "<title>0,1.1,1,1&#45;&gt;0,2.1,0,1</title>\n",
       "<path fill=\"none\" stroke=\"black\" d=\"M683.57,-118.35C695.68,-123.87 708.64,-131.35 718.4,-141 730.14,-152.6 729.73,-158.51 735.4,-174 778.99,-293.06 799.4,-325.21 799.4,-452 799.4,-628 799.4,-628 799.4,-628 799.4,-653.71 818.67,-675.99 836.84,-691.28\"/>\n",
       "<polygon fill=\"black\" stroke=\"black\" points=\"835.03,-694.31 845.04,-697.8 839.39,-688.83 835.03,-694.31\"/>\n",
       "<text text-anchor=\"middle\" x=\"819.9\" y=\"-405.8\" font-family=\"Times,serif\" font-size=\"14.00\">0.025</text>\n",
       "</g>\n",
       "<!-- 0,1.1,1,1&#45;&gt;0,2.1,1,0 -->\n",
       "<g id=\"edge114\" class=\"edge\">\n",
       "<title>0,1.1,1,1&#45;&gt;0,2.1,1,0</title>\n",
       "<path fill=\"none\" stroke=\"black\" d=\"M608.21,-116.61C592.25,-122.14 574.4,-130.08 560.4,-141 551.89,-147.64 544.49,-156.82 538.66,-165.5\"/>\n",
       "<polygon fill=\"black\" stroke=\"black\" points=\"535.52,-163.91 533.16,-174.24 541.44,-167.64 535.52,-163.91\"/>\n",
       "<text text-anchor=\"middle\" x=\"589.9\" y=\"-144.8\" font-family=\"Times,serif\" font-size=\"14.00\">0.00556</text>\n",
       "</g>\n",
       "<!-- 0,1.1,1,1&#45;&gt;1,0,1,1 -->\n",
       "<g id=\"edge115\" class=\"edge\">\n",
       "<title>0,1.1,1,1&#45;&gt;1,0,1,1</title>\n",
       "<path fill=\"none\" stroke=\"black\" d=\"M596.11,-105.67C482.93,-106.37 225.4,-116.19 225.4,-191 225.4,-323.5 225.4,-323.5 225.4,-323.5 225.4,-485.23 117.8,-502.97 94.4,-663 86.27,-718.63 115,-730.24 134.4,-783 157.35,-845.4 163.88,-860.76 184.4,-924 206.71,-992.76 197.82,-1015.47 230.4,-1080 238.69,-1096.43 240.64,-1102.01 255.4,-1113 261.42,-1117.49 454.76,-1188.6 540.8,-1220.14\"/>\n",
       "<polygon fill=\"black\" stroke=\"black\" points=\"539.66,-1223.45 550.25,-1223.6 542.06,-1216.88 539.66,-1223.45\"/>\n",
       "<text text-anchor=\"middle\" x=\"123.9\" y=\"-666.8\" font-family=\"Times,serif\" font-size=\"14.00\">0.00089</text>\n",
       "</g>\n",
       "<!-- 0,1.1,1,1&#45;&gt;0,0,1,2 -->\n",
       "<g id=\"edge111\" class=\"edge\">\n",
       "<title>0,1.1,1,1&#45;&gt;0,0,1,2</title>\n",
       "<path fill=\"none\" stroke=\"black\" d=\"M659.86,-122.75C670.07,-139.32 683.4,-165.78 683.4,-191 683.4,-367 683.4,-367 683.4,-367 683.4,-505.86 675.17,-540.85 653.4,-678 644.18,-736.07 630.89,-744.88 637.4,-765 640.44,-774.39 645.04,-774.72 650.4,-783 667.27,-809.07 684.82,-840.01 696.55,-861.33\"/>\n",
       "<polygon fill=\"black\" stroke=\"black\" points=\"693.49,-863.02 701.35,-870.11 699.63,-859.66 693.49,-863.02\"/>\n",
       "<text text-anchor=\"middle\" x=\"709.9\" y=\"-492.8\" font-family=\"Times,serif\" font-size=\"14.00\">0.00556</text>\n",
       "</g>\n",
       "<!-- 0,0,2,1 -->\n",
       "<g id=\"node29\" class=\"node\">\n",
       "<title>0,0,2,1</title>\n",
       "<ellipse fill=\"none\" stroke=\"black\" cx=\"947.4\" cy=\"-18\" rx=\"42.79\" ry=\"18\"/>\n",
       "<text text-anchor=\"middle\" x=\"947.4\" y=\"-14.3\" font-family=\"Times,serif\" font-size=\"14.00\">0,0,2,1</text>\n",
       "</g>\n",
       "<!-- 0,1.1,1,1&#45;&gt;0,0,2,1 -->\n",
       "<g id=\"edge112\" class=\"edge\">\n",
       "<title>0,1.1,1,1&#45;&gt;0,0,2,1</title>\n",
       "<path fill=\"none\" stroke=\"black\" d=\"M671.79,-88.84C690.25,-77.55 717.04,-62.66 742.4,-54 792.91,-36.76 853.43,-27.76 895.57,-23.23\"/>\n",
       "<polygon fill=\"black\" stroke=\"black\" points=\"896.01,-26.7 905.6,-22.2 895.3,-19.74 896.01,-26.7\"/>\n",
       "<text text-anchor=\"middle\" x=\"771.9\" y=\"-57.8\" font-family=\"Times,serif\" font-size=\"14.00\">0.01444</text>\n",
       "</g>\n",
       "<!-- 0,1.2,0,2&#45;&gt;0,2.2,0,1 -->\n",
       "<g id=\"edge119\" class=\"edge\">\n",
       "<title>0,1.2,0,2&#45;&gt;0,2.2,0,1</title>\n",
       "<path fill=\"none\" stroke=\"black\" d=\"M944.96,-984.08C929.79,-989.17 914.46,-997.47 905.4,-1011 900.96,-1017.63 900.09,-1025.94 900.8,-1033.86\"/>\n",
       "<polygon fill=\"black\" stroke=\"black\" points=\"897.37,-1034.6 902.48,-1043.88 904.28,-1033.44 897.37,-1034.6\"/>\n",
       "<text text-anchor=\"middle\" x=\"934.9\" y=\"-1014.8\" font-family=\"Times,serif\" font-size=\"14.00\">0.00556</text>\n",
       "</g>\n",
       "<!-- 0,1.2,0,2&#45;&gt;1,0,0,2 -->\n",
       "<g id=\"edge118\" class=\"edge\">\n",
       "<title>0,1.2,0,2&#45;&gt;1,0,0,2</title>\n",
       "<path fill=\"none\" stroke=\"black\" d=\"M1011.92,-958.56C1048.54,-932.49 1125.61,-878.54 1193.4,-837 1249.72,-802.49 1267.2,-799.7 1323.4,-765 1338.2,-755.86 1354.18,-745.03 1367.41,-735.79\"/>\n",
       "<polygon fill=\"black\" stroke=\"black\" points=\"1369.5,-738.6 1375.67,-729.98 1365.47,-732.87 1369.5,-738.6\"/>\n",
       "<text text-anchor=\"middle\" x=\"1222.9\" y=\"-840.8\" font-family=\"Times,serif\" font-size=\"14.00\">0.00018</text>\n",
       "</g>\n",
       "<!-- 0,1.2,0,2&#45;&gt;0,0,0,3 -->\n",
       "<g id=\"edge116\" class=\"edge\">\n",
       "<title>0,1.2,0,2&#45;&gt;0,0,0,3</title>\n",
       "<path fill=\"none\" stroke=\"black\" d=\"M985.35,-956.82C978.76,-933.39 967.55,-889.95 963.4,-852 960.1,-821.77 974.03,-769.93 974.4,-765 974.91,-758.35 978.85,-754.96 974.4,-750 949.46,-722.23 844.06,-739.03 807.4,-732 801.59,-730.89 795.53,-729.49 789.58,-727.98\"/>\n",
       "<polygon fill=\"black\" stroke=\"black\" points=\"790.29,-724.54 779.73,-725.35 788.49,-731.31 790.29,-724.54\"/>\n",
       "<text text-anchor=\"middle\" x=\"992.9\" y=\"-840.8\" font-family=\"Times,serif\" font-size=\"14.00\">0.00111</text>\n",
       "</g>\n",
       "<!-- 0,1.2,0,2&#45;&gt;0,0,1,2 -->\n",
       "<g id=\"edge117\" class=\"edge\">\n",
       "<title>0,1.2,0,2&#45;&gt;0,0,1,2</title>\n",
       "<path fill=\"none\" stroke=\"black\" d=\"M952.32,-962.71C933.81,-956.65 911.5,-948.47 892.4,-939 881.47,-933.58 880.65,-928.72 869.4,-924 834.71,-909.44 793.11,-900.56 761.17,-895.39\"/>\n",
       "<polygon fill=\"black\" stroke=\"black\" points=\"761.58,-891.91 751.16,-893.84 760.5,-898.83 761.58,-891.91\"/>\n",
       "<text text-anchor=\"middle\" x=\"921.9\" y=\"-927.8\" font-family=\"Times,serif\" font-size=\"14.00\">0.00289</text>\n",
       "</g>\n",
       "<!-- 0,1.2,1,1&#45;&gt;0,2.2,0,1 -->\n",
       "<g id=\"edge123\" class=\"edge\">\n",
       "<title>0,1.2,1,1&#45;&gt;0,2.2,0,1</title>\n",
       "<path fill=\"none\" stroke=\"black\" d=\"M616.27,-1141.2C647.59,-1135.75 689.33,-1126.71 724.4,-1113 736.83,-1108.14 737.97,-1102.83 750.4,-1098 782.63,-1085.47 820.4,-1076.9 850.92,-1071.38\"/>\n",
       "<polygon fill=\"black\" stroke=\"black\" points=\"851.73,-1074.79 860.98,-1069.62 850.52,-1067.89 851.73,-1074.79\"/>\n",
       "<text text-anchor=\"middle\" x=\"770.9\" y=\"-1101.8\" font-family=\"Times,serif\" font-size=\"14.00\">0.025</text>\n",
       "</g>\n",
       "<!-- 0,1.2,1,1&#45;&gt;0,2.2,1,0 -->\n",
       "<g id=\"edge124\" class=\"edge\">\n",
       "<title>0,1.2,1,1&#45;&gt;0,2.2,1,0</title>\n",
       "<path fill=\"none\" stroke=\"black\" d=\"M526.92,-1138.54C496.47,-1131.31 458.46,-1121.22 444.4,-1113 426.5,-1102.53 422.34,-1097.62 411.4,-1080 410.96,-1079.29 334.54,-852.82 334.4,-852 333.32,-845.42 332.71,-843.45 334.4,-837 341.75,-808.89 440.98,-628.63 462.4,-609 488.65,-584.94 500.86,-584.64 535.4,-576 623.2,-554.05 886.63,-545.24 1007.53,-542.28\"/>\n",
       "<polygon fill=\"black\" stroke=\"black\" points=\"1007.81,-545.77 1017.73,-542.04 1007.65,-538.78 1007.81,-545.77\"/>\n",
       "<text text-anchor=\"middle\" x=\"363.9\" y=\"-840.8\" font-family=\"Times,serif\" font-size=\"14.00\">0.00556</text>\n",
       "</g>\n",
       "<!-- 0,1.2,1,1&#45;&gt;1,0,1,1 -->\n",
       "<g id=\"edge122\" class=\"edge\">\n",
       "<title>0,1.2,1,1&#45;&gt;1,0,1,1</title>\n",
       "<path fill=\"none\" stroke=\"black\" d=\"M549.55,-1165.64C539.92,-1175.23 531.58,-1187.93 537.4,-1200 540.06,-1205.52 544.07,-1210.44 548.59,-1214.72\"/>\n",
       "<polygon fill=\"black\" stroke=\"black\" points=\"546.62,-1217.63 556.56,-1221.31 551.08,-1212.23 546.62,-1217.63\"/>\n",
       "<text text-anchor=\"middle\" x=\"566.9\" y=\"-1188.8\" font-family=\"Times,serif\" font-size=\"14.00\">0.00018</text>\n",
       "</g>\n",
       "<!-- 0,1.2,1,1&#45;&gt;0,0,1,2 -->\n",
       "<g id=\"edge120\" class=\"edge\">\n",
       "<title>0,1.2,1,1&#45;&gt;0,0,1,2</title>\n",
       "<path fill=\"none\" stroke=\"black\" d=\"M588.95,-1132.15C594.67,-1126.63 600.44,-1120.04 604.4,-1113 627.3,-1072.33 610.66,-1053.75 629.4,-1011 645.4,-974.5 672.18,-936.96 690.53,-913.34\"/>\n",
       "<polygon fill=\"black\" stroke=\"black\" points=\"693.43,-915.31 696.88,-905.29 687.94,-910.97 693.43,-915.31\"/>\n",
       "<text text-anchor=\"middle\" x=\"658.9\" y=\"-1014.8\" font-family=\"Times,serif\" font-size=\"14.00\">0.00111</text>\n",
       "</g>\n",
       "<!-- 0,1.2,1,1&#45;&gt;0,0,2,1 -->\n",
       "<g id=\"edge121\" class=\"edge\">\n",
       "<title>0,1.2,1,1&#45;&gt;0,0,2,1</title>\n",
       "<path fill=\"none\" stroke=\"black\" d=\"M527.88,-1137.98C516.14,-1135.41 503.31,-1132.86 491.4,-1131 449.49,-1124.47 336.24,-1137.19 301.4,-1113 288.01,-1103.7 290.41,-1095.51 285.4,-1080 253.76,-982.1 258.91,-953.99 245.4,-852 234.33,-768.39 265.66,-738.66 228.4,-663 207.56,-620.67 169.75,-634.03 150.4,-591 141.28,-570.73 149.4,-563.23 149.4,-541 149.4,-541 149.4,-541 149.4,-104 149.4,-79.35 152.84,-67.6 173.4,-54 203.43,-34.14 724.8,-23.02 894.5,-19.91\"/>\n",
       "<polygon fill=\"black\" stroke=\"black\" points=\"894.75,-23.4 904.69,-19.72 894.62,-16.41 894.75,-23.4\"/>\n",
       "<text text-anchor=\"middle\" x=\"179.9\" y=\"-579.8\" font-family=\"Times,serif\" font-size=\"14.00\">0.00289</text>\n",
       "</g>\n",
       "<!-- 0,1.1,2,0&#45;&gt;0,2.1,1,0 -->\n",
       "<g id=\"edge127\" class=\"edge\">\n",
       "<title>0,1.1,2,0&#45;&gt;0,2.1,1,0</title>\n",
       "<path fill=\"none\" stroke=\"black\" d=\"M999.73,-271.02C970.4,-265.62 932.24,-256.71 900.4,-243 889.19,-238.17 888.91,-232.05 877.4,-228 825.21,-209.63 672.36,-199.81 585.88,-195.58\"/>\n",
       "<polygon fill=\"black\" stroke=\"black\" points=\"585.83,-192.07 575.67,-195.09 585.49,-199.07 585.83,-192.07\"/>\n",
       "<text text-anchor=\"middle\" x=\"920.9\" y=\"-231.8\" font-family=\"Times,serif\" font-size=\"14.00\">0.025</text>\n",
       "</g>\n",
       "<!-- 0,1.1,2,0&#45;&gt;1,0,2,0 -->\n",
       "<g id=\"edge128\" class=\"edge\">\n",
       "<title>0,1.1,2,0&#45;&gt;1,0,2,0</title>\n",
       "<path fill=\"none\" stroke=\"black\" d=\"M1098.42,-279.53C1272.29,-278.59 1831.54,-280.98 1996.4,-348 2061.49,-374.46 2085.6,-379.27 2128.4,-435 2358.71,-734.89 2017.4,-900.38 2017.4,-1278.5 2017.4,-1541.5 2017.4,-1541.5 2017.4,-1541.5 2017.4,-1630.03 1927.74,-1703.34 1878.27,-1737.06\"/>\n",
       "<polygon fill=\"black\" stroke=\"black\" points=\"1876.19,-1734.23 1869.82,-1742.7 1880.08,-1740.06 1876.19,-1734.23\"/>\n",
       "<text text-anchor=\"middle\" x=\"2103.9\" y=\"-1014.8\" font-family=\"Times,serif\" font-size=\"14.00\">0.00089</text>\n",
       "</g>\n",
       "<!-- 0,1.1,2,0&#45;&gt;0,0,2,1 -->\n",
       "<g id=\"edge125\" class=\"edge\">\n",
       "<title>0,1.1,2,0&#45;&gt;0,0,2,1</title>\n",
       "<path fill=\"none\" stroke=\"black\" d=\"M1043.58,-260.77C1036.7,-221.9 1016.68,-125.28 977.4,-54 975.31,-50.22 972.77,-46.47 970.06,-42.92\"/>\n",
       "<polygon fill=\"black\" stroke=\"black\" points=\"972.63,-40.52 963.56,-35.04 967.23,-44.98 972.63,-40.52\"/>\n",
       "<text text-anchor=\"middle\" x=\"1047.9\" y=\"-144.8\" font-family=\"Times,serif\" font-size=\"14.00\">0.00556</text>\n",
       "</g>\n",
       "<!-- 0,0,3,0 -->\n",
       "<g id=\"node30\" class=\"node\">\n",
       "<title>0,0,3,0</title>\n",
       "<ellipse fill=\"none\" stroke=\"black\" cx=\"1082.4\" cy=\"-366\" rx=\"42.79\" ry=\"18\"/>\n",
       "<text text-anchor=\"middle\" x=\"1082.4\" y=\"-362.3\" font-family=\"Times,serif\" font-size=\"14.00\">0,0,3,0</text>\n",
       "</g>\n",
       "<!-- 0,1.1,2,0&#45;&gt;0,0,3,0 -->\n",
       "<g id=\"edge126\" class=\"edge\">\n",
       "<title>0,1.1,2,0&#45;&gt;0,0,3,0</title>\n",
       "<path fill=\"none\" stroke=\"black\" d=\"M1043.63,-297.33C1042.8,-307.28 1043.05,-319.78 1047.4,-330 1049.32,-334.51 1052.12,-338.74 1055.31,-342.6\"/>\n",
       "<polygon fill=\"black\" stroke=\"black\" points=\"1052.86,-345.1 1062.26,-349.97 1057.95,-340.29 1052.86,-345.1\"/>\n",
       "<text text-anchor=\"middle\" x=\"1076.9\" y=\"-318.8\" font-family=\"Times,serif\" font-size=\"14.00\">0.01444</text>\n",
       "</g>\n",
       "<!-- 0,1.2,2,0&#45;&gt;0,2.2,1,0 -->\n",
       "<g id=\"edge132\" class=\"edge\">\n",
       "<title>0,1.2,2,0&#45;&gt;0,2.2,1,0</title>\n",
       "<path fill=\"none\" stroke=\"black\" d=\"M1065.38,-466.25C1055.17,-471.58 1045.26,-478.97 1039.4,-489 1034.42,-497.52 1037.59,-506.81 1043.42,-515.04\"/>\n",
       "<polygon fill=\"black\" stroke=\"black\" points=\"1040.84,-517.41 1049.93,-522.85 1046.21,-512.92 1040.84,-517.41\"/>\n",
       "<text text-anchor=\"middle\" x=\"1059.9\" y=\"-492.8\" font-family=\"Times,serif\" font-size=\"14.00\">0.025</text>\n",
       "</g>\n",
       "<!-- 0,1.2,2,0&#45;&gt;1,0,2,0 -->\n",
       "<g id=\"edge131\" class=\"edge\">\n",
       "<title>0,1.2,2,0&#45;&gt;1,0,2,0</title>\n",
       "<path fill=\"none\" stroke=\"black\" d=\"M1152.71,-456.13C1199.1,-459.41 1268.63,-467.76 1325.4,-489 1342.42,-495.37 1866.78,-823.93 1879.4,-837 1941.51,-901.32 1957.16,-924.66 1980.4,-1011 1991.88,-1053.64 1946.99,-1056.32 1932.4,-1098 1918.62,-1137.37 1924.4,-1149.79 1924.4,-1191.5 1924.4,-1454.5 1924.4,-1454.5 1924.4,-1454.5 1924.4,-1559.5 1879.79,-1678.68 1858.05,-1730.55\"/>\n",
       "<polygon fill=\"black\" stroke=\"black\" points=\"1854.72,-1729.43 1854.02,-1740.01 1861.16,-1732.18 1854.72,-1729.43\"/>\n",
       "<text text-anchor=\"middle\" x=\"1961.9\" y=\"-1101.8\" font-family=\"Times,serif\" font-size=\"14.00\">0.00018</text>\n",
       "</g>\n",
       "<!-- 0,1.2,2,0&#45;&gt;0,0,2,1 -->\n",
       "<g id=\"edge129\" class=\"edge\">\n",
       "<title>0,1.2,2,0&#45;&gt;0,0,2,1</title>\n",
       "<path fill=\"none\" stroke=\"black\" d=\"M1069.59,-438.56C1059.3,-433.04 1048.47,-425.84 1040.4,-417 1000.85,-373.67 1003.6,-352.78 985.4,-297 956.47,-208.34 949.56,-96.81 947.91,-46.2\"/>\n",
       "<polygon fill=\"black\" stroke=\"black\" points=\"951.41,-45.97 947.63,-36.08 944.41,-46.17 951.41,-45.97\"/>\n",
       "<text text-anchor=\"middle\" x=\"1000.9\" y=\"-231.8\" font-family=\"Times,serif\" font-size=\"14.00\">0.00111</text>\n",
       "</g>\n",
       "<!-- 0,1.2,2,0&#45;&gt;0,0,3,0 -->\n",
       "<g id=\"edge130\" class=\"edge\">\n",
       "<title>0,1.2,2,0&#45;&gt;0,0,3,0</title>\n",
       "<path fill=\"none\" stroke=\"black\" d=\"M1097.56,-434.8C1094.95,-423.16 1091.46,-407.55 1088.49,-394.24\"/>\n",
       "<polygon fill=\"black\" stroke=\"black\" points=\"1091.84,-393.17 1086.24,-384.18 1085.01,-394.7 1091.84,-393.17\"/>\n",
       "<text text-anchor=\"middle\" x=\"1122.9\" y=\"-405.8\" font-family=\"Times,serif\" font-size=\"14.00\">0.00289</text>\n",
       "</g>\n",
       "<!-- 0,0,0,3&#45;&gt;0,1.1,0,2 -->\n",
       "<g id=\"edge133\" class=\"edge\">\n",
       "<title>0,0,0,3&#45;&gt;0,1.1,0,2</title>\n",
       "<path fill=\"none\" stroke=\"black\" d=\"M737.8,-731.86C733.86,-742.11 731.28,-755.1 737.4,-765 742.54,-773.32 750.33,-779.73 758.87,-784.64\"/>\n",
       "<polygon fill=\"black\" stroke=\"black\" points=\"757.45,-787.85 767.95,-789.24 760.61,-781.6 757.45,-787.85\"/>\n",
       "<text text-anchor=\"middle\" x=\"766.9\" y=\"-753.8\" font-family=\"Times,serif\" font-size=\"14.00\">0.00556</text>\n",
       "</g>\n",
       "<!-- 0,0,0,3&#45;&gt;0,1.2,0,2 -->\n",
       "<g id=\"edge134\" class=\"edge\">\n",
       "<title>0,0,0,3&#45;&gt;0,1.2,0,2</title>\n",
       "<path fill=\"none\" stroke=\"black\" d=\"M780.08,-725.24C788.92,-727.69 798.47,-730.14 807.4,-732 835.52,-737.87 916.56,-728.32 935.4,-750 966.84,-786.17 885.42,-806.47 900.4,-852 902.24,-857.59 945.43,-914.91 971.3,-948.96\"/>\n",
       "<polygon fill=\"black\" stroke=\"black\" points=\"968.63,-951.23 977.47,-957.07 974.2,-946.99 968.63,-951.23\"/>\n",
       "<text text-anchor=\"middle\" x=\"929.9\" y=\"-840.8\" font-family=\"Times,serif\" font-size=\"14.00\">0.00556</text>\n",
       "</g>\n",
       "<!-- 0,0,1,2&#45;&gt;0,1.1,0,2 -->\n",
       "<g id=\"edge135\" class=\"edge\">\n",
       "<title>0,0,1,2&#45;&gt;0,1.1,0,2</title>\n",
       "<path fill=\"none\" stroke=\"black\" d=\"M737.95,-873.99C748.73,-868.14 760.79,-860.61 770.4,-852 778.28,-844.94 785.54,-835.96 791.51,-827.56\"/>\n",
       "<polygon fill=\"black\" stroke=\"black\" points=\"794.52,-829.37 797.24,-819.13 788.73,-825.44 794.52,-829.37\"/>\n",
       "<text text-anchor=\"middle\" x=\"800.4\" y=\"-840.8\" font-family=\"Times,serif\" font-size=\"14.00\">0.02</text>\n",
       "</g>\n",
       "<!-- 0,0,1,2&#45;&gt;0,1.1,1,1 -->\n",
       "<g id=\"edge136\" class=\"edge\">\n",
       "<title>0,0,1,2&#45;&gt;0,1.1,1,1</title>\n",
       "<path fill=\"none\" stroke=\"black\" d=\"M696.19,-870.98C690.91,-865.03 684.88,-858.21 679.4,-852 666.48,-837.36 660.13,-835.93 650.4,-819 637.8,-797.06 636.94,-789.89 632.4,-765 624.26,-720.37 631,-708.29 628.4,-663 623.96,-585.61 611.04,-566.33 616.4,-489 620.19,-434.39 633.4,-421.75 633.4,-367 633.4,-367 633.4,-367 633.4,-191 633.4,-171.46 637.29,-149.76 641.11,-133.18\"/>\n",
       "<polygon fill=\"black\" stroke=\"black\" points=\"644.6,-133.64 643.57,-123.1 637.8,-131.99 644.6,-133.64\"/>\n",
       "<text text-anchor=\"middle\" x=\"645.9\" y=\"-492.8\" font-family=\"Times,serif\" font-size=\"14.00\">0.00556</text>\n",
       "</g>\n",
       "<!-- 0,0,1,2&#45;&gt;0,1.2,0,2 -->\n",
       "<g id=\"edge137\" class=\"edge\">\n",
       "<title>0,0,1,2&#45;&gt;0,1.2,0,2</title>\n",
       "<path fill=\"none\" stroke=\"black\" d=\"M718.25,-906.2C724.3,-917.42 733.77,-931.35 746.4,-939 776.26,-957.09 867.18,-966.34 929.19,-970.67\"/>\n",
       "<polygon fill=\"black\" stroke=\"black\" points=\"929.05,-974.16 939.27,-971.34 929.52,-967.18 929.05,-974.16\"/>\n",
       "<text text-anchor=\"middle\" x=\"766.9\" y=\"-927.8\" font-family=\"Times,serif\" font-size=\"14.00\">0.005</text>\n",
       "</g>\n",
       "<!-- 0,0,1,2&#45;&gt;0,1.2,1,1 -->\n",
       "<g id=\"edge138\" class=\"edge\">\n",
       "<title>0,0,1,2&#45;&gt;0,1.2,1,1</title>\n",
       "<path fill=\"none\" stroke=\"black\" d=\"M710.28,-906.18C709.53,-932.88 705.73,-985.47 688.4,-1026 669.32,-1070.62 657.82,-1079.82 622.4,-1113 616.87,-1118.18 610.48,-1123.11 604.11,-1127.54\"/>\n",
       "<polygon fill=\"black\" stroke=\"black\" points=\"601.89,-1124.8 595.49,-1133.25 605.76,-1130.64 601.89,-1124.8\"/>\n",
       "<text text-anchor=\"middle\" x=\"723.9\" y=\"-1014.8\" font-family=\"Times,serif\" font-size=\"14.00\">0.00556</text>\n",
       "</g>\n",
       "<!-- 0,0,2,1&#45;&gt;0,1.1,1,1 -->\n",
       "<g id=\"edge139\" class=\"edge\">\n",
       "<title>0,0,2,1&#45;&gt;0,1.1,1,1</title>\n",
       "<path fill=\"none\" stroke=\"black\" d=\"M916.65,-30.58C887.31,-41.39 841.73,-57.52 801.4,-69 768.81,-78.28 731.79,-86.8 702.32,-93.11\"/>\n",
       "<polygon fill=\"black\" stroke=\"black\" points=\"701.29,-89.75 692.24,-95.25 702.75,-96.6 701.29,-89.75\"/>\n",
       "<text text-anchor=\"middle\" x=\"862.4\" y=\"-57.8\" font-family=\"Times,serif\" font-size=\"14.00\">0.02</text>\n",
       "</g>\n",
       "<!-- 0,0,2,1&#45;&gt;0,1.2,1,1 -->\n",
       "<g id=\"edge141\" class=\"edge\">\n",
       "<title>0,0,2,1&#45;&gt;0,1.2,1,1</title>\n",
       "<path fill=\"none\" stroke=\"black\" d=\"M904.36,-19.26C743.59,-20.78 187.4,-31.31 187.4,-104 187.4,-323.5 187.4,-323.5 187.4,-323.5 187.4,-406.23 349.23,-1076.68 351.4,-1080 387.6,-1135.45 426.51,-1117.78 491.4,-1131 499.7,-1132.69 508.48,-1134.54 517.04,-1136.38\"/>\n",
       "<polygon fill=\"black\" stroke=\"black\" points=\"516.42,-1139.83 526.94,-1138.52 517.91,-1132.99 516.42,-1139.83\"/>\n",
       "<text text-anchor=\"middle\" x=\"257.9\" y=\"-579.8\" font-family=\"Times,serif\" font-size=\"14.00\">0.005</text>\n",
       "</g>\n",
       "<!-- 0,0,2,1&#45;&gt;0,1.1,2,0 -->\n",
       "<g id=\"edge140\" class=\"edge\">\n",
       "<title>0,0,2,1&#45;&gt;0,1.1,2,0</title>\n",
       "<path fill=\"none\" stroke=\"black\" d=\"M972.54,-32.7C1004.77,-51.95 1058.95,-90.37 1079.4,-141 1094.47,-178.3 1076.57,-224.19 1061.83,-252.26\"/>\n",
       "<polygon fill=\"black\" stroke=\"black\" points=\"1058.75,-250.61 1057.01,-261.06 1064.89,-253.97 1058.75,-250.61\"/>\n",
       "<text text-anchor=\"middle\" x=\"1113.9\" y=\"-144.8\" font-family=\"Times,serif\" font-size=\"14.00\">0.00556</text>\n",
       "</g>\n",
       "<!-- 0,0,2,1&#45;&gt;0,1.2,2,0 -->\n",
       "<g id=\"edge142\" class=\"edge\">\n",
       "<title>0,0,2,1&#45;&gt;0,1.2,2,0</title>\n",
       "<path fill=\"none\" stroke=\"black\" d=\"M986.85,-25.35C1052.11,-36.99 1175.4,-64.24 1175.4,-104 1175.4,-367 1175.4,-367 1175.4,-367 1175.4,-390.77 1171.42,-398.57 1156.4,-417 1151.63,-422.85 1145.62,-428.03 1139.33,-432.49\"/>\n",
       "<polygon fill=\"black\" stroke=\"black\" points=\"1137.15,-429.73 1130.67,-438.12 1140.96,-435.6 1137.15,-429.73\"/>\n",
       "<text text-anchor=\"middle\" x=\"1204.9\" y=\"-231.8\" font-family=\"Times,serif\" font-size=\"14.00\">0.00556</text>\n",
       "</g>\n",
       "<!-- 0,0,3,0&#45;&gt;0,1.1,2,0 -->\n",
       "<g id=\"edge143\" class=\"edge\">\n",
       "<title>0,0,3,0&#45;&gt;0,1.1,2,0</title>\n",
       "<path fill=\"none\" stroke=\"black\" d=\"M1098.29,-348.93C1106.15,-338.97 1112.73,-326.02 1106.4,-315 1102.43,-308.09 1096.51,-302.41 1089.91,-297.8\"/>\n",
       "<polygon fill=\"black\" stroke=\"black\" points=\"1091.64,-294.75 1081.29,-292.5 1087.98,-300.72 1091.64,-294.75\"/>\n",
       "<text text-anchor=\"middle\" x=\"1125.4\" y=\"-318.8\" font-family=\"Times,serif\" font-size=\"14.00\">0.02</text>\n",
       "</g>\n",
       "<!-- 0,0,3,0&#45;&gt;0,1.2,2,0 -->\n",
       "<g id=\"edge144\" class=\"edge\">\n",
       "<title>0,0,3,0&#45;&gt;0,1.2,2,0</title>\n",
       "<path fill=\"none\" stroke=\"black\" d=\"M1060.97,-381.68C1049.69,-391.32 1039.5,-404.44 1046.4,-417 1049.8,-423.2 1054.82,-428.46 1060.46,-432.86\"/>\n",
       "<polygon fill=\"black\" stroke=\"black\" points=\"1058.83,-435.98 1069.06,-438.72 1062.77,-430.2 1058.83,-435.98\"/>\n",
       "<text text-anchor=\"middle\" x=\"1066.9\" y=\"-405.8\" font-family=\"Times,serif\" font-size=\"14.00\">0.005</text>\n",
       "</g>\n",
       "</g>\n",
       "</svg>\n"
      ],
      "text/plain": [
       "<graphviz.graphs.Digraph at 0x7f29ed3aff10>"
      ]
     },
     "execution_count": 8,
     "metadata": {},
     "output_type": "execute_result"
    }
   ],
   "source": [
    "generator = ChainGenerator(node_enumerator())\n",
    "generator(State(3,0,0,0))\n",
    "chain = generator.chain()\n",
    "Printer.nx_to_graphviz(chain)"
   ]
  },
  {
   "cell_type": "code",
   "execution_count": 9,
   "metadata": {},
   "outputs": [
    {
     "data": {
      "image/svg+xml": [
       "<?xml version=\"1.0\" encoding=\"UTF-8\" standalone=\"no\"?>\n",
       "<!DOCTYPE svg PUBLIC \"-//W3C//DTD SVG 1.1//EN\"\n",
       " \"http://www.w3.org/Graphics/SVG/1.1/DTD/svg11.dtd\">\n",
       "<!-- Generated by graphviz version 2.43.0 (0)\n",
       " -->\n",
       "<!-- Title: %3 Pages: 1 -->\n",
       "<svg width=\"427pt\" height=\"218pt\"\n",
       " viewBox=\"0.00 0.00 427.00 218.00\" xmlns=\"http://www.w3.org/2000/svg\" xmlns:xlink=\"http://www.w3.org/1999/xlink\">\n",
       "<g id=\"graph0\" class=\"graph\" transform=\"scale(1 1) rotate(0) translate(4 214)\">\n",
       "<title>%3</title>\n",
       "<polygon fill=\"white\" stroke=\"transparent\" points=\"-4,4 -4,-214 423,-214 423,4 -4,4\"/>\n",
       "<!-- 3,0,0,0 -->\n",
       "<g id=\"node1\" class=\"node\">\n",
       "<title>3,0,0,0</title>\n",
       "<ellipse fill=\"none\" stroke=\"black\" cx=\"145\" cy=\"-192\" rx=\"42.79\" ry=\"18\"/>\n",
       "<text text-anchor=\"middle\" x=\"145\" y=\"-188.3\" font-family=\"Times,serif\" font-size=\"14.00\">3,0,0,0</text>\n",
       "</g>\n",
       "<!-- 2,1.1,0,0 -->\n",
       "<g id=\"node6\" class=\"node\">\n",
       "<title>2,1.1,0,0</title>\n",
       "<ellipse fill=\"none\" stroke=\"black\" cx=\"201\" cy=\"-105\" rx=\"51.99\" ry=\"18\"/>\n",
       "<text text-anchor=\"middle\" x=\"201\" y=\"-101.3\" font-family=\"Times,serif\" font-size=\"14.00\">2,1.1,0,0</text>\n",
       "</g>\n",
       "<!-- 3,0,0,0&#45;&gt;2,1.1,0,0 -->\n",
       "<g id=\"edge1\" class=\"edge\">\n",
       "<title>3,0,0,0&#45;&gt;2,1.1,0,0</title>\n",
       "<path fill=\"none\" stroke=\"black\" d=\"M128.51,-175.16C120.04,-165.06 112.85,-151.87 120,-141 126.63,-130.9 136.88,-123.7 147.87,-118.57\"/>\n",
       "<polygon fill=\"black\" stroke=\"black\" points=\"149.3,-121.77 157.22,-114.74 146.64,-115.29 149.3,-121.77\"/>\n",
       "<text text-anchor=\"middle\" x=\"149.5\" y=\"-144.8\" font-family=\"Times,serif\" font-size=\"14.00\">0.00048</text>\n",
       "</g>\n",
       "<!-- 1,2.1,0,0 -->\n",
       "<g id=\"node2\" class=\"node\">\n",
       "<title>1,2.1,0,0</title>\n",
       "<ellipse fill=\"none\" stroke=\"black\" cx=\"52\" cy=\"-18\" rx=\"51.99\" ry=\"18\"/>\n",
       "<text text-anchor=\"middle\" x=\"52\" y=\"-14.3\" font-family=\"Times,serif\" font-size=\"14.00\">1,2.1,0,0</text>\n",
       "</g>\n",
       "<!-- 1,2.1,0,0&#45;&gt;2,1.1,0,0 -->\n",
       "<g id=\"edge2\" class=\"edge\">\n",
       "<title>1,2.1,0,0&#45;&gt;2,1.1,0,0</title>\n",
       "<path fill=\"none\" stroke=\"black\" d=\"M62.26,-35.99C69.6,-46.82 80.38,-60.4 93,-69 108.93,-79.87 128.47,-87.55 146.52,-92.88\"/>\n",
       "<polygon fill=\"black\" stroke=\"black\" points=\"145.8,-96.31 156.37,-95.61 147.67,-89.56 145.8,-96.31\"/>\n",
       "<text text-anchor=\"middle\" x=\"122.5\" y=\"-57.8\" font-family=\"Times,serif\" font-size=\"14.00\">0.00071</text>\n",
       "</g>\n",
       "<!-- 2,0,0,1 -->\n",
       "<g id=\"node3\" class=\"node\">\n",
       "<title>2,0,0,1</title>\n",
       "<ellipse fill=\"none\" stroke=\"black\" cx=\"186\" cy=\"-18\" rx=\"42.79\" ry=\"18\"/>\n",
       "<text text-anchor=\"middle\" x=\"186\" y=\"-14.3\" font-family=\"Times,serif\" font-size=\"14.00\">2,0,0,1</text>\n",
       "</g>\n",
       "<!-- 2,0,0,1&#45;&gt;2,1.1,0,0 -->\n",
       "<g id=\"edge3\" class=\"edge\">\n",
       "<title>2,0,0,1&#45;&gt;2,1.1,0,0</title>\n",
       "<path fill=\"none\" stroke=\"black\" d=\"M205.65,-34.09C211.39,-39.66 216.94,-46.46 220,-54 223.17,-61.83 221.69,-70.41 218.46,-78.22\"/>\n",
       "<polygon fill=\"black\" stroke=\"black\" points=\"215.27,-76.76 213.85,-87.26 221.51,-79.94 215.27,-76.76\"/>\n",
       "<text text-anchor=\"middle\" x=\"251.5\" y=\"-57.8\" font-family=\"Times,serif\" font-size=\"14.00\">0.00556</text>\n",
       "</g>\n",
       "<!-- 2,0,1,0 -->\n",
       "<g id=\"node4\" class=\"node\">\n",
       "<title>2,0,1,0</title>\n",
       "<ellipse fill=\"none\" stroke=\"black\" cx=\"365\" cy=\"-18\" rx=\"42.79\" ry=\"18\"/>\n",
       "<text text-anchor=\"middle\" x=\"365\" y=\"-14.3\" font-family=\"Times,serif\" font-size=\"14.00\">2,0,1,0</text>\n",
       "</g>\n",
       "<!-- 2,0,1,0&#45;&gt;2,1.1,0,0 -->\n",
       "<g id=\"edge4\" class=\"edge\">\n",
       "<title>2,0,1,0&#45;&gt;2,1.1,0,0</title>\n",
       "<path fill=\"none\" stroke=\"black\" d=\"M378.91,-35.24C386.18,-45.76 392.04,-59.27 384,-69 368.63,-87.58 309.12,-96.39 262.07,-100.51\"/>\n",
       "<polygon fill=\"black\" stroke=\"black\" points=\"261.62,-97.03 251.94,-101.34 262.19,-104.01 261.62,-97.03\"/>\n",
       "<text text-anchor=\"middle\" x=\"403\" y=\"-57.8\" font-family=\"Times,serif\" font-size=\"14.00\">0.02</text>\n",
       "</g>\n",
       "<!-- 1,2.2,0,0 -->\n",
       "<g id=\"node5\" class=\"node\">\n",
       "<title>1,2.2,0,0</title>\n",
       "<ellipse fill=\"none\" stroke=\"black\" cx=\"283\" cy=\"-192\" rx=\"51.99\" ry=\"18\"/>\n",
       "<text text-anchor=\"middle\" x=\"283\" y=\"-188.3\" font-family=\"Times,serif\" font-size=\"14.00\">1,2.2,0,0</text>\n",
       "</g>\n",
       "<!-- 1,2.2,0,0&#45;&gt;2,1.1,0,0 -->\n",
       "<g id=\"edge5\" class=\"edge\">\n",
       "<title>1,2.2,0,0&#45;&gt;2,1.1,0,0</title>\n",
       "<path fill=\"none\" stroke=\"black\" d=\"M274.37,-174.08C268.63,-163.8 260.41,-150.82 251,-141 246.12,-135.91 240.4,-131.11 234.6,-126.78\"/>\n",
       "<polygon fill=\"black\" stroke=\"black\" points=\"236.34,-123.72 226.15,-120.8 232.3,-129.44 236.34,-123.72\"/>\n",
       "<text text-anchor=\"middle\" x=\"292.5\" y=\"-144.8\" font-family=\"Times,serif\" font-size=\"14.00\">0.00014</text>\n",
       "</g>\n",
       "<!-- 2,1.1,0,0&#45;&gt;3,0,0,0 -->\n",
       "<g id=\"edge9\" class=\"edge\">\n",
       "<title>2,1.1,0,0&#45;&gt;3,0,0,0</title>\n",
       "<path fill=\"none\" stroke=\"black\" d=\"M195.26,-122.98C191.45,-133.04 185.88,-145.77 179,-156 176.24,-160.09 172.98,-164.13 169.59,-167.93\"/>\n",
       "<polygon fill=\"black\" stroke=\"black\" points=\"166.91,-165.67 162.56,-175.33 171.99,-170.49 166.91,-165.67\"/>\n",
       "<text text-anchor=\"middle\" x=\"217.5\" y=\"-144.8\" font-family=\"Times,serif\" font-size=\"14.00\">0.00089</text>\n",
       "</g>\n",
       "<!-- 2,1.1,0,0&#45;&gt;1,2.1,0,0 -->\n",
       "<g id=\"edge6\" class=\"edge\">\n",
       "<title>2,1.1,0,0&#45;&gt;1,2.1,0,0</title>\n",
       "<path fill=\"none\" stroke=\"black\" d=\"M149.95,-100.95C103.45,-96.97 39.7,-88.12 24,-69 17.58,-61.19 20.66,-51.71 26.71,-43.12\"/>\n",
       "<polygon fill=\"black\" stroke=\"black\" points=\"29.56,-45.17 33.21,-35.23 24.15,-40.72 29.56,-45.17\"/>\n",
       "<text text-anchor=\"middle\" x=\"49\" y=\"-57.8\" font-family=\"Times,serif\" font-size=\"14.00\">0.0004</text>\n",
       "</g>\n",
       "<!-- 2,1.1,0,0&#45;&gt;2,0,0,1 -->\n",
       "<g id=\"edge7\" class=\"edge\">\n",
       "<title>2,1.1,0,0&#45;&gt;2,0,0,1</title>\n",
       "<path fill=\"none\" stroke=\"black\" d=\"M174.76,-89.27C167.68,-83.88 160.9,-77.09 157,-69 152.68,-60.05 156.04,-50.55 161.78,-42.25\"/>\n",
       "<polygon fill=\"black\" stroke=\"black\" points=\"164.55,-44.4 168.12,-34.43 159.11,-39.99 164.55,-44.4\"/>\n",
       "<text text-anchor=\"middle\" x=\"186.5\" y=\"-57.8\" font-family=\"Times,serif\" font-size=\"14.00\">0.00556</text>\n",
       "</g>\n",
       "<!-- 2,1.1,0,0&#45;&gt;2,0,1,0 -->\n",
       "<g id=\"edge8\" class=\"edge\">\n",
       "<title>2,1.1,0,0&#45;&gt;2,0,1,0</title>\n",
       "<path fill=\"none\" stroke=\"black\" d=\"M235.09,-91.27C250.59,-85.11 268.99,-77.26 285,-69 301.99,-60.22 320.12,-49.05 334.82,-39.5\"/>\n",
       "<polygon fill=\"black\" stroke=\"black\" points=\"337.06,-42.21 343.49,-33.79 333.21,-36.36 337.06,-42.21\"/>\n",
       "<text text-anchor=\"middle\" x=\"339.5\" y=\"-57.8\" font-family=\"Times,serif\" font-size=\"14.00\">0.01444</text>\n",
       "</g>\n",
       "</g>\n",
       "</svg>\n"
      ],
      "text/plain": [
       "<graphviz.graphs.Digraph at 0x7f29ed401810>"
      ]
     },
     "execution_count": 9,
     "metadata": {},
     "output_type": "execute_result"
    }
   ],
   "source": [
    "graph=  generator.subgraph(State(2,1,0,0,1))\n",
    "\n",
    "Printer.nx_to_graphviz(graph)"
   ]
  },
  {
   "cell_type": "code",
   "execution_count": 10,
   "metadata": {},
   "outputs": [
    {
     "name": "stdout",
     "output_type": "stream",
     "text": [
      "[[-1.070e-03  8.900e-04  1.800e-04  0.000e+00  0.000e+00  0.000e+00\n",
      "   0.000e+00  0.000e+00  0.000e+00  0.000e+00  0.000e+00  0.000e+00\n",
      "   0.000e+00  0.000e+00  0.000e+00  0.000e+00  0.000e+00  0.000e+00\n",
      "   0.000e+00  0.000e+00  0.000e+00  0.000e+00  0.000e+00  0.000e+00\n",
      "   0.000e+00  0.000e+00  0.000e+00  0.000e+00  0.000e+00  0.000e+00]\n",
      " [ 4.800e-04 -2.689e-02  0.000e+00  7.100e-04  5.560e-03  2.000e-02\n",
      "   1.400e-04  0.000e+00  0.000e+00  0.000e+00  0.000e+00  0.000e+00\n",
      "   0.000e+00  0.000e+00  0.000e+00  0.000e+00  0.000e+00  0.000e+00\n",
      "   0.000e+00  0.000e+00  0.000e+00  0.000e+00  0.000e+00  0.000e+00\n",
      "   0.000e+00  0.000e+00  0.000e+00  0.000e+00  0.000e+00  0.000e+00]\n",
      " [ 1.200e-04  0.000e+00 -1.090e-02  1.800e-04  5.560e-03  5.000e-03\n",
      "   4.000e-05  0.000e+00  0.000e+00  0.000e+00  0.000e+00  0.000e+00\n",
      "   0.000e+00  0.000e+00  0.000e+00  0.000e+00  0.000e+00  0.000e+00\n",
      "   0.000e+00  0.000e+00  0.000e+00  0.000e+00  0.000e+00  0.000e+00\n",
      "   0.000e+00  0.000e+00  0.000e+00  0.000e+00  0.000e+00  0.000e+00]\n",
      " [ 0.000e+00  4.000e-04  0.000e+00 -3.181e-02  0.000e+00  0.000e+00\n",
      "   0.000e+00  7.100e-04  5.560e-03  2.500e-02  0.000e+00  0.000e+00\n",
      "   1.400e-04  0.000e+00  0.000e+00  0.000e+00  0.000e+00  0.000e+00\n",
      "   0.000e+00  0.000e+00  0.000e+00  0.000e+00  0.000e+00  0.000e+00\n",
      "   0.000e+00  0.000e+00  0.000e+00  0.000e+00  0.000e+00  0.000e+00]\n",
      " [ 0.000e+00  5.560e-03  1.110e-03  0.000e+00 -7.740e-03  0.000e+00\n",
      "   0.000e+00  0.000e+00  8.900e-04  0.000e+00  1.800e-04  0.000e+00\n",
      "   0.000e+00  0.000e+00  0.000e+00  0.000e+00  0.000e+00  0.000e+00\n",
      "   0.000e+00  0.000e+00  0.000e+00  0.000e+00  0.000e+00  0.000e+00\n",
      "   0.000e+00  0.000e+00  0.000e+00  0.000e+00  0.000e+00  0.000e+00]\n",
      " [ 0.000e+00  1.444e-02  2.890e-03  0.000e+00  0.000e+00 -1.840e-02\n",
      "   0.000e+00  0.000e+00  0.000e+00  8.900e-04  0.000e+00  1.800e-04\n",
      "   0.000e+00  0.000e+00  0.000e+00  0.000e+00  0.000e+00  0.000e+00\n",
      "   0.000e+00  0.000e+00  0.000e+00  0.000e+00  0.000e+00  0.000e+00\n",
      "   0.000e+00  0.000e+00  0.000e+00  0.000e+00  0.000e+00  0.000e+00]\n",
      " [ 0.000e+00  0.000e+00  4.000e-04  0.000e+00  0.000e+00  0.000e+00\n",
      "  -3.118e-02  1.800e-04  0.000e+00  0.000e+00  5.560e-03  2.500e-02\n",
      "   4.000e-05  0.000e+00  0.000e+00  0.000e+00  0.000e+00  0.000e+00\n",
      "   0.000e+00  0.000e+00  0.000e+00  0.000e+00  0.000e+00  0.000e+00\n",
      "   0.000e+00  0.000e+00  0.000e+00  0.000e+00  0.000e+00  0.000e+00]\n",
      " [ 0.000e+00  0.000e+00  0.000e+00  2.000e-04  0.000e+00  0.000e+00\n",
      "   0.000e+00 -3.076e-02  0.000e+00  0.000e+00  0.000e+00  0.000e+00\n",
      "   0.000e+00  5.560e-03  2.500e-02  0.000e+00  0.000e+00  0.000e+00\n",
      "   0.000e+00  0.000e+00  0.000e+00  0.000e+00  0.000e+00  0.000e+00\n",
      "   0.000e+00  0.000e+00  0.000e+00  0.000e+00  0.000e+00  0.000e+00]\n",
      " [ 0.000e+00  0.000e+00  0.000e+00  4.440e-03  3.200e-04  0.000e+00\n",
      "   8.900e-04  0.000e+00 -3.206e-02  0.000e+00  0.000e+00  0.000e+00\n",
      "   0.000e+00  7.100e-04  0.000e+00  1.400e-04  0.000e+00  5.560e-03\n",
      "   2.000e-02  0.000e+00  0.000e+00  0.000e+00  0.000e+00  0.000e+00\n",
      "   0.000e+00  0.000e+00  0.000e+00  0.000e+00  0.000e+00  0.000e+00]\n",
      " [ 0.000e+00  0.000e+00  0.000e+00  1.156e-02  0.000e+00  3.200e-04\n",
      "   2.310e-03  0.000e+00  0.000e+00 -4.060e-02  0.000e+00  0.000e+00\n",
      "   0.000e+00  0.000e+00  7.100e-04  0.000e+00  1.400e-04  0.000e+00\n",
      "   5.560e-03  2.000e-02  0.000e+00  0.000e+00  0.000e+00  0.000e+00\n",
      "   0.000e+00  0.000e+00  0.000e+00  0.000e+00  0.000e+00  0.000e+00]\n",
      " [ 0.000e+00  0.000e+00  0.000e+00  1.110e-03  8.000e-05  0.000e+00\n",
      "   2.200e-04  0.000e+00  0.000e+00  0.000e+00 -1.219e-02  0.000e+00\n",
      "   0.000e+00  1.800e-04  0.000e+00  4.000e-05  0.000e+00  5.560e-03\n",
      "   5.000e-03  0.000e+00  0.000e+00  0.000e+00  0.000e+00  0.000e+00\n",
      "   0.000e+00  0.000e+00  0.000e+00  0.000e+00  0.000e+00  0.000e+00]\n",
      " [ 0.000e+00  0.000e+00  0.000e+00  2.890e-03  0.000e+00  8.000e-05\n",
      "   5.800e-04  0.000e+00  0.000e+00  0.000e+00  0.000e+00 -1.433e-02\n",
      "   0.000e+00  0.000e+00  1.800e-04  0.000e+00  4.000e-05  0.000e+00\n",
      "   5.560e-03  5.000e-03  0.000e+00  0.000e+00  0.000e+00  0.000e+00\n",
      "   0.000e+00  0.000e+00  0.000e+00  0.000e+00  0.000e+00  0.000e+00]\n",
      " [ 0.000e+00  0.000e+00  0.000e+00  0.000e+00  0.000e+00  0.000e+00\n",
      "   2.000e-04  0.000e+00  0.000e+00  0.000e+00  0.000e+00  0.000e+00\n",
      "  -3.076e-02  0.000e+00  0.000e+00  5.560e-03  2.500e-02  0.000e+00\n",
      "   0.000e+00  0.000e+00  0.000e+00  0.000e+00  0.000e+00  0.000e+00\n",
      "   0.000e+00  0.000e+00  0.000e+00  0.000e+00  0.000e+00  0.000e+00]\n",
      " [ 0.000e+00  0.000e+00  0.000e+00  0.000e+00  0.000e+00  0.000e+00\n",
      "   0.000e+00  4.440e-03  2.000e-04  0.000e+00  0.000e+00  0.000e+00\n",
      "   8.900e-04 -3.609e-02  0.000e+00  0.000e+00  0.000e+00  0.000e+00\n",
      "   0.000e+00  0.000e+00  5.560e-03  2.500e-02  0.000e+00  0.000e+00\n",
      "   0.000e+00  0.000e+00  0.000e+00  0.000e+00  0.000e+00  0.000e+00]\n",
      " [ 0.000e+00  0.000e+00  0.000e+00  0.000e+00  0.000e+00  0.000e+00\n",
      "   0.000e+00  1.156e-02  0.000e+00  2.000e-04  0.000e+00  0.000e+00\n",
      "   2.310e-03  0.000e+00 -4.463e-02  0.000e+00  0.000e+00  0.000e+00\n",
      "   0.000e+00  0.000e+00  0.000e+00  5.560e-03  0.000e+00  0.000e+00\n",
      "   2.500e-02  0.000e+00  0.000e+00  0.000e+00  0.000e+00  0.000e+00]\n",
      " [ 0.000e+00  0.000e+00  0.000e+00  0.000e+00  0.000e+00  0.000e+00\n",
      "   0.000e+00  1.110e-03  0.000e+00  0.000e+00  2.000e-04  0.000e+00\n",
      "   2.200e-04  0.000e+00  0.000e+00 -3.209e-02  0.000e+00  0.000e+00\n",
      "   0.000e+00  0.000e+00  0.000e+00  0.000e+00  5.560e-03  2.500e-02\n",
      "   0.000e+00  0.000e+00  0.000e+00  0.000e+00  0.000e+00  0.000e+00]\n",
      " [ 0.000e+00  0.000e+00  0.000e+00  0.000e+00  0.000e+00  0.000e+00\n",
      "   0.000e+00  2.890e-03  0.000e+00  0.000e+00  0.000e+00  2.000e-04\n",
      "   5.800e-04  0.000e+00  0.000e+00  0.000e+00 -3.423e-02  0.000e+00\n",
      "   0.000e+00  0.000e+00  0.000e+00  0.000e+00  0.000e+00  5.560e-03\n",
      "   0.000e+00  2.500e-02  0.000e+00  0.000e+00  0.000e+00  0.000e+00]\n",
      " [ 0.000e+00  0.000e+00  0.000e+00  0.000e+00  0.000e+00  0.000e+00\n",
      "   0.000e+00  0.000e+00  5.560e-03  0.000e+00  1.110e-03  0.000e+00\n",
      "   0.000e+00  0.000e+00  0.000e+00  0.000e+00  0.000e+00 -7.740e-03\n",
      "   0.000e+00  0.000e+00  8.900e-04  0.000e+00  1.800e-04  0.000e+00\n",
      "   0.000e+00  0.000e+00  0.000e+00  0.000e+00  0.000e+00  0.000e+00]\n",
      " [ 0.000e+00  0.000e+00  0.000e+00  0.000e+00  0.000e+00  0.000e+00\n",
      "   0.000e+00  0.000e+00  1.444e-02  5.560e-03  2.890e-03  1.110e-03\n",
      "   0.000e+00  0.000e+00  0.000e+00  0.000e+00  0.000e+00  0.000e+00\n",
      "  -2.507e-02  0.000e+00  0.000e+00  8.900e-04  0.000e+00  1.800e-04\n",
      "   0.000e+00  0.000e+00  0.000e+00  0.000e+00  0.000e+00  0.000e+00]\n",
      " [ 0.000e+00  0.000e+00  0.000e+00  0.000e+00  0.000e+00  0.000e+00\n",
      "   0.000e+00  0.000e+00  0.000e+00  1.444e-02  0.000e+00  2.890e-03\n",
      "   0.000e+00  0.000e+00  0.000e+00  0.000e+00  0.000e+00  0.000e+00\n",
      "   0.000e+00 -1.840e-02  0.000e+00  0.000e+00  0.000e+00  0.000e+00\n",
      "   8.900e-04  1.800e-04  0.000e+00  0.000e+00  0.000e+00  0.000e+00]\n",
      " [ 0.000e+00  0.000e+00  0.000e+00  0.000e+00  0.000e+00  0.000e+00\n",
      "   0.000e+00  0.000e+00  0.000e+00  0.000e+00  0.000e+00  0.000e+00\n",
      "   0.000e+00  4.440e-03  0.000e+00  8.900e-04  0.000e+00  1.600e-04\n",
      "   0.000e+00  0.000e+00 -3.105e-02  0.000e+00  0.000e+00  0.000e+00\n",
      "   0.000e+00  0.000e+00  5.560e-03  2.000e-02  0.000e+00  0.000e+00]\n",
      " [ 0.000e+00  0.000e+00  0.000e+00  0.000e+00  0.000e+00  0.000e+00\n",
      "   0.000e+00  0.000e+00  0.000e+00  0.000e+00  0.000e+00  0.000e+00\n",
      "   0.000e+00  1.156e-02  4.440e-03  2.310e-03  8.900e-04  0.000e+00\n",
      "   1.600e-04  0.000e+00  0.000e+00 -4.492e-02  0.000e+00  0.000e+00\n",
      "   0.000e+00  0.000e+00  0.000e+00  5.560e-03  2.000e-02  0.000e+00]\n",
      " [ 0.000e+00  0.000e+00  0.000e+00  0.000e+00  0.000e+00  0.000e+00\n",
      "   0.000e+00  0.000e+00  0.000e+00  0.000e+00  0.000e+00  0.000e+00\n",
      "   0.000e+00  1.110e-03  0.000e+00  2.200e-04  0.000e+00  4.000e-05\n",
      "   0.000e+00  0.000e+00  0.000e+00  0.000e+00 -1.193e-02  0.000e+00\n",
      "   0.000e+00  0.000e+00  5.560e-03  5.000e-03  0.000e+00  0.000e+00]\n",
      " [ 0.000e+00  0.000e+00  0.000e+00  0.000e+00  0.000e+00  0.000e+00\n",
      "   0.000e+00  0.000e+00  0.000e+00  0.000e+00  0.000e+00  0.000e+00\n",
      "   0.000e+00  2.890e-03  1.110e-03  5.800e-04  2.200e-04  0.000e+00\n",
      "   4.000e-05  0.000e+00  0.000e+00  0.000e+00  0.000e+00 -1.540e-02\n",
      "   0.000e+00  0.000e+00  0.000e+00  5.560e-03  5.000e-03  0.000e+00]\n",
      " [ 0.000e+00  0.000e+00  0.000e+00  0.000e+00  0.000e+00  0.000e+00\n",
      "   0.000e+00  0.000e+00  0.000e+00  0.000e+00  0.000e+00  0.000e+00\n",
      "   0.000e+00  0.000e+00  1.156e-02  0.000e+00  2.310e-03  0.000e+00\n",
      "   0.000e+00  1.600e-04  0.000e+00  0.000e+00  0.000e+00  0.000e+00\n",
      "  -3.959e-02  0.000e+00  0.000e+00  0.000e+00  5.560e-03  2.000e-02]\n",
      " [ 0.000e+00  0.000e+00  0.000e+00  0.000e+00  0.000e+00  0.000e+00\n",
      "   0.000e+00  0.000e+00  0.000e+00  0.000e+00  0.000e+00  0.000e+00\n",
      "   0.000e+00  0.000e+00  2.890e-03  0.000e+00  5.800e-04  0.000e+00\n",
      "   0.000e+00  4.000e-05  0.000e+00  0.000e+00  0.000e+00  0.000e+00\n",
      "   0.000e+00 -1.407e-02  0.000e+00  0.000e+00  5.560e-03  5.000e-03]\n",
      " [ 0.000e+00  0.000e+00  0.000e+00  0.000e+00  0.000e+00  0.000e+00\n",
      "   0.000e+00  0.000e+00  0.000e+00  0.000e+00  0.000e+00  0.000e+00\n",
      "   0.000e+00  0.000e+00  0.000e+00  0.000e+00  0.000e+00  0.000e+00\n",
      "   0.000e+00  0.000e+00  5.560e-03  0.000e+00  1.110e-03  0.000e+00\n",
      "   0.000e+00  0.000e+00 -6.670e-03  0.000e+00  0.000e+00  0.000e+00]\n",
      " [ 0.000e+00  0.000e+00  0.000e+00  0.000e+00  0.000e+00  0.000e+00\n",
      "   0.000e+00  0.000e+00  0.000e+00  0.000e+00  0.000e+00  0.000e+00\n",
      "   0.000e+00  0.000e+00  0.000e+00  0.000e+00  0.000e+00  0.000e+00\n",
      "   0.000e+00  0.000e+00  1.444e-02  5.560e-03  2.890e-03  1.110e-03\n",
      "   0.000e+00  0.000e+00  0.000e+00 -2.400e-02  0.000e+00  0.000e+00]\n",
      " [ 0.000e+00  0.000e+00  0.000e+00  0.000e+00  0.000e+00  0.000e+00\n",
      "   0.000e+00  0.000e+00  0.000e+00  0.000e+00  0.000e+00  0.000e+00\n",
      "   0.000e+00  0.000e+00  0.000e+00  0.000e+00  0.000e+00  0.000e+00\n",
      "   0.000e+00  0.000e+00  0.000e+00  1.444e-02  0.000e+00  2.890e-03\n",
      "   5.560e-03  1.110e-03  0.000e+00  0.000e+00 -2.400e-02  0.000e+00]\n",
      " [ 0.000e+00  0.000e+00  0.000e+00  0.000e+00  0.000e+00  0.000e+00\n",
      "   0.000e+00  0.000e+00  0.000e+00  0.000e+00  0.000e+00  0.000e+00\n",
      "   0.000e+00  0.000e+00  0.000e+00  0.000e+00  0.000e+00  0.000e+00\n",
      "   0.000e+00  0.000e+00  0.000e+00  0.000e+00  0.000e+00  0.000e+00\n",
      "   1.444e-02  2.890e-03  0.000e+00  0.000e+00  0.000e+00 -1.733e-02]]\n"
     ]
    }
   ],
   "source": [
    "\n",
    "q = balance_ctmc(get_adj_matrix(generator))\n",
    "print(q)\n"
   ]
  },
  {
   "cell_type": "code",
   "execution_count": 11,
   "metadata": {},
   "outputs": [
    {
     "data": {
      "text/plain": [
       "[array([0.00153224, 0.00304027, 0.00150137, 0.00673611, 0.0037149 ,\n",
       "        0.00395013, 0.0013744 , 0.02694407, 0.00966474, 0.01194192,\n",
       "        0.00511333, 0.00685888, 0.00538809, 0.04008653, 0.05163223,\n",
       "        0.00901663, 0.01346305, 0.01204612, 0.01344174, 0.01577986,\n",
       "        0.06112179, 0.07352737, 0.03228512, 0.04565327, 0.09310934,\n",
       "        0.05797607, 0.07786243, 0.08527107, 0.10578536, 0.1241816 ])]"
      ]
     },
     "execution_count": 11,
     "metadata": {},
     "output_type": "execute_result"
    }
   ],
   "source": [
    "\n",
    "dtmc = pydtmc.MarkovChain(convert_to_dtmc(q))\n",
    "dtmc.pi"
   ]
  },
  {
   "cell_type": "code",
   "execution_count": 12,
   "metadata": {},
   "outputs": [
    {
     "name": "stdout",
     "output_type": "stream",
     "text": [
      "8.881937753601145e-16\n",
      "[0.00153224 0.00304027 0.00150137 0.00673611 0.0037149  0.00395013\n",
      " 0.0013744  0.02694407 0.00966474 0.01194192 0.00511333 0.00685888\n",
      " 0.00538809 0.04008653 0.05163223 0.00901663 0.01346305 0.01204612\n",
      " 0.01344174 0.01577986 0.06112179 0.07352737 0.03228512 0.04565327\n",
      " 0.09310934 0.05797607 0.07786243 0.08527107 0.10578536 0.1241816 ]\n",
      "[0.00153224 0.00304027 0.00150137 0.00673611 0.0037149  0.00395013\n",
      " 0.0013744  0.02694407 0.00966474 0.01194192 0.00511333 0.00685888\n",
      " 0.00538809 0.04008653 0.05163223 0.00901663 0.01346305 0.01204612\n",
      " 0.01344174 0.01577986 0.06112179 0.07352737 0.03228512 0.04565327\n",
      " 0.09310934 0.05797607 0.07786243 0.08527107 0.10578536 0.1241816 ]\n",
      "0.9999999999999991\n",
      "1.0\n"
     ]
    }
   ],
   "source": [
    "\n",
    "m = q.copy().transpose()\n",
    "\n",
    "norm = np.ones(len(m))\n",
    "m =np.vstack((m,norm))\n",
    "b= np.zeros(len(m))\n",
    "b[-1] = 1\n",
    "x = np.linalg.lstsq(m,b,rcond=None)[0]\n",
    "\n",
    "print(np.linalg.norm( (m@x) - b ,2).min())\n",
    "print(x)\n",
    "print(dtmc.pi[0])\n",
    "print(sum(x))\n",
    "print(dtmc.pi[0].sum())"
   ]
  },
  {
   "cell_type": "markdown",
   "metadata": {},
   "source": []
  },
  {
   "cell_type": "code",
   "execution_count": 13,
   "metadata": {},
   "outputs": [
    {
     "name": "stdout",
     "output_type": "stream",
     "text": [
      "Ndelay 0.11196714936175503 Expected 1.857884604525876\n",
      "Ncpu 0.7434078473504155 Expected 0.29853861389602415\n",
      "Nio1 1.2235856923949746 Expected 0.28564336304184074\n",
      "Nio2 0.9210393108928528 Expected 0.557933418536259\n"
     ]
    }
   ],
   "source": [
    "ordered = generator.ordered\n",
    "Ndelay = 0\n",
    "Ncpu = 0\n",
    "Nio1 = 0\n",
    "Nio2 = 0\n",
    "\n",
    "\n",
    "for state in ordered:\n",
    "    p = x[ordered.index(state)]\n",
    "    Ndelay += (state.Ndelay * p)\n",
    "    Ncpu += (state.Ncpu * p)\n",
    "    Nio1 += (state.Nio1 * p)\n",
    "    Nio2 += (state.Nio2 * p)\n",
    "    pass\n",
    "\n",
    "print(\"Ndelay {} Expected {}\".format(Ndelay,meanClients[\"DELAY\"][3]))\n",
    "print(\"Ncpu {} Expected {}\".format(Ncpu,meanClients[\"CPU\"][3]))\n",
    "print(\"Nio1 {} Expected {}\".format(Nio1,meanClients[\"IO1\"][3]))\n",
    "print(\"Nio2 {} Expected {}\".format(Nio2,meanClients[\"IO2\"][3]))\n"
   ]
  }
 ],
 "metadata": {
  "kernelspec": {
   "display_name": ".venv",
   "language": "python",
   "name": "python3"
  },
  "language_info": {
   "codemirror_mode": {
    "name": "ipython",
    "version": 3
   },
   "file_extension": ".py",
   "mimetype": "text/x-python",
   "name": "python",
   "nbconvert_exporter": "python",
   "pygments_lexer": "ipython3",
   "version": "3.11.6"
  }
 },
 "nbformat": 4,
 "nbformat_minor": 2
}
