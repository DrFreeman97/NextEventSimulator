{
 "cells": [
  {
   "cell_type": "code",
   "execution_count": 2,
   "metadata": {},
   "outputs": [],
   "source": [
    "import numpy as np \n",
    "import numpy.random as npr\n",
    "import pydtmc"
   ]
  },
  {
   "cell_type": "code",
   "execution_count": 3,
   "metadata": {},
   "outputs": [],
   "source": [
    "matrix = np.array([\n",
    "    [0,1,0,0,0],\n",
    "    [0,0,1,0,0],\n",
    "    [0.004,0.006,0.9,0.065,0.025],\n",
    "    [0,0,1,0,0],\n",
    "    [0,0,1,0,0]],np.dtype('d'))\n",
    "    "
   ]
  },
  {
   "cell_type": "code",
   "execution_count": 4,
   "metadata": {},
   "outputs": [
    {
     "name": "stdout",
     "output_type": "stream",
     "text": [
      "[[0.00362319 0.00905797 0.9057971  0.05887681 0.02264493]\n",
      " [0.00362319 0.00905797 0.9057971  0.05887681 0.02264493]\n",
      " [0.00362319 0.00905797 0.9057971  0.05887681 0.02264493]\n",
      " [0.00362319 0.00905797 0.9057971  0.05887681 0.02264493]\n",
      " [0.00362319 0.00905797 0.9057971  0.05887681 0.02264493]]\n",
      "[0.00362319 0.00905797 0.9057971  0.05887681 0.02264493]\n",
      "1.0\n"
     ]
    }
   ],
   "source": [
    "def steady_solution(mat: np.ndarray, iterations: int):\n",
    "    m= mat.copy()\n",
    "    for i in range(iterations):\n",
    "        m = (m@m).round(10)\n",
    "    return m\n",
    "\n",
    "pi=np.zeros(len(matrix))\n",
    "pi[0]=1\n",
    "P_inf = steady_solution(matrix,1000)\n",
    "pi=pi@P_inf\n",
    "print(P_inf)\n",
    "print(pi)\n",
    "print(pi.sum())"
   ]
  },
  {
   "cell_type": "code",
   "execution_count": 5,
   "metadata": {},
   "outputs": [
    {
     "name": "stdout",
     "output_type": "stream",
     "text": [
      "[  1.           2.5        250.00000041  16.25000003   6.25      ]\n"
     ]
    }
   ],
   "source": [
    "for i in range(1,len(pi)):\n",
    "    pi[i] = pi[i]*1/pi[0]\n",
    "    pass\n",
    "pi[0] = 1\n",
    "print(pi)"
   ]
  },
  {
   "cell_type": "code",
   "execution_count": 8,
   "metadata": {},
   "outputs": [
    {
     "name": "stdout",
     "output_type": "stream",
     "text": [
      "\n",
      "DISCRETE-TIME MARKOV CHAIN\n",
      " SIZE:           5\n",
      " RANK:           3\n",
      " CLASSES:        1\n",
      "  > RECURRENT:   1\n",
      "  > TRANSIENT:   0\n",
      " ERGODIC:        YES\n",
      "  > APERIODIC:   YES\n",
      "  > IRREDUCIBLE: YES\n",
      " ABSORBING:      NO\n",
      " REGULAR:        YES\n",
      " REVERSIBLE:     NO\n",
      " SYMMETRIC:      NO\n",
      "\n"
     ]
    }
   ],
   "source": [
    "chain = pydtmc.MarkovChain(matrix,[\"Delay\",\"SWAP_IN\",\"CPU\",\"IO1\",\"IO2\"])\n",
    "print(chain)"
   ]
  },
  {
   "cell_type": "code",
   "execution_count": 20,
   "metadata": {},
   "outputs": [
    {
     "name": "stdout",
     "output_type": "stream",
     "text": [
      "[[0.    1.    0.    0.    0.   ]\n",
      " [0.    0.    1.    0.    0.   ]\n",
      " [0.004 0.006 0.9   0.065 0.025]\n",
      " [0.    0.    1.    0.    0.   ]\n",
      " [0.    0.    1.    0.    0.   ]]\n"
     ]
    }
   ],
   "source": [
    "pt : pydtmc.MarkovChain  = chain.birth_death([0.1,0.1,0.1,0.1,0],[0,0.3,0.3,0.3,0.3])\n",
    "print()"
   ]
  }
 ],
 "metadata": {
  "kernelspec": {
   "display_name": ".venv",
   "language": "python",
   "name": "python3"
  },
  "language_info": {
   "codemirror_mode": {
    "name": "ipython",
    "version": 3
   },
   "file_extension": ".py",
   "mimetype": "text/x-python",
   "name": "python",
   "nbconvert_exporter": "python",
   "pygments_lexer": "ipython3",
   "version": "3.11.4"
  }
 },
 "nbformat": 4,
 "nbformat_minor": 2
}
